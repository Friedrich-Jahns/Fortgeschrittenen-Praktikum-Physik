{
 "cells": [
  {
   "cell_type": "code",
   "execution_count": 2,
   "metadata": {},
   "outputs": [],
   "source": [
    "import scipy\n",
    "import matplotlib.pyplot as plt\n",
    "import numpy as np\n",
    "import lmfit\n",
    "from lmfit.models import LinearModel, LorentzianModel"
   ]
  },
  {
   "cell_type": "code",
   "execution_count": 3,
   "metadata": {},
   "outputs": [],
   "source": [
    "def voigt1(x,s1,g1,o1,scale1):\n",
    "    return scale1*scipy.special.voigt_profile(x-o1,s1,g1)#+a*x**2+b\n",
    "def voigt2(x,s1,s2,g1,g2,o1,o2,scale1,scale2):\n",
    "    return scale1*scipy.special.voigt_profile(x-o1,s1,g1)+scale2*scipy.special.voigt_profile(x-o2,s2,g2)#+a*x**2+b"
   ]
  },
  {
   "cell_type": "code",
   "execution_count": 4,
   "metadata": {},
   "outputs": [
    {
     "data": {
      "text/plain": [
       "[<matplotlib.lines.Line2D at 0x1af39d81340>]"
      ]
     },
     "execution_count": 4,
     "metadata": {},
     "output_type": "execute_result"
    },
    {
     "data": {
      "image/png": "[encoded data removed]",
      "text/plain": [
       "<Figure size 432x288 with 1 Axes>"
      ]
     },
     "metadata": {
      "needs_background": "light"
     },
     "output_type": "display_data"
    }
   ],
   "source": [
    "path =  'Data\\si111_30_20_ohne.xy'\n",
    "with open(path) as tf:\n",
    "    data = np.loadtxt(tf,delimiter=\" \").T\n",
    "\n",
    "err = np.zeros(len(data[1]))\n",
    "for i in range(len(err)):\n",
    "    err[i] = (data[1,i])**0.5\n",
    "data = np.vstack([data,err])\n",
    "plt.plot(data[0],data[1])"
   ]
  },
  {
   "cell_type": "code",
   "execution_count": 5,
   "metadata": {},
   "outputs": [
    {
     "data": {
      "text/plain": [
       "[<matplotlib.lines.Line2D at 0x1af39ebeb50>]"
      ]
     },
     "execution_count": 5,
     "metadata": {},
     "output_type": "execute_result"
    },
    {
     "data": {
      "image/png": "[encoded data removed]",
      "text/plain": [
       "<Figure size 432x288 with 1 Axes>"
      ]
     },
     "metadata": {
      "needs_background": "light"
     },
     "output_type": "display_data"
    }
   ],
   "source": [
    "x=[[],[]]\n",
    "for i in range(len(data[1])):\n",
    "    if 94<data[0,i]<96:\n",
    "        x[0].append(data[0,i])\n",
    "        x[1].append(data[1,i])\n",
    "plt.plot(x[0],x[1])"
   ]
  },
  {
   "cell_type": "code",
   "execution_count": 18,
   "metadata": {},
   "outputs": [
    {
     "name": "stdout",
     "output_type": "stream",
     "text": [
      "4577\n"
     ]
    }
   ],
   "source": [
    "for i in range(len(data[0])):\n",
    "    if data[0,i]>=53.25:\n",
    "        print(i)\n",
    "        break"
   ]
  },
  {
   "cell_type": "markdown",
   "metadata": {},
   "source": [
    "b1 = [25,26.2]->[1196,1339]  \n",
    "a1 = [28,29]->[1555,1675]  \n",
    "b2 = [52.25,53.25]->[4457,4577]  \n",
    "a2 = [58.5,59.4]->[5205,5313]  \n",
    "b3 = [82.5,84.5]->[8077,8317]  \n",
    "a3 = [94,96]->[9454,9693]  "
   ]
  },
  {
   "cell_type": "code",
   "execution_count": 7,
   "metadata": {},
   "outputs": [
    {
     "name": "stderr",
     "output_type": "stream",
     "text": [
      "<ipython-input-7-7a27cfe66d2f>:16: RuntimeWarning: divide by zero encountered in true_divide\n",
      "  out_voigt = model_voigt.fit(data[1,667:733],x=data[0,667:733],params=pars_voigt,weights=1/data[2,667:733],nan_policy='propagate')\n"
     ]
    }
   ],
   "source": [
    "#modell erstellen  \n",
    "model_voigt = lmfit.model.Model(voigt1)  \n",
    "\n",
    "#parameter erstellen\n",
    "pars_voigt = model_voigt.make_params()\n",
    "\n",
    "#Parameter Optimieren\n",
    "pars_voigt[\"s1\"].set(value=0.0137,min=0,max=1)\n",
    "pars_voigt[\"g1\"].set(value=0.0137,min=0,max=1)\n",
    "#pars_voigt[\"a\"].set(0.1)\n",
    "#pars_voigt[\"b\"].set(20)\n",
    "pars_voigt[\"o1\"].set(value=25.6,min=25.5,max=25.75)\n",
    "pars_voigt[\"scale1\"].set(7000)\n",
    "\n",
    "#Fitten\n",
    "out_voigt = model_voigt.fit(data[1,667:733],x=data[0,667:733],params=pars_voigt,weights=1/data[2,667:733],nan_policy='propagate')\n",
    "b1f=out_voigt.fit_report()\n",
    "b1p=np.array([np.arange(25,26,0.001),out_voigt.eval(x=np.arange(25,26,0.001))])"
   ]
  },
  {
   "cell_type": "code",
   "execution_count": 8,
   "metadata": {},
   "outputs": [],
   "source": [
    "#modell erstellen b1 = [25,26.2]->[1196,1339]  \n",
    "model_voigt = lmfit.model.Model(voigt1)  \n",
    "\n",
    "#parameter erstellen\n",
    "pars_voigt = model_voigt.make_params()\n",
    "\n",
    "#Parameter Optimieren\n",
    "pars_voigt[\"s1\"].set(value=0.0137,min=0,max=1)\n",
    "pars_voigt[\"g1\"].set(value=0.0137,min=0,max=1)\n",
    "#pars_voigt[\"a\"].set(0.1)\n",
    "#pars_voigt[\"b\"].set(20)\n",
    "pars_voigt[\"o1\"].set(value=25.5,min=25,max=26.2)\n",
    "pars_voigt[\"scale1\"].set(100)\n",
    "\n",
    "#Fitten\n",
    "out_voigt = model_voigt.fit(data[1,1196:1339],x=data[0,1196:1339],params=pars_voigt,weights=1/data[2,1196:1339],nan_policy='propagate')\n",
    "b3f=out_voigt.fit_report()\n",
    "b3p=np.array([np.arange(25,26.2,0.001),out_voigt.eval(x=np.arange(25,26.2,0.001))])"
   ]
  },
  {
   "cell_type": "code",
   "execution_count": 9,
   "metadata": {},
   "outputs": [],
   "source": [
    "#modell erstellen a1 = [28,29]->[1555,1675]    \n",
    "model_voigt = lmfit.model.Model(voigt2)  \n",
    "\n",
    "#parameter erstellen\n",
    "pars_voigt = model_voigt.make_params()\n",
    "\n",
    "#Parameter Optimieren\n",
    "pars_voigt[\"s1\"].set(value=0.0137,min=0,max=1)\n",
    "pars_voigt[\"g1\"].set(value=0.0137,min=0,max=1)\n",
    "pars_voigt[\"s2\"].set(value=0.0147,min=0,max=1)\n",
    "pars_voigt[\"g2\"].set(value=0.0147,min=0,max=1)\n",
    "#pars_voigt[\"a\"].set(0.1)\n",
    "#pars_voigt[\"b\"].set(20)\n",
    "pars_voigt[\"o1\"].set(value=28.4,min=28,max=29)\n",
    "pars_voigt[\"o2\"].set(value=28.5,min=28,max=29)\n",
    "pars_voigt[\"scale1\"].set(25000)\n",
    "pars_voigt[\"scale2\"].set(15000)\n",
    " \n",
    "#Fitten\n",
    "out_voigt = model_voigt.fit(data[1,1555:1675],x=data[0,1555:1675],params=pars_voigt,weights=1/data[2,1555:1675],nan_policy='propagate')\n",
    "a3f=out_voigt.fit_report()\n",
    "a3p=np.array([np.arange(28,29,0.001),out_voigt.eval(x=np.arange(28,29,0.001))])"
   ]
  },
  {
   "cell_type": "code",
   "execution_count": 17,
   "metadata": {},
   "outputs": [
    {
     "name": "stdout",
     "output_type": "stream",
     "text": [
      "[[Model]]\n",
      "    Model(voigt1)\n",
      "[[Fit Statistics]]\n",
      "    # fitting method   = leastsq\n",
      "    # function evals   = 1618\n",
      "    # data points      = 120\n",
      "    # variables        = 4\n",
      "    chi-square         = 607.640303\n",
      "    reduced chi-square = 5.23827847\n",
      "    Akaike info crit   = 202.650963\n",
      "    Bayesian info crit = 213.800930\n",
      "##  Warning: uncertainties could not be estimated:\n",
      "    scale1:  at boundary\n",
      "[[Variables]]\n",
      "    s1:      4.5789e-06 (init = 0.084)\n",
      "    g1:      0.47742826 (init = 0.041)\n",
      "    o1:      52.6966581 (init = 52.677)\n",
      "    scale1:  25.0000000 (init = 100)\n"
     ]
    },
    {
     "data": {
      "image/png": "[encoded data removed]",
      "text/plain": [
       "<Figure size 432x432 with 2 Axes>"
      ]
     },
     "metadata": {
      "needs_background": "light"
     },
     "output_type": "display_data"
    }
   ],
   "source": [
    "#modell erstellen    b2 = [52.25,53.25]->[4457,4577]4457:4577\n",
    "model_voigt = lmfit.model.Model(voigt1)  \n",
    "\n",
    "#parameter erstellen\n",
    "pars_voigt = model_voigt.make_params()\n",
    "\n",
    "#Parameter Optimieren\n",
    "pars_voigt[\"s1\"].set(value=0.084,min=0,max=1)\n",
    "pars_voigt[\"g1\"].set(value=0.041,min=0,max=1)\n",
    "#pars_voigt[\"a\"].set(0.1)\n",
    "#pars_voigt[\"b\"].set(20)\n",
    "pars_voigt[\"o1\"].set(value=52.677,min=52.6,max=52.8)\n",
    "pars_voigt[\"scale1\"].set(100,min=25)\n",
    "\n",
    "#Fitten\n",
    "out_voigt = model_voigt.fit(data[1,4457:4577],x=data[0,4457:4577],weights=1/data[2,4457:4577],params=pars_voigt,nan_policy='propagate')\n",
    "out_voigt.plot()\n",
    "print(out_voigt.fit_report())\n",
    "b3f=out_voigt.fit_report()\n",
    "b3p=np.array([np.arange(52.25,53.25,0.001),out_voigt.eval(x=np.arange(52.25,53.25,0.001))])"
   ]
  }
 ],
 "metadata": {
  "kernelspec": {
   "display_name": "Python 3.9.1 64-bit",
   "language": "python",
   "name": "python3"
  },
  "language_info": {
   "codemirror_mode": {
    "name": "ipython",
    "version": 3
   },
   "file_extension": ".py",
   "mimetype": "text/x-python",
   "name": "python",
   "nbconvert_exporter": "python",
   "pygments_lexer": "ipython3",
   "version": "3.9.1"
  },
  "orig_nbformat": 4,
  "vscode": {
   "interpreter": {
    "hash": "130d85b736f455fb007f8de9bdd1e41b2b61fc7f886a6550e3d523aa94b3e114"
   }
  }
 },
 "nbformat": 4,
 "nbformat_minor": 2
}
