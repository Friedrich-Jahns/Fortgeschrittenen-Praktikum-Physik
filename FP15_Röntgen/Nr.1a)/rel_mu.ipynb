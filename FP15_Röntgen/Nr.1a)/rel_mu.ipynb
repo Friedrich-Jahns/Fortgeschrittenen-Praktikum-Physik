{
 "cells": [
  {
   "cell_type": "code",
   "execution_count": 2,
   "metadata": {},
   "outputs": [],
   "source": [
    "import numpy as np\n",
    "import os\n",
    "from uncertainties import ufloat \n",
    "from uncertainties import ufloat_fromstr\n",
    "from uncertainties import wrap\n",
    "import uncertainties"
   ]
  },
  {
   "cell_type": "code",
   "execution_count": 3,
   "metadata": {},
   "outputs": [],
   "source": [
    "def div(a,b):\n",
    "    return a/b\n"
   ]
  },
  {
   "cell_type": "code",
   "execution_count": 5,
   "metadata": {},
   "outputs": [
    {
     "name": "stdout",
     "output_type": "stream",
     "text": [
      "############################voigt_fits_30_15_ohne.txt\n",
      "I1b/I1a1: 0.31461+/-0.01849\n",
      "I1a2/I1a1: 0.49588+/-0.04434\n",
      "I2b/I2a1: 0.37570+/-0.03422\n",
      "I2a2/I2a1: 0.51236+/-0.05257\n",
      "I3b/I3a1: 0.23053+/-0.00572\n",
      "I3a2/I3a1: 0.55257+/-0.01635\n",
      ".\n",
      "3988.7+/-145.3  12678+/-585  6286.9+/-481.4\n",
      "11.169+/-0.812  29.730+/-1.630  15.232+/-1.321\n",
      "522.91+/-9.45  2268.3+/-38.6  1253.4+/-30.4\n",
      ".\n",
      "i2b/i1b: 0.0028003+/-0.0002278\n",
      "i2a1/i1a1: 0.0023449+/-0.0001680\n",
      "i2a2/i1a2: 0.0024229+/-0.0002803\n",
      "i3b/i1b: 0.13110+/-0.00533\n",
      "i3a1/i1a1: 0.17891+/-0.00880\n",
      "i3a2/i1a2: 0.19937+/-0.01601\n",
      "############################voigt_fits_30_20_ohne.txt\n",
      "I1b/I1a1: 0.81104+/-0.02167\n",
      "I1a2/I1a1: 0.32589+/-0.00620\n",
      "I2b/I2a1: 0.98467+/-0.09290\n",
      "I2a2/I2a1: 0.44391+/-0.07535\n",
      "I3b/I3a1: 0.88407+/-0.01078\n",
      "I3a2/I3a1: 0.43999+/-0.00604\n",
      ".\n",
      "13297+/-342  16395+/-120  5342.9+/-93.8\n",
      "10.524+/-0.537  10.688+/-0.848  4.7446+/-0.7119\n",
      "2193.8+/-21.9  2481.5+/-17.4  1091.8+/-12.9\n",
      ".\n",
      "i2b/i1b: 0.00079150+/-0.00004522\n",
      "i2a1/i1a1: 0.00065193+/-0.00005196\n",
      "i2a2/i1a2: 0.00088803+/-0.00013416\n",
      "i3b/i1b: 0.16499+/-0.00455\n",
      "i3a1/i1a1: 0.15136+/-0.00153\n",
      "i3a2/i1a2: 0.20435+/-0.00432\n",
      "############################voigt_fits_40_20_ohne.txt\n",
      "I1b/I1a1: 0.83327+/-0.01962\n",
      "I1a2/I1a1: 0.32770+/-0.00637\n",
      "I2b/I2a1: 1.1399+/-0.1065\n",
      "I2a2/I2a1: 0.56550+/-0.09999\n",
      "I3b/I3a1: 0.90315+/-0.00977\n",
      "I3a2/I3a1: 0.43170+/-0.00548\n",
      ".\n",
      "21849+/-488  26220+/-195  8592.4+/-154.3\n",
      "20.000+/-0.827  17.546+/-1.471  9.9220+/-1.5447\n",
      "3657.1+/-32.1  4049.3+/-25.6  1748.1+/-19.2\n",
      ".\n",
      "i2b/i1b: 0.00091539+/-0.00004304\n",
      "i2a1/i1a1: 0.00066916+/-0.00005631\n",
      "i2a2/i1a2: 0.0011547+/-0.0001810\n",
      "i3b/i1b: 0.16739+/-0.00402\n",
      "i3a1/i1a1: 0.15443+/-0.00151\n",
      "i3a2/i1a2: 0.20344+/-0.00429\n",
      "############################voigt_fits_40_40_ohne.txt\n",
      "I1b/I1a1: 0.91248+/-0.02533\n",
      "I1a2/I1a1: 0.39770+/-0.01542\n",
      "I2b/I2a1: 1.1409+/-0.1186\n",
      "I2a2/I2a1: 0.55364+/-0.11255\n",
      "I3b/I3a1: 0.86151+/-0.01005\n",
      "I3a2/I3a1: 0.46191+/-0.00599\n",
      ".\n",
      "36624+/-801  40137+/-686  15962+/-555\n",
      "33.968+/-1.414  29.772+/-2.837  16.483+/-2.960\n",
      "6707.0+/-63.6  7785.1+/-52.9  3596.0+/-39.7\n",
      ".\n",
      "i2b/i1b: 0.00092749+/-0.00004361\n",
      "i2a1/i1a1: 0.00074178+/-0.00007180\n",
      "i2a2/i1a2: 0.0010326+/-0.0001889\n",
      "i3b/i1b: 0.18313+/-0.00437\n",
      "i3a1/i1a1: 0.19396+/-0.00357\n",
      "i3a2/i1a2: 0.22528+/-0.00822\n"
     ]
    }
   ],
   "source": [
    "for i in os.listdir('results_1-4_ohne'):\n",
    "    path = 'results_1-4_ohne/'+i\n",
    "    with open(path) as tf:\n",
    "        data = np.loadtxt(tf,delimiter=\"\\t\",skiprows=1,dtype=\"str\")\n",
    "    \n",
    "    i1b ,i1a1,i1a2 = ufloat(data[0,0],float(data[0,1])),ufloat(data[1,0],float(data[1,1])),ufloat(data[1,2],float(data[1,3]))\n",
    "    i2b ,i2a1,i2a2 = ufloat(data[2,0],float(data[2,1])),ufloat(data[3,0],float(data[3,1])),ufloat(data[3,2],float(data[3,3]))\n",
    "    i3b ,i3a1,i3a2 = ufloat(data[4,0],float(data[4,1])),ufloat(data[5,0],float(data[5,1])),ufloat(data[5,2],float(data[5,3]))\n",
    "\n",
    "\n",
    "    print(\"############################\"+i)\n",
    "    print(\"I1b/I1a1: \"+str(div(i1b,i1a1).format(\":1.5\")))\n",
    "    print(\"I1a2/I1a1: \"+str(div(i1a2,i1a1).format(\":1.5\")))\n",
    "    print(\"I2b/I2a1: \"+str(div(i2b,i2a1).format(\":1.5\")))\n",
    "    print(\"I2a2/I2a1: \"+str(div(i2a2,i2a1).format(\":1.5\")))\n",
    "    print(\"I3b/I3a1: \"+str(div(i3b,i3a1).format(\":1.5\")))\n",
    "    print(\"I3a2/I3a1: \"+str(div(i3a2,i3a1).format(\":1.5\")))\n",
    "    print(\".\")\n",
    "    print(str(i1b.format(\":1.5\"))+\"  \"+str(i1a1.format(\":1.5\"))+\"  \"+str(i1a2.format(\":1.5\")))\n",
    "    print(str(i2b.format(\":1.5\"))+\"  \"+str(i2a1.format(\":1.5\"))+\"  \"+str(i2a2.format(\":1.5\")))\n",
    "    print(str(i3b.format(\":1.5\"))+\"  \"+str(i3a1.format(\":1.5\"))+\"  \"+str(i3a2.format(\":1.5\")))\n",
    "    print(\".\")\n",
    "    print(\"i2b/i1b: \"+str(div(i2b,i1b).format(\":1.5\")))\n",
    "    print(\"i2a1/i1a1: \"+str(div(i2a1,i1a1).format(\":1.5\")))\n",
    "    print(\"i2a2/i1a2: \"+str(div(i2a2,i1a2).format(\":1.5\")))\n",
    "    print(\"i3b/i1b: \"+str(div(i3b,i1b).format(\":1.5\")))\n",
    "    print(\"i3a1/i1a1: \"+str(div(i3a1,i1a1).format(\":1.5\")))\n",
    "    print(\"i3a2/i1a2: \"+str(div(i3a2,i1a2).format(\":1.5\")))\n"
   ]
  }
 ],
 "metadata": {
  "kernelspec": {
   "display_name": "Python 3.10.7 64-bit",
   "language": "python",
   "name": "python3"
  },
  "language_info": {
   "codemirror_mode": {
    "name": "ipython",
    "version": 3
   },
   "file_extension": ".py",
   "mimetype": "text/x-python",
   "name": "python",
   "nbconvert_exporter": "python",
   "pygments_lexer": "ipython3",
   "version": "3.10.7"
  },
  "orig_nbformat": 4,
  "vscode": {
   "interpreter": {
    "hash": "e7370f93d1d0cde622a1f8e1c04877d8463912d04d973331ad4851f04de6915a"
   }
  }
 },
 "nbformat": 4,
 "nbformat_minor": 2
}
