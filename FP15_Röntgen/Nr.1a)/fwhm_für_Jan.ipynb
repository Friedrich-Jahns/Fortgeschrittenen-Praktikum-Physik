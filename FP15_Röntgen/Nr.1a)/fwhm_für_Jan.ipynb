{
 "cells": [
  {
   "cell_type": "code",
   "execution_count": 4,
   "metadata": {},
   "outputs": [],
   "source": [
    "import numpy as np\n",
    "import os\n",
    "from uncertainties import ufloat \n",
    "from uncertainties import ufloat_fromstr\n",
    "from uncertainties import wrap\n",
    "import uncertainties"
   ]
  },
  {
   "cell_type": "code",
   "execution_count": 10,
   "metadata": {},
   "outputs": [
    {
     "name": "stdout",
     "output_type": "stream",
     "text": [
      "############################voigt_fits_30_15_ohne.txt\n",
      "Beta:0.035749+-0.004784\n",
      "Alpha1:0.033297+-0.004798\n",
      "Alpha2:0.038360+-0.007009\n",
      "Beta:0.10396+-0.02317\n",
      "Alpha1:0.043354+-0.007412\n",
      "Alpha2:0.050412+-0.009640\n",
      "Beta:0.087563+-0.003562\n",
      "Alpha1:0.061025+-0.004318\n",
      "Alpha2:0.071768+-0.007565\n",
      "############################voigt_fits_30_20_ohne.txt\n",
      "Beta:0.044663+-0.003794\n",
      "Alpha1:0.041325+-0.001116\n",
      "Alpha2:0.038262+-0.001326\n",
      "Beta:0.087406+-0.015719\n",
      "Alpha1:0.072176+-0.013981\n",
      "Alpha2:0.075056+-0.025665\n",
      "Beta:0.11256+-0.00455\n",
      "Alpha1:0.088324+-0.001380\n",
      "Alpha2:0.091070+-0.003772\n",
      "############################voigt_fits_40_20_ohne.txt\n",
      "Beta:0.044168+-0.003533\n",
      "Alpha1:0.042037+-0.001165\n",
      "Alpha2:0.038326+-0.001379\n",
      "Beta:0.088681+-0.005201\n",
      "Alpha1:0.068165+-0.012689\n",
      "Alpha2:0.076881+-0.033452\n",
      "Beta:0.10581+-0.00444\n",
      "Alpha1:0.086528+-0.001830\n",
      "Alpha2:0.091186+-0.003560\n",
      "############################voigt_fits_40_40_ohne.txt\n",
      "Beta:0.043042+-0.003829\n",
      "Alpha1:0.046358+-0.002340\n",
      "Alpha2:0.036781+-0.003023\n",
      "Beta:0.088492+-0.015647\n",
      "Alpha1:0.071179+-0.013702\n",
      "Alpha2:0.080834+-0.051176\n",
      "Beta:0.10476+-0.00200\n",
      "Alpha1:0.081060+-0.002721\n",
      "Alpha2:0.084330+-0.003650\n"
     ]
    }
   ],
   "source": [
    "for i in os.listdir('results_1-4_ohne'):\n",
    "    path = 'results_1-4_ohne/'+i\n",
    "    with open(path) as tf:\n",
    "        data = np.loadtxt(tf,delimiter=\"\\t\",skiprows=1,dtype=\"str\")\n",
    "\n",
    "    print(\"############################\"+i)\n",
    "    print(\"Beta:\"+str(data[0,16]+\"+-\"+data[0,17]))\n",
    "    print(\"Alpha1:\"+str(data[1,16]+\"+-\"+data[1,17]))\n",
    "    print(\"Alpha2:\"+str(data[1,18])+\"+-\"+data[1,19])\n",
    "    print(\"Beta:\"+str(data[2,16]+\"+-\"+data[2,17]))\n",
    "    print(\"Alpha1:\"+str(data[3,16]+\"+-\"+data[3,17]))\n",
    "    print(\"Alpha2:\"+str(data[3,18])+\"+-\"+data[3,19])\n",
    "    print(\"Beta:\"+str(data[4,16]+\"+-\"+data[4,17]))\n",
    "    print(\"Alpha1:\"+str(data[5,16]+\"+-\"+data[5,17]))\n",
    "    print(\"Alpha2:\"+str(data[5,18])+\"+-\"+data[5,19])"
   ]
  }
 ],
 "metadata": {
  "kernelspec": {
   "display_name": "Python 3.9.1 64-bit",
   "language": "python",
   "name": "python3"
  },
  "language_info": {
   "codemirror_mode": {
    "name": "ipython",
    "version": 3
   },
   "file_extension": ".py",
   "mimetype": "text/x-python",
   "name": "python",
   "nbconvert_exporter": "python",
   "pygments_lexer": "ipython3",
   "version": "3.9.1"
  },
  "orig_nbformat": 4,
  "vscode": {
   "interpreter": {
    "hash": "130d85b736f455fb007f8de9bdd1e41b2b61fc7f886a6550e3d523aa94b3e114"
   }
  }
 },
 "nbformat": 4,
 "nbformat_minor": 2
}
