{
 "cells": [
  {
   "cell_type": "code",
   "execution_count": 4,
   "metadata": {},
   "outputs": [],
   "source": [
    "import numpy as np\n",
    "import os\n",
    "from uncertainties import ufloat \n",
    "from uncertainties import ufloat_fromstr\n",
    "from uncertainties import wrap\n",
    "import uncertainties"
   ]
  },
  {
   "cell_type": "code",
   "execution_count": 8,
   "metadata": {},
   "outputs": [
    {
     "name": "stdout",
     "output_type": "stream",
     "text": [
      "############################voigt_fits_30_15_ohne.txt\n",
      "0.035749\n",
      "0.033297\n",
      "0.10396\n",
      "0.043354\n",
      "0.087563\n",
      "0.061025\n",
      "############################voigt_fits_30_20_ohne.txt\n",
      "0.044663\n",
      "0.041325\n",
      "0.087406\n",
      "0.072176\n",
      "0.11256\n",
      "0.088324\n",
      "############################voigt_fits_40_20_ohne.txt\n",
      "0.044168\n",
      "0.042037\n",
      "0.088681\n",
      "0.068165\n",
      "0.10581\n",
      "0.086528\n",
      "############################voigt_fits_40_40_ohne.txt\n",
      "0.043042\n",
      "0.046358\n",
      "0.088492\n",
      "0.071179\n",
      "0.10476\n",
      "0.081060\n"
     ]
    }
   ],
   "source": [
    "for i in os.listdir('results_1-4_ohne'):\n",
    "    path = 'results_1-4_ohne/'+i\n",
    "    with open(path) as tf:\n",
    "        data = np.loadtxt(tf,delimiter=\"\\t\",skiprows=1,dtype=\"str\")\n",
    "\n",
    "    print(\"############################\"+i)\n",
    "    print(data[0,16])\n",
    "    print(data[1,16])\n",
    "    print(data[2,16])\n",
    "    print(data[3,16])\n",
    "    print(data[4,16])\n",
    "    print(data[5,16])"
   ]
  }
 ],
 "metadata": {
  "kernelspec": {
   "display_name": "Python 3.9.1 64-bit",
   "language": "python",
   "name": "python3"
  },
  "language_info": {
   "codemirror_mode": {
    "name": "ipython",
    "version": 3
   },
   "file_extension": ".py",
   "mimetype": "text/x-python",
   "name": "python",
   "nbconvert_exporter": "python",
   "pygments_lexer": "ipython3",
   "version": "3.9.1"
  },
  "orig_nbformat": 4,
  "vscode": {
   "interpreter": {
    "hash": "130d85b736f455fb007f8de9bdd1e41b2b61fc7f886a6550e3d523aa94b3e114"
   }
  }
 },
 "nbformat": 4,
 "nbformat_minor": 2
}
