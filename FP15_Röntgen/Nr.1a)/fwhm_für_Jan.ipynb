{
 "cells": [
  {
   "cell_type": "code",
   "execution_count": 4,
   "metadata": {},
   "outputs": [],
   "source": [
    "import numpy as np\n",
    "import os\n",
    "from uncertainties import ufloat \n",
    "from uncertainties import ufloat_fromstr\n",
    "from uncertainties import wrap\n",
    "import uncertainties"
   ]
  },
  {
   "cell_type": "code",
   "execution_count": 5,
   "metadata": {},
   "outputs": [
    {
     "name": "stdout",
     "output_type": "stream",
     "text": [
      "############################voigt_fits_30_15_ohne.txt\n",
      "Beta: 25.62740079563319+-0.0008513358845538686\n",
      "Alpha1: 28.418509871262874+-0.000826550934488004\n",
      "Alpha2: 28.493928407592577+-0.0013683194341844735\n",
      "Beta: 52.68899808149922+-0.004052662103804683\n",
      "Alpha1: 58.82809514645954+-0.001266503592931413\n",
      "Alpha2: 58.99047543688853+-0.0021986220706152007\n",
      "Beta: 83.50091901852898+-0.0010686382163175097\n",
      "Alpha1: 94.9347647493668+-0.0006263922608512029\n",
      "Alpha2: 95.24311639972679+-0.001034341279800488\n",
      "############################voigt_fits_30_20_ohne.txt\n",
      "Beta: 25.609523729154667+-0.000711518268180434\n",
      "Alpha1: 28.399258185997653+-0.00016732811716806917\n",
      "Alpha2: 28.472751418040975+-0.00024704062127265655\n",
      "Beta: 52.67687419934564+-0.0020468915035829023\n",
      "Alpha1: 58.81307124773011+-0.002538326271510057\n",
      "Alpha2: 58.979059191672086+-0.004434881569138558\n",
      "Beta: 83.48473042386638+-0.000752597762874586\n",
      "Alpha1: 94.9203105283283+-0.00036328490677498004\n",
      "Alpha2: 95.23262236234962+-0.0005568925887178942\n",
      "############################voigt_fits_40_20_ohne.txt\n",
      "Beta: 25.610781695376993+-0.0006265265715407313\n",
      "Alpha1: 28.400434528728933+-0.00017340021760041922\n",
      "Alpha2: 28.47399878227322+-0.00025170959199734\n",
      "Beta: 52.677+-0.002028336655442603\n",
      "Alpha1: 58.81272393122711+-0.0023840436184043483\n",
      "Alpha2: 58.9797847533431+-0.003988103706541528\n",
      "Beta: 83.48585653664169+-0.0006324271217940905\n",
      "Alpha1: 94.92100958085626+-0.00035126191584535844\n",
      "Alpha2: 95.23352735784209+-0.0005304412042272929\n",
      "############################voigt_fits_40_40_ohne.txt\n",
      "Beta: 25.612110877389856+-0.000622355914372436\n",
      "Alpha1: 28.400619443542244+-0.0003830613909474757\n",
      "Alpha2: 28.47429029690697+-0.0005086504210926616\n",
      "Beta: 52.679255364772395+-0.001598104721278037\n",
      "Alpha1: 58.81356994077151+-0.002614943604025451\n",
      "Alpha2: 58.97842580794408+-0.004577421546214707\n",
      "Beta: 83.48743804768446+-0.0006613032865266792\n",
      "Alpha1: 94.92179175094229+-0.00032818097991180477\n",
      "Alpha2: 95.23418016790205+-0.0005109141473507918\n"
     ]
    }
   ],
   "source": [
    "for i in os.listdir('results_1-4_ohne'):\n",
    "    path = 'results_1-4_ohne/'+i\n",
    "    with open(path) as tf:\n",
    "        data = np.loadtxt(tf,delimiter=\"\\t\",skiprows=1,dtype=\"str\")\n",
    "\n",
    "    print(\"############################\"+i)\n",
    "    print(\"Beta: \"+str(data[0,4]+\"+-\"+data[0,5]))\n",
    "    print(\"Alpha1: \"+str(data[1,4]+\"+-\"+data[1,5]))\n",
    "    print(\"Alpha2: \"+str(data[1,6])+\"+-\"+data[1,7])\n",
    "    print(\"Beta: \"+str(data[2,4]+\"+-\"+data[2,5]))\n",
    "    print(\"Alpha1: \"+str(data[3,4]+\"+-\"+data[3,5]))\n",
    "    print(\"Alpha2: \"+str(data[3,6])+\"+-\"+data[3,7])\n",
    "    print(\"Beta: \"+str(data[4,4]+\"+-\"+data[4,5]))\n",
    "    print(\"Alpha1: \"+str(data[5,4]+\"+-\"+data[5,5]))\n",
    "    print(\"Alpha2: \"+str(data[5,6])+\"+-\"+data[5,7])"
   ]
  }
 ],
 "metadata": {
  "kernelspec": {
   "display_name": "Python 3.10.7 64-bit",
   "language": "python",
   "name": "python3"
  },
  "language_info": {
   "codemirror_mode": {
    "name": "ipython",
    "version": 3
   },
   "file_extension": ".py",
   "mimetype": "text/x-python",
   "name": "python",
   "nbconvert_exporter": "python",
   "pygments_lexer": "ipython3",
   "version": "3.10.7"
  },
  "orig_nbformat": 4,
  "vscode": {
   "interpreter": {
    "hash": "e7370f93d1d0cde622a1f8e1c04877d8463912d04d973331ad4851f04de6915a"
   }
  }
 },
 "nbformat": 4,
 "nbformat_minor": 2
}
