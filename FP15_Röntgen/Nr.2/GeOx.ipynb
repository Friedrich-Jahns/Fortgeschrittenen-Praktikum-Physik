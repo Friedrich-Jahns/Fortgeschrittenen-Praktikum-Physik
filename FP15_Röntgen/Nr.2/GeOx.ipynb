{
 "cells": [
  {
   "cell_type": "code",
   "execution_count": 138,
   "metadata": {},
   "outputs": [],
   "source": [
    "import scipy\n",
    "import matplotlib.pyplot as plt\n",
    "import numpy as np\n",
    "import lmfit\n",
    "from lmfit.models import LinearModel, LorentzianModel\n",
    "from uncertainties import unumpy as up\n",
    "from uncertainties import ufloat\n",
    "from uncertainties import wrap\n",
    "import uncertainties as uc\n",
    "from pathlib import Path"
   ]
  },
  {
   "cell_type": "code",
   "execution_count": 139,
   "metadata": {},
   "outputs": [],
   "source": [
    "def voigt1(x,s1,g1,o1,scale1,c):\n",
    "    return scale1*scipy.special.voigt_profile(x-o1,s1,g1)+c\n",
    "def voigt2(x,s1,s2,g1,g2,o1,o2,scale1,scale2,c):\n",
    "    return scale1*scipy.special.voigt_profile(x-o1,s1,g1)+scale2*scipy.special.voigt_profile(x-o2,s2,g2)+c"
   ]
  },
  {
   "cell_type": "code",
   "execution_count": 140,
   "metadata": {},
   "outputs": [],
   "source": [
    "def FWHM(s_p,g_p):\n",
    "    s = ufloat(s_p.value,s_p.stderr)\n",
    "    g = ufloat(g_p.value,g_p.stderr)\n",
    "    fg=s*(8*up.log(2))**0.5\n",
    "    fl=2*g\n",
    "    return 0.5346*fl+((fg)**2+(0.2166*fl**2))**0.5\n",
    "\n",
    "def uvoigt1(out_voigt):\n",
    "    x_p,s1_p,g1_p,o1_p,scale1_p=out_voigt.result.params['o1'],out_voigt.result.params['s1'],out_voigt.result.params['g1'],out_voigt.result.params['o1'],out_voigt.result.params['scale1']\n",
    "    x = ufloat(x_p.value,x_p.stderr)\n",
    "    s1 = ufloat(s1_p.value,s1_p.stderr)\n",
    "    g1 = ufloat(g1_p.value,g1_p.stderr)\n",
    "    o1 = ufloat(o1_p.value,o1_p.stderr)\n",
    "    scale1 = ufloat(scale1_p.value,scale1_p.stderr)\n",
    "    uv=wrap(voigt1)\n",
    "    return uv(x,s1,g1,o1,scale1)\n",
    "\n",
    "def uvoigt2(out_voigt):\n",
    "    x1_p,s1_p,g1_p,o1_p,scale1_p=out_voigt.result.params['o1'],out_voigt.result.params['s1'],out_voigt.result.params['g1'],out_voigt.result.params['o1'],out_voigt.result.params['scale1']\n",
    "    x2_p,s2_p,g2_p,o2_p,scale2_p=out_voigt.result.params['o2'],out_voigt.result.params['s2'],out_voigt.result.params['g2'],out_voigt.result.params['o2'],out_voigt.result.params['scale2']\n",
    "    x1 = ufloat(x1_p.value,x1_p.stderr)\n",
    "    s1 = ufloat(s1_p.value,s1_p.stderr)\n",
    "    g1 = ufloat(g1_p.value,g1_p.stderr)\n",
    "    o1 = ufloat(o1_p.value,o1_p.stderr)\n",
    "    scale1 = ufloat(scale1_p.value,scale1_p.stderr)\n",
    "    x2 = ufloat(x2_p.value,x2_p.stderr)\n",
    "    s2 = ufloat(s2_p.value,s2_p.stderr)\n",
    "    g2 = ufloat(g2_p.value,g2_p.stderr)\n",
    "    o2 = ufloat(o2_p.value,o2_p.stderr)\n",
    "    scale2 = ufloat(scale2_p.value,scale2_p.stderr)\n",
    "\n",
    "\n",
    "    uv=wrap(voigt2)\n",
    "\n",
    "    p1 = uv(x1,s1,s2,g1,g2,o1,o2,scale1,scale2)\n",
    "    p2 = uv(x2,s1,s2,g1,g2,o1,o2,scale1,scale2)\n",
    "    return p1,p2\n",
    "\n",
    "def uvoigt(out_voigt):\n",
    "    try:\n",
    "        return uvoigt2(out_voigt)\n",
    "    except:\n",
    "        return uvoigt1(out_voigt)"
   ]
  },
  {
   "cell_type": "code",
   "execution_count": 141,
   "metadata": {},
   "outputs": [],
   "source": [
    "def FWHM(s_p,g_p):\n",
    "    s = ufloat(s_p.value,s_p.stderr)\n",
    "    g = ufloat(g_p.value,g_p.stderr)\n",
    "    fg=s*(8*up.log(2))**0.5\n",
    "    fl=2*g\n",
    "    return 0.5346*fl+((fg)**2+(0.2166*fl**2))**0.5\n",
    "\n",
    "def uvoigt1(out_voigt):\n",
    "    x_p,s1_p,g1_p,o1_p,scale1_p=out_voigt.result.params['o1'],out_voigt.result.params['s1'],out_voigt.result.params['g1'],out_voigt.result.params['o1'],out_voigt.result.params['scale1']\n",
    "    x = ufloat(x_p.value,x_p.stderr)\n",
    "    s1 = ufloat(s1_p.value,s1_p.stderr)\n",
    "    g1 = ufloat(g1_p.value,g1_p.stderr)\n",
    "    o1 = ufloat(o1_p.value,o1_p.stderr)\n",
    "    scale1 = ufloat(scale1_p.value,scale1_p.stderr)\n",
    "    uv=wrap(voigt1)\n",
    "    return uv(x,s1,g1,o1,scale1)\n",
    "\n",
    "def uvoigt2(out_voigt):\n",
    "    x1_p,s1_p,g1_p,o1_p,scale1_p=out_voigt.result.params['o1'],out_voigt.result.params['s1'],out_voigt.result.params['g1'],out_voigt.result.params['o1'],out_voigt.result.params['scale1']\n",
    "    x2_p,s2_p,g2_p,o2_p,scale2_p=out_voigt.result.params['o2'],out_voigt.result.params['s2'],out_voigt.result.params['g2'],out_voigt.result.params['o2'],out_voigt.result.params['scale2']\n",
    "    x1 = ufloat(x1_p.value,x1_p.stderr)\n",
    "    s1 = ufloat(s1_p.value,s1_p.stderr)\n",
    "    g1 = ufloat(g1_p.value,g1_p.stderr)\n",
    "    o1 = ufloat(o1_p.value,o1_p.stderr)\n",
    "    scale1 = ufloat(scale1_p.value,scale1_p.stderr)\n",
    "    x2 = ufloat(x2_p.value,x2_p.stderr)\n",
    "    s2 = ufloat(s2_p.value,s2_p.stderr)\n",
    "    g2 = ufloat(g2_p.value,g2_p.stderr)\n",
    "    o2 = ufloat(o2_p.value,o2_p.stderr)\n",
    "    scale2 = ufloat(scale2_p.value,scale2_p.stderr)\n",
    "\n",
    "\n",
    "    uv=wrap(voigt2)\n",
    "\n",
    "    p1 = uv(x1,s1,s2,g1,g2,o1,o2,scale1,scale2)\n",
    "    p2 = uv(x2,s1,s2,g1,g2,o1,o2,scale1,scale2)\n",
    "    return p1,p2\n",
    "\n",
    "def uvoigt(out_voigt):\n",
    "    try:\n",
    "        return uvoigt2(out_voigt)\n",
    "    except:\n",
    "        return uvoigt1(out_voigt)"
   ]
  },
  {
   "cell_type": "code",
   "execution_count": 142,
   "metadata": {},
   "outputs": [
    {
     "data": {
      "text/plain": [
       "[<matplotlib.lines.Line2D at 0x7f3f2ffe1390>]"
      ]
     },
     "execution_count": 142,
     "metadata": {},
     "output_type": "execute_result"
    },
    {
     "data": {
      "image/png": "[encoded data removed]",
      "text/plain": [
       "<Figure size 432x288 with 1 Axes>"
      ]
     },
     "metadata": {
      "needs_background": "light"
     },
     "output_type": "display_data"
    }
   ],
   "source": [
    "path =  'Data/Kopie_GeOx_Selbst_1000_24h_lang.x_y'\n",
    "with open(path) as tf:\n",
    "    data = np.loadtxt(tf,delimiter=\" \").T\n",
    "\n",
    "err = np.zeros(len(data[1]))\n",
    "for i in range(len(err)):\n",
    "    err[i] = (data[1,i])**0.5\n",
    "data = np.vstack([data,err])\n",
    "plt.plot(data[0],data[1])"
   ]
  },
  {
   "cell_type": "code",
   "execution_count": 143,
   "metadata": {},
   "outputs": [
    {
     "data": {
      "text/plain": [
       "[<matplotlib.lines.Line2D at 0x7f3f2fe72aa0>]"
      ]
     },
     "execution_count": 143,
     "metadata": {},
     "output_type": "execute_result"
    },
    {
     "data": {
      "image/png": "[encoded data removed]",
      "text/plain": [
       "<Figure size 432x288 with 1 Axes>"
      ]
     },
     "metadata": {
      "needs_background": "light"
     },
     "output_type": "display_data"
    }
   ],
   "source": [
    "x=[[],[]]\n",
    "for i in range(len(data[1])):\n",
    "    if 61<data[0,i]<62.5:\n",
    "        x[0].append(data[0,i])\n",
    "        x[1].append(data[1,i])\n",
    "plt.plot(x[0],x[1])"
   ]
  },
  {
   "cell_type": "markdown",
   "metadata": {},
   "source": [
    "b1 (20.3,21)=[589:667]  \n",
    "b2 (25.5,26.6)=[1167:1289]  \n",
    "b3 (35.5,36.6)=[2278:2400]  \n",
    "b4 (37.5,38.7)=[2500:2634]  \n",
    "b5 (39.2,40)=[2689:2778]  \n",
    "b6 (41.4,42.5)=[2934:3056]  \n",
    "b7 (44.6,45.5)=[3289:3389]   \n",
    "a8 (48,49.5)=[3667:3834]  \n",
    "a9 (52.75,54)=[4195:4334]  \n",
    "b10 (55.75,57)=[4528:4667]  \n",
    "b11 (58.25,59.5)=[4806:4945]  \n",
    "b12 (61,62.5)=[5112:5278]  "
   ]
  },
  {
   "cell_type": "code",
   "execution_count": 144,
   "metadata": {},
   "outputs": [
    {
     "name": "stdout",
     "output_type": "stream",
     "text": [
      "5278\n"
     ]
    }
   ],
   "source": [
    "for i in range(len(data[0])):\n",
    "    if data[0,i]>=62.5:\n",
    "        print(i)\n",
    "        break"
   ]
  },
  {
   "cell_type": "code",
   "execution_count": 145,
   "metadata": {},
   "outputs": [],
   "source": [
    "#modell erstellen b1 (20.3,21)=[589:667]\n",
    "model_voigt = lmfit.model.Model(voigt1)  \n",
    "\n",
    "#parameter erstellen\n",
    "pars_voigt = model_voigt.make_params()\n",
    "\n",
    "#Parameter Optimieren\n",
    "pars_voigt[\"s1\"].set(value=0.0137,min=0,max=1)\n",
    "pars_voigt[\"g1\"].set(value=0.0137,min=0,max=1)\n",
    "pars_voigt[\"o1\"].set(value=20.5,min=20.3,max=21)\n",
    "pars_voigt[\"scale1\"].set(7000)\n",
    "pars_voigt[\"c\"].set(1)\n",
    "\n",
    "#Fitten\n",
    "out_voigt = model_voigt.fit(data[1,589:667],x=data[0,589:667],params=pars_voigt,weights=1/data[2,589:667],nan_policy='propagate')\n",
    "b1f=out_voigt.fit_report()\n",
    "b1p=np.array([np.arange(20.3,21,0.001),out_voigt.eval(x=np.arange(20.3,21,0.001))])\n",
    "\n"
   ]
  },
  {
   "cell_type": "code",
   "execution_count": 146,
   "metadata": {},
   "outputs": [],
   "source": [
    "#modell erstellen b2 (25.5,26.6)=[1167:1289]\n",
    "model_voigt = lmfit.model.Model(voigt1)  \n",
    "\n",
    "#parameter erstellen\n",
    "pars_voigt = model_voigt.make_params()\n",
    "\n",
    "#Parameter Optimieren\n",
    "pars_voigt[\"s1\"].set(value=0.0137,min=0,max=1)\n",
    "pars_voigt[\"g1\"].set(value=0.0137,min=0,max=1)\n",
    "pars_voigt[\"o1\"].set(value=26,min=25.5,max=26.6)\n",
    "pars_voigt[\"scale1\"].set(7000)\n",
    "pars_voigt[\"c\"].set(1)\n",
    "\n",
    "#Fitten\n",
    "out_voigt = model_voigt.fit(data[1,1167:1289],x=data[0,1167:1289],params=pars_voigt,weights=1/data[2,1167:1289],nan_policy='propagate')\n",
    "b2f=out_voigt.fit_report()\n",
    "b2p=np.array([np.arange(25.5,26.6,0.001),out_voigt.eval(x=np.arange(25.5,26.6,0.001))])\n",
    "\n",
    "\n"
   ]
  },
  {
   "cell_type": "code",
   "execution_count": 147,
   "metadata": {},
   "outputs": [],
   "source": [
    "#modell erstellen b3 (35.5,36.6)=[2278:2400]\n",
    "model_voigt = lmfit.model.Model(voigt1)  \n",
    "\n",
    "#parameter erstellen\n",
    "pars_voigt = model_voigt.make_params()\n",
    "\n",
    "#Parameter Optimieren\n",
    "pars_voigt[\"s1\"].set(value=0.0137,min=0,max=1)\n",
    "pars_voigt[\"g1\"].set(value=0.0137,min=0,max=1)\n",
    "pars_voigt[\"o1\"].set(value=36,min=35.5,max=36.6)\n",
    "pars_voigt[\"scale1\"].set(7000)\n",
    "pars_voigt[\"c\"].set(1)\n",
    "\n",
    "#Fitten\n",
    "out_voigt = model_voigt.fit(data[1,2278:2400],x=data[0,2278:2400],params=pars_voigt,weights=1/data[2,2278:2400],nan_policy='propagate')\n",
    "b3f=out_voigt.fit_report()\n",
    "b3p=np.array([np.arange(35.5,36.6,0.001),out_voigt.eval(x=np.arange(35.5,36.6,0.001))])\n",
    "\n"
   ]
  },
  {
   "cell_type": "code",
   "execution_count": 148,
   "metadata": {},
   "outputs": [],
   "source": [
    "#modell erstellen b4 (37.5,38.7)=[2500:2634]\n",
    "model_voigt = lmfit.model.Model(voigt1)  \n",
    "\n",
    "#parameter erstellen\n",
    "pars_voigt = model_voigt.make_params()\n",
    "\n",
    "#Parameter Optimieren\n",
    "pars_voigt[\"s1\"].set(value=0.0137,min=0,max=1)\n",
    "pars_voigt[\"g1\"].set(value=0.0137,min=0,max=1)\n",
    "pars_voigt[\"o1\"].set(value=38,min=37.5,max=38.7)\n",
    "pars_voigt[\"scale1\"].set(7000)\n",
    "pars_voigt[\"c\"].set(1)\n",
    "\n",
    "#Fitten\n",
    "out_voigt = model_voigt.fit(data[1,2500:2634],x=data[0,2500:2634],params=pars_voigt,weights=1/data[2,2500:2634],nan_policy='propagate')\n",
    "b4f=out_voigt.fit_report()\n",
    "b4p=np.array([np.arange(37.5,38.7,0.001),out_voigt.eval(x=np.arange(37.5,38.7,0.001))])\n",
    "\n",
    "\n"
   ]
  },
  {
   "cell_type": "code",
   "execution_count": 149,
   "metadata": {},
   "outputs": [],
   "source": [
    "#modell erstellen b5 (39.2,40)=[2689:2778]\n",
    "model_voigt = lmfit.model.Model(voigt1)  \n",
    "\n",
    "#parameter erstellen\n",
    "pars_voigt = model_voigt.make_params()\n",
    "\n",
    "#Parameter Optimieren\n",
    "pars_voigt[\"s1\"].set(value=0.0137,min=0,max=1)\n",
    "pars_voigt[\"g1\"].set(value=0.0137,min=0,max=1)\n",
    "pars_voigt[\"o1\"].set(value=39.5,min=39.2,max=40)\n",
    "pars_voigt[\"scale1\"].set(7000)\n",
    "pars_voigt[\"c\"].set(1)\n",
    "\n",
    "#Fitten\n",
    "out_voigt = model_voigt.fit(data[1,2689:2778],x=data[0,2689:2778],params=pars_voigt,weights=1/data[2,2689:2778],nan_policy='propagate')\n",
    "b5f=out_voigt.fit_report()\n",
    "b5p=np.array([np.arange(39.2,40,0.001),out_voigt.eval(x=np.arange(39.2,40,0.001))])\n",
    "\n",
    "\n"
   ]
  },
  {
   "cell_type": "code",
   "execution_count": 150,
   "metadata": {},
   "outputs": [],
   "source": [
    "#modell erstellen b6 (41.4,42.5)=[2934:3056]\n",
    "model_voigt = lmfit.model.Model(voigt1)  \n",
    "\n",
    "#parameter erstellen\n",
    "pars_voigt = model_voigt.make_params()\n",
    "\n",
    "#Parameter Optimieren\n",
    "pars_voigt[\"s1\"].set(value=0.0137,min=0,max=1)\n",
    "pars_voigt[\"g1\"].set(value=0.0137,min=0,max=1)\n",
    "pars_voigt[\"o1\"].set(value=42,min=41.4,max=42.5)\n",
    "pars_voigt[\"scale1\"].set(7000)\n",
    "pars_voigt[\"c\"].set(1)\n",
    "\n",
    "#Fitten\n",
    "out_voigt = model_voigt.fit(data[1,2934:3056],x=data[0,2934:3056],params=pars_voigt,weights=1/data[2,2934:3056],nan_policy='propagate')\n",
    "b6f=out_voigt.fit_report()\n",
    "b6p=np.array([np.arange(41.4,42.5,0.001),out_voigt.eval(x=np.arange(41.4,42.5,0.001))])\n",
    "\n",
    "\n"
   ]
  },
  {
   "cell_type": "code",
   "execution_count": 151,
   "metadata": {},
   "outputs": [],
   "source": [
    "#modell erstellen b7 (44.6,45.5)=[3289:3389]\n",
    "model_voigt = lmfit.model.Model(voigt1)  \n",
    "\n",
    "#parameter erstellen\n",
    "pars_voigt = model_voigt.make_params()\n",
    "\n",
    "#Parameter Optimieren\n",
    "pars_voigt[\"s1\"].set(value=0.0137,min=0,max=1)\n",
    "pars_voigt[\"g1\"].set(value=0.0137,min=0.01,max=1)\n",
    "pars_voigt[\"o1\"].set(value=45,min=44.6,max=45.5)\n",
    "pars_voigt[\"scale1\"].set(7000)\n",
    "pars_voigt[\"c\"].set(1)\n",
    "\n",
    "#Fitten\n",
    "out_voigt = model_voigt.fit(data[1,3289:3389],x=data[0,3289:3389],params=pars_voigt,weights=1/data[2,3289:3389],nan_policy='propagate')\n",
    "b7f=out_voigt.fit_report()\n",
    "b7p=np.array([np.arange(44.6,45.5,0.001),out_voigt.eval(x=np.arange(44.6,45.5,0.001))])\n",
    "\n",
    "\n"
   ]
  },
  {
   "cell_type": "code",
   "execution_count": 152,
   "metadata": {},
   "outputs": [],
   "source": [
    "#modell erstellen    a8 (48,49.5)=[3667:3834]\n",
    "model_voigt = lmfit.model.Model(voigt2)  \n",
    "\n",
    "#parameter erstellen\n",
    "pars_voigt = model_voigt.make_params()\n",
    "\n",
    "#Parameter Optimieren\n",
    "pars_voigt[\"s1\"].set(value=0.0137,min=0,max=1)\n",
    "pars_voigt[\"g1\"].set(value=0.0137,min=0.01,max=1)\n",
    "pars_voigt[\"s2\"].set(value=0.0147,min=0,max=1)\n",
    "pars_voigt[\"g2\"].set(value=0.0147,min=0,max=1)\n",
    "pars_voigt[\"o1\"].set(value=48.5,min=48,max=49.5)\n",
    "pars_voigt[\"o2\"].set(value=49,min=48,max=49.5)\n",
    "pars_voigt[\"scale1\"].set(25000)\n",
    "pars_voigt[\"scale2\"].set(15000)\n",
    "pars_voigt[\"c\"].set(1)\n",
    " \n",
    "#Fitten\n",
    "out_voigt = model_voigt.fit(data[1,3667:3834],x=data[0,3667:3834],params=pars_voigt,weights=1/data[2,3667:3834],nan_policy='propagate')\n",
    "a8f=out_voigt.fit_report()\n",
    "a8p=np.array([np.arange(48,49.5,0.001),out_voigt.eval(x=np.arange(48,49.5,0.001))])\n",
    "\n",
    "\n"
   ]
  },
  {
   "cell_type": "code",
   "execution_count": 153,
   "metadata": {},
   "outputs": [],
   "source": [
    "#modell erstellen    a9 (52.75,54)=[4195:4334] \n",
    "model_voigt = lmfit.model.Model(voigt2)  \n",
    "\n",
    "#parameter erstellen\n",
    "pars_voigt = model_voigt.make_params()\n",
    "\n",
    "#Parameter Optimieren\n",
    "pars_voigt[\"s1\"].set(value=0.0137,min=0,max=1)\n",
    "pars_voigt[\"g1\"].set(value=0.0137,min=0.01,max=1)\n",
    "pars_voigt[\"s2\"].set(value=0.0147,min=0,max=1)\n",
    "pars_voigt[\"g2\"].set(value=0.0147,min=0,max=1)\n",
    "pars_voigt[\"o1\"].set(value=53,min=52.75,max=54)\n",
    "pars_voigt[\"o2\"].set(value=53.5,min=52.75,max=54)\n",
    "pars_voigt[\"scale1\"].set(25000)\n",
    "pars_voigt[\"scale2\"].set(15000)\n",
    "pars_voigt[\"c\"].set(1)\n",
    " \n",
    "#Fitten\n",
    "out_voigt = model_voigt.fit(data[1,4195:4334],x=data[0,4195:4334],params=pars_voigt,weights=1/data[2,4195:4334],nan_policy='propagate')\n",
    "a9f=out_voigt.fit_report()\n",
    "a9p=np.array([np.arange(52.75,54,0.001),out_voigt.eval(x=np.arange(52.75,54,0.001))])\n",
    "\n",
    "\n"
   ]
  },
  {
   "cell_type": "code",
   "execution_count": 154,
   "metadata": {},
   "outputs": [],
   "source": [
    "#modell erstellen b10 (55.75,57)=[4528:4667] \n",
    "model_voigt = lmfit.model.Model(voigt1)  \n",
    "\n",
    "#parameter erstellen\n",
    "pars_voigt = model_voigt.make_params()\n",
    "\n",
    "#Parameter Optimieren\n",
    "pars_voigt[\"s1\"].set(value=0.0137,min=0,max=1)\n",
    "pars_voigt[\"g1\"].set(value=0.0137,min=0,max=1)\n",
    "pars_voigt[\"o1\"].set(value=56.4,min=55.75,max=57)\n",
    "pars_voigt[\"scale1\"].set(7000)\n",
    "pars_voigt[\"c\"].set(1)\n",
    "\n",
    "#Fitten\n",
    "out_voigt = model_voigt.fit(data[1,4528:4667],x=data[0,4528:4667],params=pars_voigt,weights=1/data[2,4528:4667],nan_policy='propagate')\n",
    "b10f=out_voigt.fit_report()\n",
    "b10p=np.array([np.arange(55.75,57,0.001),out_voigt.eval(x=np.arange(55.75,57,0.001))])\n",
    "\n",
    "\n"
   ]
  },
  {
   "cell_type": "code",
   "execution_count": 155,
   "metadata": {},
   "outputs": [],
   "source": [
    "#modell erstellen b11 (58.25,59.5)=[4806:4945] \n",
    "model_voigt = lmfit.model.Model(voigt1)  \n",
    "\n",
    "#parameter erstellen\n",
    "pars_voigt = model_voigt.make_params()\n",
    "\n",
    "#Parameter Optimieren\n",
    "pars_voigt[\"s1\"].set(value=0.0137,min=0,max=1)\n",
    "pars_voigt[\"g1\"].set(value=0.0137,min=0,max=1)\n",
    "pars_voigt[\"o1\"].set(value=59,min=58.25,max=59.5)\n",
    "pars_voigt[\"scale1\"].set(7000)\n",
    "pars_voigt[\"c\"].set(1)\n",
    "\n",
    "#Fitten\n",
    "out_voigt = model_voigt.fit(data[1,4806:4945],x=data[0,4806:4945],params=pars_voigt,weights=1/data[2,4806:4945],nan_policy='propagate')\n",
    "b11f=out_voigt.fit_report()\n",
    "b11p=np.array([np.arange(58.25,59.5,0.001),out_voigt.eval(x=np.arange(58.25,59.5,0.001))])\n",
    "\n",
    "\n"
   ]
  },
  {
   "cell_type": "code",
   "execution_count": 156,
   "metadata": {},
   "outputs": [],
   "source": [
    "#modell erstellen b12 (61,62.5)=[5112:5278] \n",
    "model_voigt = lmfit.model.Model(voigt1)  \n",
    "\n",
    "#parameter erstellen\n",
    "pars_voigt = model_voigt.make_params()\n",
    "\n",
    "#Parameter Optimieren\n",
    "pars_voigt[\"s1\"].set(value=0.0137,min=0,max=1)\n",
    "pars_voigt[\"g1\"].set(value=0.0137,min=0,max=1)\n",
    "pars_voigt[\"o1\"].set(value=61.8,min=61,max=62.5)\n",
    "pars_voigt[\"scale1\"].set(7000)\n",
    "pars_voigt[\"c\"].set(1)\n",
    "\n",
    "#Fitten\n",
    "out_voigt = model_voigt.fit(data[1,5112:5278],x=data[0,5112:5278],params=pars_voigt,weights=1/data[2,5112:5278],nan_policy='propagate')\n",
    "b12f=out_voigt.fit_report()\n",
    "b12p=np.array([np.arange(61,62.5,0.001),out_voigt.eval(x=np.arange(61,62.5,0.001))])\n",
    "\n",
    "\n"
   ]
  },
  {
   "cell_type": "code",
   "execution_count": 159,
   "metadata": {},
   "outputs": [
    {
     "data": {
      "text/plain": [
       "Text(0.5, 0, 'Winkel 2$\\\\theta$[$^\\\\circ$]')"
      ]
     },
     "execution_count": 159,
     "metadata": {},
     "output_type": "execute_result"
    },
    {
     "data": {
      "image/png": "[encoded data removed]",
      "text/plain": [
       "<Figure size 800x400 with 1 Axes>"
      ]
     },
     "metadata": {
      "needs_background": "light"
     },
     "output_type": "display_data"
    }
   ],
   "source": [
    "fig = plt.figure(figsize=(10,5),dpi=80,linewidth=50)\n",
    "plt.errorbar(data[0],data[1],yerr=data[2],zorder=5,mfc='black',color='k',linestyle='--',label='Daten')\n",
    "plt.plot(b1p[0],b1p[1],zorder=10,color='r',alpha=0.9)\n",
    "plt.plot(b2p[0],b2p[1],zorder=10,color='r',alpha=0.9)\n",
    "plt.plot(b3p[0],b3p[1],zorder=10,color='r',alpha=0.9)\n",
    "plt.plot(b4p[0],b4p[1],zorder=10,color='r',alpha=0.9)\n",
    "plt.plot(b5p[0],b5p[1],zorder=10,color='r',alpha=0.9)\n",
    "plt.plot(b6p[0],b6p[1],zorder=10,color='r',alpha=0.9)\n",
    "plt.plot(b7p[0],b7p[1],zorder=10,color='r',alpha=0.9)\n",
    "plt.plot(a8p[0],a8p[1],zorder=10,color='r',alpha=0.9)\n",
    "plt.plot(a9p[0],a9p[1],zorder=10,color='r',alpha=0.9)\n",
    "plt.plot(b10p[0],b10p[1],zorder=10,color='r',alpha=0.9)\n",
    "plt.plot(b11p[0],b11p[1],zorder=10,color='r',alpha=0.9)\n",
    "plt.plot(b12p[0],b12p[1],zorder=10,color='r',alpha=0.9)\n",
    "\n",
    "\n",
    "plt.legend(fontsize=13)\n",
    "plt.grid(axis='both',linestyle=':')\n",
    "plt.xlim(15,100)\n",
    "plt.ylabel(\"Counts\",size=18)\n",
    "plt.xlabel(\"Winkel 2\"r\"$\\theta$\"r'[$^\\circ$]',size=18)\n",
    "\n",
    "\n",
    "\n"
   ]
  }
 ],
 "metadata": {
  "kernelspec": {
   "display_name": "Python 3.10.7 64-bit",
   "language": "python",
   "name": "python3"
  },
  "language_info": {
   "codemirror_mode": {
    "name": "ipython",
    "version": 3
   },
   "file_extension": ".py",
   "mimetype": "text/x-python",
   "name": "python",
   "nbconvert_exporter": "python",
   "pygments_lexer": "ipython3",
   "version": "3.10.7"
  },
  "orig_nbformat": 4,
  "vscode": {
   "interpreter": {
    "hash": "e7370f93d1d0cde622a1f8e1c04877d8463912d04d973331ad4851f04de6915a"
   }
  }
 },
 "nbformat": 4,
 "nbformat_minor": 2
}
