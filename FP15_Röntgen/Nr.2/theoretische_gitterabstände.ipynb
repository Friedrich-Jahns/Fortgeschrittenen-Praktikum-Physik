{
 "cells": [
  {
   "cell_type": "code",
   "execution_count": 6,
   "metadata": {},
   "outputs": [],
   "source": [
    "from uncertainties import unumpy as up\n",
    "from uncertainties import ufloat \n",
    "import numpy as np"
   ]
  },
  {
   "cell_type": "code",
   "execution_count": 7,
   "metadata": {},
   "outputs": [],
   "source": [
    "\n",
    "def Gitterabstände(theta):\n",
    "    return (1*1.5425)/(2*up.sin((up.radians(theta)/2)))"
   ]
  },
  {
   "cell_type": "code",
   "execution_count": 8,
   "metadata": {},
   "outputs": [],
   "source": [
    "with open('results_GeOx/GeOx.txt') as tf:\n",
    "        data = np.loadtxt(tf,delimiter=\"\\t\",skiprows=1,dtype=\"str\")\n",
    "mu1 = ufloat(data[0,0],float(data[0,1]))\n",
    "mu1 = ufloat(data[0,0],float(data[0,1]))\n",
    "mu2 = ufloat(data[0,2],float(data[0,3]))\n",
    "mu3 = ufloat(data[0,4],float(data[0,5]))\n",
    "mu4 = ufloat(data[0,6],float(data[0,7]))\n",
    "mu5 = ufloat(data[0,8],float(data[0,9]))\n",
    "mu6 = ufloat(data[0,10],float(data[0,11]))\n",
    "mu7 = ufloat(data[0,12],float(data[0,13]))\n",
    "mu8 = ufloat(data[0,14],float(data[0,15]))\n",
    "mu9 = ufloat(data[0,16],float(data[0,17]))\n",
    "mu10 = ufloat(data[0,18],float(data[0,19]))\n",
    "mu11 = ufloat(data[0,20],float(data[0,21]))\n",
    "mu12 = ufloat(data[0,22],float(data[0,23]))\n",
    "mu13 = ufloat(data[0,24],float(data[0,25]))\n",
    "mu14 = ufloat(data[0,26],float(data[0,27]))"
   ]
  },
  {
   "cell_type": "code",
   "execution_count": 9,
   "metadata": {},
   "outputs": [
    {
     "name": "stdout",
     "output_type": "stream",
     "text": [
      "Peak1:4.30289+/-0.00016\n",
      "Peak2:3.419903+/-0.000034\n",
      "Peak3:2.48968+/-0.00007\n",
      "Peak4:2.35825+/-0.00004\n",
      "Peak5:2.27790+/-0.00005\n",
      "Peak6:2.15714+/-0.00004\n",
      "Peak7:2.01483+/-0.00024\n",
      "Peak8:1.87954+/-0.00011\n",
      "Peak9:1.86704+/-0.00005\n",
      "Peak10:1.72394+/-0.00017\n",
      "Peak11:1.71410+/-0.00009\n",
      "Peak12:1.63163+/-0.00015\n",
      "Peak13:1.567541+/-0.000032\n",
      "Peak14:1.50106+/-0.00007\n"
     ]
    }
   ],
   "source": [
    "print('Peak1:'+str(Gitterabstände(mu1)))\n",
    "print('Peak2:'+str(Gitterabstände(mu2)))\n",
    "print('Peak3:'+str(Gitterabstände(mu3)))\n",
    "print('Peak4:'+str(Gitterabstände(mu4)))\n",
    "print('Peak5:'+str(Gitterabstände(mu5)))\n",
    "print('Peak6:'+str(Gitterabstände(mu6)))\n",
    "print('Peak7:'+str(Gitterabstände(mu7)))\n",
    "print('Peak8:'+str(Gitterabstände(mu8)))\n",
    "print('Peak9:'+str(Gitterabstände(mu9)))\n",
    "print('Peak10:'+str(Gitterabstände(mu10)))\n",
    "print('Peak11:'+str(Gitterabstände(mu11)))\n",
    "print('Peak12:'+str(Gitterabstände(mu12)))\n",
    "print('Peak13:'+str(Gitterabstände(mu13)))\n",
    "print('Peak14:'+str(Gitterabstände(mu14)))"
   ]
  },
  {
   "cell_type": "markdown",
   "metadata": {},
   "source": [
    "4.3172, 3.42940, 2.49255, 2.36257, 2.28020,  2.15861,  2.01625,  1.88183, 1.86839,  1,72507, -,  1.63176, 1.56759,  1.50187"
   ]
  },
  {
   "cell_type": "code",
   "execution_count": 11,
   "metadata": {},
   "outputs": [
    {
     "name": "stdout",
     "output_type": "stream",
     "text": [
      "Peak1:0.331+/-0.004\n",
      "Peak2:0.2769+/-0.0010\n",
      "Peak3:0.1153+/-0.0029\n",
      "Peak4:0.1827+/-0.0018\n",
      "Peak5:0.1007+/-0.0021\n",
      "Peak6:0.0680+/-0.0018\n",
      "Peak7:0.071+/-0.012\n",
      "Peak8:0.122+/-0.006\n",
      "Peak9:0.0724+/-0.0029\n",
      "Peak10:0.066+/-0.010\n",
      "Peak12:0.008+/-0.009\n",
      "Peak13:0.0031+/-0.0020\n",
      "Peak14:0.054+/-0.005\n"
     ]
    }
   ],
   "source": [
    "print('Peak1:'+str(100*(1-Gitterabstände(mu1)/4.3172)))\n",
    "print('Peak2:'+str(100*(1-Gitterabstände(mu2)/3.42940)))\n",
    "print('Peak3:'+str(100*(1-Gitterabstände(mu3)/2.49255)))\n",
    "print('Peak4:'+str(100*(1-Gitterabstände(mu4)/2.36257)))\n",
    "print('Peak5:'+str(100*(1-Gitterabstände(mu5)/2.28020)))\n",
    "print('Peak6:'+str(100*(1-Gitterabstände(mu6)/2.15861)))\n",
    "print('Peak7:'+str(100*(1-Gitterabstände(mu7)/2.01625)))\n",
    "print('Peak8:'+str(100*(1-Gitterabstände(mu8)/1.88183)))\n",
    "print('Peak9:'+str(100*(1-Gitterabstände(mu9)/1.86839)))\n",
    "print('Peak10:'+str(100*(1-Gitterabstände(mu10)/1.72507)))\n",
    "\n",
    "print('Peak12:'+str(100*(1-Gitterabstände(mu12)/1.63176)))\n",
    "print('Peak13:'+str(100*(1-Gitterabstände(mu13)/1.56759)))\n",
    "print('Peak14:'+str(100*(1-Gitterabstände(mu14)/1.50187)))"
   ]
  }
 ],
 "metadata": {
  "kernelspec": {
   "display_name": "Python 3.9.1 64-bit",
   "language": "python",
   "name": "python3"
  },
  "language_info": {
   "codemirror_mode": {
    "name": "ipython",
    "version": 3
   },
   "file_extension": ".py",
   "mimetype": "text/x-python",
   "name": "python",
   "nbconvert_exporter": "python",
   "pygments_lexer": "ipython3",
   "version": "3.9.1"
  },
  "orig_nbformat": 4,
  "vscode": {
   "interpreter": {
    "hash": "130d85b736f455fb007f8de9bdd1e41b2b61fc7f886a6550e3d523aa94b3e114"
   }
  }
 },
 "nbformat": 4,
 "nbformat_minor": 2
}
