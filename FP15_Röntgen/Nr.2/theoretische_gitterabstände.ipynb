{
 "cells": [
  {
   "cell_type": "code",
   "execution_count": 19,
   "metadata": {},
   "outputs": [],
   "source": [
    "from uncertainties import unumpy as up\n",
    "from uncertainties import ufloat \n",
    "import numpy as np"
   ]
  },
  {
   "cell_type": "code",
   "execution_count": 20,
   "metadata": {},
   "outputs": [],
   "source": [
    "\n",
    "def Gitterabstände(theta):\n",
    "    return (1*1.5425)/(2*up.sin((up.radians(theta)/2)))"
   ]
  },
  {
   "cell_type": "code",
   "execution_count": 21,
   "metadata": {},
   "outputs": [],
   "source": [
    "with open('results_GeOx/GeOx.txt') as tf:\n",
    "        data = np.loadtxt(tf,delimiter=\"\\t\",skiprows=1,dtype=\"str\")\n",
    "mu1 = ufloat(data[0,0],float(data[0,1]))\n",
    "mu2 = ufloat(data[0,2],float(data[0,3]))\n",
    "mu3 = ufloat(data[0,4],float(data[0,5]))\n",
    "mu4 = ufloat(data[0,6],float(data[0,7]))\n",
    "mu5 = ufloat(data[0,8],float(data[0,9]))\n",
    "mu6 = ufloat(data[0,10],float(data[0,11]))\n",
    "mu7 = ufloat(data[0,12],float(data[0,13]))\n",
    "mu8 = ufloat(data[0,14],float(data[0,15]))\n",
    "mu9 = ufloat(data[0,16],float(data[0,17]))\n",
    "mu10 = ufloat(data[0,18],float(data[0,19]))\n",
    "mu11 = ufloat(data[0,20],float(data[0,21]))\n",
    "mu12 = ufloat(data[0,22],float(data[0,23]))"
   ]
  },
  {
   "cell_type": "code",
   "execution_count": 22,
   "metadata": {},
   "outputs": [
    {
     "name": "stdout",
     "output_type": "stream",
     "text": [
      "Peak1:4.30289+/-0.00016\n",
      "Peak2:3.419903+/-0.000034\n",
      "Peak3:2.48968+/-0.00007\n",
      "Peak4:2.35825+/-0.00004\n",
      "Peak5:2.27790+/-0.00005\n",
      "Peak6:2.15714+/-0.00004\n",
      "Peak7:2.01483+/-0.00024\n",
      "Peak8:1.87954+/-0.00011\n",
      "Peak9:1.86704+/-0.00005\n",
      "Peak10:1.72394+/-0.00017\n",
      "Peak11:1.71410+/-0.00009\n",
      "Peak12:1.63163+/-0.00015\n"
     ]
    }
   ],
   "source": [
    "print('Peak1:'+str(Gitterabstände(mu1)))\n",
    "print('Peak2:'+str(Gitterabstände(mu2)))\n",
    "print('Peak3:'+str(Gitterabstände(mu3)))\n",
    "print('Peak4:'+str(Gitterabstände(mu4)))\n",
    "print('Peak5:'+str(Gitterabstände(mu5)))\n",
    "print('Peak6:'+str(Gitterabstände(mu6)))\n",
    "print('Peak7:'+str(Gitterabstände(mu7)))\n",
    "print('Peak8:'+str(Gitterabstände(mu8)))\n",
    "print('Peak9:'+str(Gitterabstände(mu9)))\n",
    "print('Peak10:'+str(Gitterabstände(mu10)))\n",
    "print('Peak11:'+str(Gitterabstände(mu11)))\n",
    "print('Peak12:'+str(Gitterabstände(mu12)))"
   ]
  }
 ],
 "metadata": {
  "kernelspec": {
   "display_name": "Python 3.10.7 64-bit",
   "language": "python",
   "name": "python3"
  },
  "language_info": {
   "codemirror_mode": {
    "name": "ipython",
    "version": 3
   },
   "file_extension": ".py",
   "mimetype": "text/x-python",
   "name": "python",
   "nbconvert_exporter": "python",
   "pygments_lexer": "ipython3",
   "version": "3.10.7"
  },
  "orig_nbformat": 4,
  "vscode": {
   "interpreter": {
    "hash": "e7370f93d1d0cde622a1f8e1c04877d8463912d04d973331ad4851f04de6915a"
   }
  }
 },
 "nbformat": 4,
 "nbformat_minor": 2
}
