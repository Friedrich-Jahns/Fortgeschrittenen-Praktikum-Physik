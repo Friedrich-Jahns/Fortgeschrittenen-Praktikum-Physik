{
 "cells": [
  {
   "cell_type": "code",
   "execution_count": 41,
   "metadata": {},
   "outputs": [],
   "source": [
    "import numpy as np\n",
    "import os\n",
    "from uncertainties import ufloat \n",
    "from uncertainties import ufloat_fromstr\n",
    "from uncertainties import wrap\n",
    "import uncertainties"
   ]
  },
  {
   "cell_type": "code",
   "execution_count": 42,
   "metadata": {},
   "outputs": [],
   "source": [
    "def dbragg(n,l,t):\n",
    "    return ((n*l)/2*np.sin(np.deg2rad(t)))*2\n",
    "\n",
    "wdbragg=wrap(dbragg)"
   ]
  },
  {
   "cell_type": "code",
   "execution_count": 43,
   "metadata": {},
   "outputs": [],
   "source": [
    "la1 = 1.5406e-10\n",
    "la2 = 1.5444e-10"
   ]
  },
  {
   "cell_type": "markdown",
   "metadata": {},
   "source": [
    "## 220"
   ]
  },
  {
   "cell_type": "code",
   "execution_count": 44,
   "metadata": {},
   "outputs": [],
   "source": [
    "\n",
    "path = 'results_220/voigt_fits_220_40_40.txt'\n",
    "with open(path) as tf:\n",
    "    data = np.loadtxt(tf,delimiter=\"\\t\",skiprows=1,dtype=\"str\")\n",
    "\n",
    "\n",
    "mu1a1, mu1a2 = ufloat(data[4],float(data[5])),ufloat(data[6],float(data[7]))\n"
   ]
  },
  {
   "cell_type": "code",
   "execution_count": 45,
   "metadata": {},
   "outputs": [
    {
     "name": "stdout",
     "output_type": "stream",
     "text": [
      "1.1318e-10+/-0.0000e-10\n",
      "1.1366e-10+/-0.0000e-10\n"
     ]
    }
   ],
   "source": [
    "print(wdbragg(1,la1,mu1a1).format(':1.5'))\n",
    "print(wdbragg(1,la2,mu1a2).format(':1.5'))"
   ]
  },
  {
   "cell_type": "markdown",
   "metadata": {},
   "source": [
    "## 331"
   ]
  },
  {
   "cell_type": "code",
   "execution_count": 46,
   "metadata": {},
   "outputs": [],
   "source": [
    "\n",
    "path = 'results_331/voigt_fits_331_40_40.txt'\n",
    "with open(path) as tf:\n",
    "    data = np.loadtxt(tf,delimiter=\"\\t\",skiprows=1,dtype=\"str\")\n",
    "\n",
    "\n",
    "mu1a1, mu1a2 = ufloat(data[4],float(data[5])),ufloat(data[6],float(data[7]))\n"
   ]
  },
  {
   "cell_type": "code",
   "execution_count": 47,
   "metadata": {},
   "outputs": [
    {
     "name": "stdout",
     "output_type": "stream",
     "text": [
      "1.4971e-10+/-0.0000e-10\n",
      "1.5023e-10+/-0.0000e-10\n"
     ]
    }
   ],
   "source": [
    "print(wdbragg(1,la1,mu1a1).format(':1.5'))\n",
    "print(wdbragg(1,la2,mu1a2).format(':1.5'))"
   ]
  }
 ],
 "metadata": {
  "kernelspec": {
   "display_name": "Python 3.10.7 64-bit",
   "language": "python",
   "name": "python3"
  },
  "language_info": {
   "codemirror_mode": {
    "name": "ipython",
    "version": 3
   },
   "file_extension": ".py",
   "mimetype": "text/x-python",
   "name": "python",
   "nbconvert_exporter": "python",
   "pygments_lexer": "ipython3",
   "version": "3.10.7"
  },
  "orig_nbformat": 4,
  "vscode": {
   "interpreter": {
    "hash": "e7370f93d1d0cde622a1f8e1c04877d8463912d04d973331ad4851f04de6915a"
   }
  }
 },
 "nbformat": 4,
 "nbformat_minor": 2
}
