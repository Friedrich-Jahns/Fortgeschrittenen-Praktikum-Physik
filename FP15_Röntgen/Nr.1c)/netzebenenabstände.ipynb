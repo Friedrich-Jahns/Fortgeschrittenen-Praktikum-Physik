{
 "cells": [
  {
   "cell_type": "code",
   "execution_count": 39,
   "metadata": {},
   "outputs": [],
   "source": [
    "import numpy as np\n",
    "import os\n",
    "from uncertainties import ufloat \n",
    "from uncertainties import ufloat_fromstr\n",
    "from uncertainties import wrap\n",
    "import uncertainties"
   ]
  },
  {
   "cell_type": "code",
   "execution_count": 40,
   "metadata": {},
   "outputs": [],
   "source": [
    "def dbragg(n,l,t):\n",
    "    return ((n*l)/(2*np.sin(np.deg2rad(t/2))))\n",
    "\n",
    "wdbragg=wrap(dbragg)"
   ]
  },
  {
   "cell_type": "code",
   "execution_count": 41,
   "metadata": {},
   "outputs": [],
   "source": [
    "la1 = 1.5406e-10\n",
    "la2 = 1.5444e-10"
   ]
  },
  {
   "cell_type": "markdown",
   "metadata": {},
   "source": [
    "## 220"
   ]
  },
  {
   "cell_type": "code",
   "execution_count": 42,
   "metadata": {},
   "outputs": [
    {
     "name": "stdout",
     "output_type": "stream",
     "text": [
      "47.2760+/-0.0013\n",
      "47.3894+/-0.0026\n"
     ]
    }
   ],
   "source": [
    "\n",
    "path = 'results_220/voigt_fits_220_40_40.txt'\n",
    "with open(path) as tf:\n",
    "    data = np.loadtxt(tf,delimiter=\"\\t\",skiprows=1,dtype=\"str\")\n",
    "\n",
    "\n",
    "mu1a1, mu1a2 = ufloat(data[4],float(data[5])),ufloat(data[6],float(data[7]))\n",
    "print(mu1a1)\n",
    "print(mu1a2)"
   ]
  },
  {
   "cell_type": "code",
   "execution_count": 43,
   "metadata": {},
   "outputs": [
    {
     "name": "stdout",
     "output_type": "stream",
     "text": [
      "-0.052078+/-0.002691\n",
      "-0.072688+/-0.005079\n"
     ]
    }
   ],
   "source": [
    "print((100*(1-(wdbragg(1,la1,mu1a1)/ 1.920155716e-10))).format(':1.5'))\n",
    "print((100*(1-(wdbragg(1,la2,mu1a2)/ 1.920155716e-10))).format(':1.5'))"
   ]
  },
  {
   "cell_type": "markdown",
   "metadata": {},
   "source": [
    "## 331"
   ]
  },
  {
   "cell_type": "code",
   "execution_count": 44,
   "metadata": {},
   "outputs": [
    {
     "name": "stdout",
     "output_type": "stream",
     "text": [
      "76.3566+/-0.0007\n",
      "76.5842+/-0.0010\n"
     ]
    }
   ],
   "source": [
    "\n",
    "path = 'results_331/voigt_fits_331_40_40.txt'\n",
    "with open(path) as tf:\n",
    "    data = np.loadtxt(tf,delimiter=\"\\t\",skiprows=1,dtype=\"str\")\n",
    "\n",
    "\n",
    "mu1a1, mu1a2 = ufloat(data[4],float(data[5])),ufloat(data[6],float(data[7]))\n",
    "print(mu1a1)\n",
    "print(mu1a2)"
   ]
  },
  {
   "cell_type": "code",
   "execution_count": 45,
   "metadata": {},
   "outputs": [
    {
     "name": "stdout",
     "output_type": "stream",
     "text": [
      "-0.020512+/-0.000764\n",
      "-0.014789+/-0.001126\n"
     ]
    }
   ],
   "source": [
    "print((100*(1-(wdbragg(1,la1,mu1a1)/ 1.245961556e-10))).format(':1.5'))\n",
    "print((100*(1-(wdbragg(1,la2,mu1a2)/ 1.245961556e-10))).format(':1.5'))"
   ]
  }
 ],
 "metadata": {
  "kernelspec": {
   "display_name": "Python 3.9.1 64-bit",
   "language": "python",
   "name": "python3"
  },
  "language_info": {
   "codemirror_mode": {
    "name": "ipython",
    "version": 3
   },
   "file_extension": ".py",
   "mimetype": "text/x-python",
   "name": "python",
   "nbconvert_exporter": "python",
   "pygments_lexer": "ipython3",
   "version": "3.9.1"
  },
  "orig_nbformat": 4,
  "vscode": {
   "interpreter": {
    "hash": "130d85b736f455fb007f8de9bdd1e41b2b61fc7f886a6550e3d523aa94b3e114"
   }
  }
 },
 "nbformat": 4,
 "nbformat_minor": 2
}
