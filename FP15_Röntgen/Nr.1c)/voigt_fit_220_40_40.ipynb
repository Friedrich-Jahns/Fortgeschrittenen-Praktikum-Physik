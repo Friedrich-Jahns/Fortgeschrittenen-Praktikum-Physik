{
 "cells": [
  {
   "cell_type": "code",
   "execution_count": 1,
   "metadata": {},
   "outputs": [],
   "source": [
    "import scipy\n",
    "import matplotlib.pyplot as plt\n",
    "import numpy as np\n",
    "import lmfit\n",
    "from lmfit.models import LinearModel, LorentzianModel\n",
    "from uncertainties import unumpy as up\n",
    "from uncertainties import ufloat\n",
    "from uncertainties import wrap\n",
    "from pathlib import Path"
   ]
  },
  {
   "cell_type": "code",
   "execution_count": 2,
   "metadata": {},
   "outputs": [],
   "source": [
    "def voigt1(x,s1,g1,o1,scale1):\n",
    "    return scale1*scipy.special.voigt_profile(x-o1,s1,g1)#+a*x**2+b\n",
    "def voigt2(x,s1,s2,g1,g2,o1,o2,scale1,scale2):\n",
    "    return scale1*scipy.special.voigt_profile(x-o1,s1,g1)+scale2*scipy.special.voigt_profile(x-o2,s2,g2)#+a*x**2+b"
   ]
  },
  {
   "cell_type": "code",
   "execution_count": 3,
   "metadata": {},
   "outputs": [],
   "source": [
    "def FWHM(s_p,g_p):\n",
    "    s = ufloat(s_p.value,s_p.stderr)\n",
    "    g = ufloat(g_p.value,g_p.stderr)\n",
    "    fg=s*(8*up.log(2))**0.5\n",
    "    fl=2*g\n",
    "    return 0.5346*fl+((fg)**2+(0.2166*fl**2))**0.5\n",
    "\n",
    "def uvoigt1(out_voigt):\n",
    "    x_p,s1_p,g1_p,o1_p,scale1_p=out_voigt.result.params['o1'],out_voigt.result.params['s1'],out_voigt.result.params['g1'],out_voigt.result.params['o1'],out_voigt.result.params['scale1']\n",
    "    x = ufloat(x_p.value,x_p.stderr)\n",
    "    s1 = ufloat(s1_p.value,s1_p.stderr)\n",
    "    g1 = ufloat(g1_p.value,g1_p.stderr)\n",
    "    o1 = ufloat(o1_p.value,o1_p.stderr)\n",
    "    scale1 = ufloat(scale1_p.value,scale1_p.stderr)\n",
    "    uv=wrap(voigt1)\n",
    "    return uv(x,s1,g1,o1,scale1)\n",
    "\n",
    "def uvoigt2(out_voigt):\n",
    "    x1_p,s1_p,g1_p,o1_p,scale1_p=out_voigt.result.params['o1'],out_voigt.result.params['s1'],out_voigt.result.params['g1'],out_voigt.result.params['o1'],out_voigt.result.params['scale1']\n",
    "    x2_p,s2_p,g2_p,o2_p,scale2_p=out_voigt.result.params['o2'],out_voigt.result.params['s2'],out_voigt.result.params['g2'],out_voigt.result.params['o2'],out_voigt.result.params['scale2']\n",
    "    x1 = ufloat(x1_p.value,x1_p.stderr)\n",
    "    s1 = ufloat(s1_p.value,s1_p.stderr)\n",
    "    g1 = ufloat(g1_p.value,g1_p.stderr)\n",
    "    o1 = ufloat(o1_p.value,o1_p.stderr)\n",
    "    scale1 = ufloat(scale1_p.value,scale1_p.stderr)\n",
    "    x2 = ufloat(x2_p.value,x2_p.stderr)\n",
    "    s2 = ufloat(s2_p.value,s2_p.stderr)\n",
    "    g2 = ufloat(g2_p.value,g2_p.stderr)\n",
    "    o2 = ufloat(o2_p.value,o2_p.stderr)\n",
    "    scale2 = ufloat(scale2_p.value,scale2_p.stderr)\n",
    "\n",
    "\n",
    "    uv=wrap(voigt2)\n",
    "\n",
    "    p1 = uv(x1,s1,s2,g1,g2,o1,o2,scale1,scale2)\n",
    "    p2 = uv(x2,s1,s2,g1,g2,o1,o2,scale1,scale2)\n",
    "    return p1,p2\n",
    "\n",
    "def uvoigt(out_voigt):\n",
    "    try:\n",
    "        return uvoigt2(out_voigt)\n",
    "    except:\n",
    "        return uvoigt1(out_voigt)"
   ]
  },
  {
   "cell_type": "code",
   "execution_count": 4,
   "metadata": {},
   "outputs": [],
   "source": [
    "res = Path(\"results_220/voigt_fits_220_40_40.txt\")\n",
    "res.touch()\n",
    "nf = open(res,\"w\")\n",
    "nf.write(\"Amplitude1\\tAmplitude2\\tmu1\\tmu2\\tsigma1\\tsigma2\\tgamma1\\tgamma2\\tFWHM1\\tFWHM2\\tHeight1\\tHeight2\\tredchi\\n\")\n",
    "\n",
    "def bwrite(fr,fwhm1,height1):\n",
    "    nf.write(\n",
    "                str(fr.params['scale1'].value)+\"\\t\"+str(fr.params['scale1'].stderr)+\"\\t\"+\n",
    "                \"none\"+\"\\t\"+\"none\"+\"\\t\"+\n",
    "                str(fr.params['o1'].value)+\"\\t\"+str(fr.params['o1'].stderr)+\"\\t\"+\n",
    "                \"none\"+\"\\t\"+\"none\"+\"\\t\"+\n",
    "                str(fr.params['s1'].value)+\"\\t\"+str(fr.params['s1'].stderr)+\"\\t\"+\n",
    "                \"none\"+\"\\t\"+\"none\"+\"\\t\"+\n",
    "                str(fr.params['g1'].value)+\"\\t\"+str(fr.params['g1'].stderr)+\"\\t\"+\n",
    "                \"none\"+\"\\t\"+\"none\"+\"\\t\"+\n",
    "                str(fwhm1[0])+\"\\t\"+str(fwhm1[1])+\"\\t\"+\n",
    "                \"none\"+\"\\t\"+\"none\"+\"\\t\"+\n",
    "                str(height1[0])+\"\\t\"+str(height1[1])+\"\\t\"+\n",
    "                \"none\"+\"\\t\"+\"none\"+\"\\t\"+\n",
    "                str(fr.redchi)+\"\\n\"\n",
    "                )\n",
    "        \n",
    "\n",
    "def awrite(fr,fwhm1,height1,fwhm2,height2):\n",
    "    nf.write(\n",
    "                str(fr.params['scale1'].value)+\"\\t\"+str(fr.params['scale1'].stderr)+\"\\t\"+\n",
    "                str(fr.params['scale2'].value)+\"\\t\"+str(fr.params['scale2'].stderr)+\"\\t\"+                \n",
    "                str(fr.params['o1'].value)+\"\\t\"+str(fr.params['o1'].stderr)+\"\\t\"+\n",
    "                str(fr.params['o2'].value)+\"\\t\"+str(fr.params['o2'].stderr)+\"\\t\"+                \n",
    "                str(fr.params['s1'].value)+\"\\t\"+str(fr.params['s1'].stderr)+\"\\t\"+\n",
    "                str(fr.params['s2'].value)+\"\\t\"+str(fr.params['s2'].stderr)+\"\\t\"+                \n",
    "                str(fr.params['g1'].value)+\"\\t\"+str(fr.params['g1'].stderr)+\"\\t\"+\n",
    "                str(fr.params['g2'].value)+\"\\t\"+str(fr.params['g2'].stderr)+\"\\t\"+                \n",
    "                str(fwhm1[0])+\"\\t\"+str(fwhm1[1])+\"\\t\"+\n",
    "                str(fwhm2[0])+\"\\t\"+str(fwhm2[1])+\"\\t\"+                \n",
    "                str(height1[0])+\"\\t\"+str(height1[1])+\"\\t\"+\n",
    "                str(height2[0])+\"\\t\"+str(height2[1])+\"\\t\"+                \n",
    "                str(fr.redchi)+\"\\n\"\n",
    "                )\n",
    "       "
   ]
  },
  {
   "cell_type": "code",
   "execution_count": 5,
   "metadata": {},
   "outputs": [
    {
     "data": {
      "text/plain": [
       "[<matplotlib.lines.Line2D at 0x7f07a4bf38b0>]"
      ]
     },
     "execution_count": 5,
     "metadata": {},
     "output_type": "execute_result"
    },
    {
     "data": {
      "image/png": "[encoded data removed]",
      "text/plain": [
       "<Figure size 432x288 with 1 Axes>"
      ]
     },
     "metadata": {
      "needs_background": "light"
     },
     "output_type": "display_data"
    }
   ],
   "source": [
    "path =  'Data/Si220_40kV_40mA.xy'\n",
    "with open(path) as tf:\n",
    "    data = np.loadtxt(tf,delimiter=\" \").T\n",
    "\n",
    "err = np.zeros(len(data[1]))\n",
    "for i in range(len(err)):\n",
    "    err[i] = (data[1,i])**0.5\n",
    "data = np.vstack([data,err])\n",
    "plt.plot(data[0],data[1])"
   ]
  },
  {
   "cell_type": "code",
   "execution_count": 6,
   "metadata": {},
   "outputs": [
    {
     "data": {
      "text/plain": [
       "[<matplotlib.lines.Line2D at 0x7f07a2ae7550>]"
      ]
     },
     "execution_count": 6,
     "metadata": {},
     "output_type": "execute_result"
    },
    {
     "data": {
      "image/png": "[encoded data removed]",
      "text/plain": [
       "<Figure size 432x288 with 1 Axes>"
      ]
     },
     "metadata": {
      "needs_background": "light"
     },
     "output_type": "display_data"
    }
   ],
   "source": [
    "x=[[],[]]\n",
    "for i in range(len(data[1])):\n",
    "    if 47<data[0,i]<47.7:\n",
    "        x[0].append(data[0,i])\n",
    "        x[1].append(data[1,i])\n",
    "plt.plot(x[0],x[1])"
   ]
  },
  {
   "cell_type": "code",
   "execution_count": 11,
   "metadata": {},
   "outputs": [
    {
     "name": "stdout",
     "output_type": "stream",
     "text": [
      "180\n",
      "45.0075\n",
      "49.9875\n",
      "0.015000000000000568\n"
     ]
    },
    {
     "data": {
      "text/plain": [
       "333"
      ]
     },
     "execution_count": 11,
     "metadata": {},
     "output_type": "execute_result"
    }
   ],
   "source": [
    "for i in range(len(data[0])):\n",
    "    if data[0,i]>=47.7:\n",
    "        print(i)\n",
    "        break\n",
    "print(data[0,0])\n",
    "print(data[0,-1])\n",
    "print(data[0,1]-data[0,0])\n",
    "len(data[0])"
   ]
  },
  {
   "cell_type": "code",
   "execution_count": 8,
   "metadata": {},
   "outputs": [],
   "source": [
    "#modell erstellen a1 = [47,47.7]->[133,180]    \n",
    "model_voigt = lmfit.model.Model(voigt2)  \n",
    "\n",
    "#parameter erstellen\n",
    "pars_voigt = model_voigt.make_params()\n",
    "\n",
    "#Parameter Optimieren\n",
    "pars_voigt[\"s1\"].set(value=0.0137,min=0.005,max=1)\n",
    "pars_voigt[\"g1\"].set(value=0.0137,min=0,max=1)\n",
    "pars_voigt[\"s2\"].set(value=0.0147,min=0,max=1)\n",
    "pars_voigt[\"g2\"].set(value=0.0147,min=0,max=1)\n",
    "pars_voigt[\"o1\"].set(value=47.25,min=47.2,max=47.35)\n",
    "pars_voigt[\"o2\"].set(value=47.4,min=47.35,max=47.5)\n",
    "pars_voigt[\"scale1\"].set(25000)\n",
    "pars_voigt[\"scale2\"].set(15000)\n",
    " \n",
    "#Fitten\n",
    "out_voigt = model_voigt.fit(data[1,133:180],x=data[0,133:180],params=pars_voigt,weights=1/data[2,133:180],nan_policy='propagate')\n",
    "a1f=out_voigt.fit_report()\n",
    "a1p=np.array([np.arange(47,47.7,0.001),out_voigt.eval(x=np.arange(47,47.7,0.001))])\n",
    "\n",
    "\n",
    "h1 = uvoigt(out_voigt)[0].format(\":1.5\").split(\"+/-\")\n",
    "h2 = uvoigt(out_voigt)[1].format(\":1.5\").split(\"+/-\")\n",
    "\n",
    "fwhm1=FWHM(out_voigt.result.params['s1'],out_voigt.result.params['g1']).format(\":1.5\").split(\"+/-\")\n",
    "fwhm2=FWHM(out_voigt.result.params['s2'],out_voigt.result.params['g2']).format(\":1.5\").split(\"+/-\")\n",
    "\n",
    "awrite(out_voigt,fwhm1,h1,fwhm2,h2)\n",
    "\n",
    "nf.close()\n"
   ]
  },
  {
   "cell_type": "code",
   "execution_count": 9,
   "metadata": {},
   "outputs": [
    {
     "data": {
      "image/png": "[encoded data removed]",
      "text/plain": [
       "<Figure size 800x400 with 1 Axes>"
      ]
     },
     "metadata": {
      "needs_background": "light"
     },
     "output_type": "display_data"
    }
   ],
   "source": [
    "fig = plt.figure(figsize=(10,5),dpi=80,linewidth=50)\n",
    "plt.grid(axis='both',linestyle=':')\n",
    "plt.errorbar(data[0,133:180],data[1,133:180],yerr=data[2,133:180],fmt='o',ecolor='lightgray',color='r', elinewidth=3, capsize=0,zorder=10,label=\"Daten\")\n",
    "plt.plot(a1p[0],a1p[1],zorder=10,color='k',linestyle='--',alpha=0.5,label=\"Voigt-Fit\")\n",
    "plt.ylabel(\"Counts\",size=18)\n",
    "plt.xlabel(\"Winkel 2\"r\"$\\theta$\"r'[$^\\circ$]',size=18)\n",
    "plt.legend(fontsize=13)\n",
    "plt.savefig('results_220/a1.pdf')"
   ]
  },
  {
   "cell_type": "code",
   "execution_count": 10,
   "metadata": {},
   "outputs": [
    {
     "name": "stdout",
     "output_type": "stream",
     "text": [
      "[[Model]]\n",
      "    Model(voigt2)\n",
      "[[Fit Statistics]]\n",
      "    # fitting method   = leastsq\n",
      "    # function evals   = 579\n",
      "    # data points      = 47\n",
      "    # variables        = 8\n",
      "    chi-square         = 494747.618\n",
      "    reduced chi-square = 12685.8364\n",
      "    Akaike info crit   = 451.297806\n",
      "    Bayesian info crit = 466.098987\n",
      "[[Variables]]\n",
      "    s1:      0.00500000 +/- 4.8919e-04 (9.78%) (init = 0.0137)\n",
      "    s2:      0.00628858 +/- 0.01017025 (161.73%) (init = 0.0147)\n",
      "    g1:      0.00830718 +/- 0.00363311 (43.73%) (init = 0.0137)\n",
      "    g2:      0.01926611 +/- 0.00481952 (25.02%) (init = 0.0147)\n",
      "    o1:      47.2759840 +/- 0.00134914 (0.00%) (init = 47.25)\n",
      "    o2:      47.3893630 +/- 0.00255226 (0.01%) (init = 47.4)\n",
      "    scale1:  26184.5457 +/- 3230.50670 (12.34%) (init = 25000)\n",
      "    scale2:  28997.3644 +/- 2818.87150 (9.72%) (init = 15000)\n",
      "[[Correlations]] (unreported correlations are < 0.100)\n",
      "    C(s1, g1)         = 0.907\n",
      "    C(s2, g2)         = -0.812\n",
      "    C(g1, scale1)     = 0.655\n",
      "    C(s1, scale1)     = 0.644\n",
      "    C(s1, o1)         = 0.517\n",
      "    C(g1, o1)         = 0.473\n",
      "    C(g1, scale2)     = -0.390\n",
      "    C(o1, scale1)     = 0.377\n",
      "    C(g1, g2)         = -0.360\n",
      "    C(g2, scale2)     = 0.354\n",
      "    C(scale1, scale2) = -0.346\n",
      "    C(s1, scale2)     = -0.345\n",
      "    C(g2, scale1)     = -0.344\n",
      "    C(s1, g2)         = -0.310\n",
      "    C(s2, scale2)     = -0.248\n",
      "    C(g2, o2)         = -0.226\n",
      "    C(s2, scale1)     = 0.220\n",
      "    C(s2, g1)         = 0.219\n",
      "    C(o1, scale2)     = -0.205\n",
      "    C(g1, o2)         = 0.193\n",
      "    C(s2, o2)         = 0.190\n",
      "    C(s1, s2)         = 0.185\n",
      "    C(g2, o1)         = -0.184\n",
      "    C(o2, scale1)     = 0.178\n",
      "    C(s1, o2)         = 0.169\n",
      "    C(o2, scale2)     = -0.151\n",
      "    C(s2, o1)         = 0.109\n",
      "    C(o1, o2)         = 0.108\n"
     ]
    }
   ],
   "source": [
    "print(a1f)"
   ]
  }
 ],
 "metadata": {
  "kernelspec": {
   "display_name": "Python 3.9.1 64-bit",
   "language": "python",
   "name": "python3"
  },
  "language_info": {
   "codemirror_mode": {
    "name": "ipython",
    "version": 3
   },
   "file_extension": ".py",
   "mimetype": "text/x-python",
   "name": "python",
   "nbconvert_exporter": "python",
   "pygments_lexer": "ipython3",
   "version": "3.9.1"
  },
  "orig_nbformat": 4,
  "vscode": {
   "interpreter": {
    "hash": "130d85b736f455fb007f8de9bdd1e41b2b61fc7f886a6550e3d523aa94b3e114"
   }
  }
 },
 "nbformat": 4,
 "nbformat_minor": 2
}
