{
 "cells": [
  {
   "cell_type": "code",
   "execution_count": 5,
   "metadata": {},
   "outputs": [],
   "source": [
    "from uncertainties import ufloat"
   ]
  },
  {
   "cell_type": "code",
   "execution_count": 6,
   "metadata": {},
   "outputs": [],
   "source": [
    "\n",
    "nik1b , k1b= ufloat(101.638916,6.95483747) , ufloat(36623.8734,801.191379)\n",
    "nik1a1 , k1a1= ufloat(30170.8745,1424.22320) , ufloat(40136.6563,685.758567)\n",
    "nik1a2 , k1a2= ufloat(12667.0211,894.775621) , ufloat(15962.1932,555.431731)\n",
    "nik2b , k2b= ufloat(9.58353602,21.6952681) , ufloat(33.9683128,1.41393009)\n",
    "nik2a1 , k2a1= ufloat(51.6869192,2.15211372) , ufloat(29.7725000,2.83667701)\n",
    "nik2a2, k2a2= ufloat(25.8485831,1.75688341) , ufloat(16.4832908,2.95996988)\n",
    "nik3b , k3b= ufloat(15.8457533,1.01101472) , ufloat(6706.96219,63.5853764)\n",
    "nik3a1 , k3a1= ufloat(4032.01092,82.9001025) , ufloat(7785.09533,52.9253270)\n",
    "nik3a2 , k3a2= ufloat(2178.06082,65.2353184) , ufloat(3595.98184,39.6655815)"
   ]
  },
  {
   "cell_type": "code",
   "execution_count": 8,
   "metadata": {},
   "outputs": [
    {
     "name": "stdout",
     "output_type": "stream",
     "text": [
      "0.278+/-0.020\n",
      "75+/-4\n",
      "79+/-6\n",
      "(3+/-6)e+01\n",
      "174+/-18\n",
      "157+/-30\n",
      "0.236+/-0.015\n",
      "51.8+/-1.1\n",
      "60.6+/-1.9\n"
     ]
    }
   ],
   "source": [
    "print(100*(nik1b/k1b))\n",
    "print(100*(nik1a1/k1a1))\n",
    "print(100*(nik1a2/k1a2))\n",
    "print(100*(nik2b/k2b))\n",
    "print(100*(nik2a1/k2a1))\n",
    "print(100*(nik2a2/k2a2))\n",
    "print(100*(nik3b/k3b))\n",
    "print(100*(nik3a1/k3a1))\n",
    "print(100*(nik3a2/k3a2))"
   ]
  }
 ],
 "metadata": {
  "kernelspec": {
   "display_name": "Python 3.9.1 64-bit",
   "language": "python",
   "name": "python3"
  },
  "language_info": {
   "codemirror_mode": {
    "name": "ipython",
    "version": 3
   },
   "file_extension": ".py",
   "mimetype": "text/x-python",
   "name": "python",
   "nbconvert_exporter": "python",
   "pygments_lexer": "ipython3",
   "version": "3.9.1"
  },
  "orig_nbformat": 4,
  "vscode": {
   "interpreter": {
    "hash": "130d85b736f455fb007f8de9bdd1e41b2b61fc7f886a6550e3d523aa94b3e114"
   }
  }
 },
 "nbformat": 4,
 "nbformat_minor": 2
}
