{
 "cells": [
  {
   "cell_type": "code",
   "execution_count": 1,
   "metadata": {},
   "outputs": [],
   "source": [
    "import numpy as np\n",
    "import scipy.constants as sc\n",
    "import os\n",
    "from uncertainties import ufloat \n",
    "from uncertainties import ufloat_fromstr\n",
    "from uncertainties import wrap\n",
    "from uncertainties import unumpy as up\n",
    "import uncertainties\n",
    "import math as m"
   ]
  },
  {
   "cell_type": "code",
   "execution_count": 34,
   "metadata": {},
   "outputs": [],
   "source": [
    "def bragg(n,data):\n",
    "    mu1 = ufloat(data[4],float(data[5]))\n",
    "    mu2 = ufloat(data[6],float(data[7]))\n",
    "    print('Ordnung'+str(n))\n",
    "    e1 = (sc.Planck*sc.c)*n/(2*(3.1355e-10)*up.sin(up.radians(mu1/2))*sc.eV)\n",
    "    e2 = (sc.Planck*sc.c)*n/(2*(3.1355e-10)*up.sin(up.radians(mu2/2))*sc.eV)\n",
    "    re1 = 100*(1-e1/8047.8)\n",
    "    re2 = 100*(1-e2/8027.8) \n",
    "    return e1, re1, e2, re2\n",
    "\n",
    "def ebreite(n,data):\n",
    "    mu1 = ufloat(data[4],float(data[5]))\n",
    "    mu2 = ufloat(data[6],float(data[7]))\n",
    "    fwhm1 = ufloat(data[16],float(data[17]))\n",
    "    fwhm2 = ufloat(data[18],float(data[19]))\n",
    "    x11=mu1-fwhm1/2\n",
    "    x12=mu1+fwhm1/2\n",
    "    x21=mu2-fwhm2/2\n",
    "    x22=mu2+fwhm2/2\n",
    "    eb1=(sc.Planck*sc.c)*n/(2*(3.1355e-10)*up.sin(up.radians(x11/2))*sc.eV)-(sc.Planck*sc.c)*n/(2*(3.1355e-10)*up.sin(up.radians(x12/2))*sc.eV)\n",
    "    eb2=(sc.Planck*sc.c)*n/(2*(3.1355e-10)*up.sin(up.radians(x21/2))*sc.eV)-(sc.Planck*sc.c)*n/(2*(3.1355e-10)*up.sin(up.radians(x22/2))*sc.eV)\n",
    "    return eb1,eb2\n"
   ]
  },
  {
   "cell_type": "code",
   "execution_count": 35,
   "metadata": {},
   "outputs": [
    {
     "name": "stdout",
     "output_type": "stream",
     "text": [
      "Ordnung1\n",
      "(8052.887324294287+/-0.13386418450710588, -0.0632138509193414+/-0.0016633637081824334, 8032.328069118368+/-0.2579462420122467, -0.056404857101166606+/-0.003213162286208509)\n",
      "(6.717347297394554+/-1.956463855659939, 8.174118960931082+/-1.8669516511648578)\n",
      "Ordnung2\n",
      "(8050.32659438461+/-0.11730117926908991, -0.031394845605126065+/-0.0014575558446915915, 8030.716581948753+/-0.18329067789877818, -0.03633102405082855+/-0.002283199355972722)\n",
      "(5.394213770152419+/-0.7463796211606293, 5.574512483408398+/-1.4101356997612358)\n",
      "Ordnung3\n",
      "(8048.734806139804+/-0.04767880567628119, -0.011615673100773272+/-0.0005924452108188722, 8028.910212088908+/-0.07624809105695347, -0.013829593274716778+/-0.0009498005811922753)\n",
      "(3.812916419128669+/-0.30049757791957143, 4.32806829276069+/-0.2797932639231127)\n"
     ]
    }
   ],
   "source": [
    "with open(\"results_40_40_mit/voigt_fits_40_40_mit.txt\") as tf:\n",
    "    data = np.loadtxt(tf,delimiter=\"\\t\",skiprows=1,dtype=\"str\")\n",
    "o=0\n",
    "\n",
    "\n",
    "\n",
    "\n",
    "for i in range(1,len(data),2):\n",
    "    o+=1\n",
    "    print(bragg(o,data[i]))\n",
    "    print(ebreite(o,data[i]))"
   ]
  },
  {
   "cell_type": "code",
   "execution_count": 13,
   "metadata": {},
   "outputs": [
    {
     "name": "stdout",
     "output_type": "stream",
     "text": [
      "range(1, 6, 2)\n"
     ]
    }
   ],
   "source": [
    "15,16\n",
    "17,18\n"
   ]
  }
 ],
 "metadata": {
  "kernelspec": {
   "display_name": "Python 3.10.7 64-bit",
   "language": "python",
   "name": "python3"
  },
  "language_info": {
   "codemirror_mode": {
    "name": "ipython",
    "version": 3
   },
   "file_extension": ".py",
   "mimetype": "text/x-python",
   "name": "python",
   "nbconvert_exporter": "python",
   "pygments_lexer": "ipython3",
   "version": "3.10.7"
  },
  "orig_nbformat": 4,
  "vscode": {
   "interpreter": {
    "hash": "e7370f93d1d0cde622a1f8e1c04877d8463912d04d973331ad4851f04de6915a"
   }
  }
 },
 "nbformat": 4,
 "nbformat_minor": 2
}
