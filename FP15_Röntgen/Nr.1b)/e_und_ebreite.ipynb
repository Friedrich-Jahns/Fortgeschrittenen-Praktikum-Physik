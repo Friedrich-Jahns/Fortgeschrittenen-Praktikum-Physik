{
 "cells": [
  {
   "cell_type": "code",
   "execution_count": 31,
   "metadata": {},
   "outputs": [],
   "source": [
    "import numpy as np\n",
    "import scipy.constants as sc\n",
    "import os\n",
    "from uncertainties import ufloat \n",
    "from uncertainties import ufloat_fromstr\n",
    "from uncertainties import wrap\n",
    "import uncertainties\n",
    "import math as m"
   ]
  },
  {
   "cell_type": "code",
   "execution_count": 40,
   "metadata": {},
   "outputs": [],
   "source": [
    "def bragg(n,theta):\n",
    "    (sc.Planck*sc.c)*n/(2*3.1355e-10*m.sin(m.radians(theta*2)))\n",
    "wbragg=wrap(bragg)"
   ]
  },
  {
   "cell_type": "code",
   "execution_count": 41,
   "metadata": {},
   "outputs": [
    {
     "name": "stdout",
     "output_type": "stream",
     "text": [
      "NotImplemented\n",
      "NotImplemented\n"
     ]
    }
   ],
   "source": [
    "with open(\"results_40_40_mit/voigt_fits_40_40_mit.txt\") as tf:\n",
    "    data = np.loadtxt(tf,delimiter=\"\\t\",skiprows=1,dtype=\"str\")\n",
    "o=0\n",
    "\n",
    "\n",
    "mu1 = ufloat(data[1,4],float(data[1,5]))\n",
    "mu2 = ufloat(data[1,4],float(data[1,5]))\n",
    "\n",
    "print(wbragg(1,mu1))\n",
    "print(wbragg(1,mu2))\n",
    "\n",
    "for i in range(len(data)):\n",
    "    o+=1\n",
    "    "
   ]
  }
 ],
 "metadata": {
  "kernelspec": {
   "display_name": "Python 3.9.1 64-bit",
   "language": "python",
   "name": "python3"
  },
  "language_info": {
   "codemirror_mode": {
    "name": "ipython",
    "version": 3
   },
   "file_extension": ".py",
   "mimetype": "text/x-python",
   "name": "python",
   "nbconvert_exporter": "python",
   "pygments_lexer": "ipython3",
   "version": "3.9.1"
  },
  "orig_nbformat": 4,
  "vscode": {
   "interpreter": {
    "hash": "130d85b736f455fb007f8de9bdd1e41b2b61fc7f886a6550e3d523aa94b3e114"
   }
  }
 },
 "nbformat": 4,
 "nbformat_minor": 2
}
