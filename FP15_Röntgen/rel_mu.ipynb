{
 "cells": [
  {
   "cell_type": "code",
   "execution_count": 29,
   "metadata": {},
   "outputs": [],
   "source": [
    "import numpy as np\n",
    "import os\n",
    "from uncertainties import ufloat \n",
    "from uncertainties import ufloat_fromstr\n",
    "from uncertainties import wrap\n",
    "import uncertainties"
   ]
  },
  {
   "cell_type": "code",
   "execution_count": 30,
   "metadata": {},
   "outputs": [],
   "source": [
    "def div(a,b):\n",
    "    return a/b\n"
   ]
  },
  {
   "cell_type": "code",
   "execution_count": 33,
   "metadata": {},
   "outputs": [
    {
     "name": "stdout",
     "output_type": "stream",
     "text": [
      "############################voigt_fits_30_15_ohne.txt\n",
      "I1b/I1a1: 0.27496+/-0.00001\n",
      "I1a2/I1a1: 0.49624+/-0.00004\n",
      "I2b/I2a1: 0.14148+/-0.00000\n",
      "I2a2/I2a1: 0.43529+/-0.00002\n",
      "I3b/I3a1: 0.15116+/-0.00001\n",
      "I3a2/I3a1: 0.46774+/-0.00004\n",
      "75710.0+/-1.0  275350+/-10  136640+/-10\n",
      "69.6820+/-0.0010  492.520+/-0.010  214.390+/-0.010\n",
      "3802.50+/-0.10  25155.0+/-1.0  11766.0+/-1.0\n",
      "############################voigt_fits_30_20_ohne.txt\n",
      "I1b/I1a1: 0.80047+/-0.00005\n",
      "I1a2/I1a1: 0.50370+/-0.00004\n",
      "I2b/I2a1: 0.78835+/-0.00001\n",
      "I2a2/I2a1: 0.45649+/-0.00001\n",
      "I3b/I3a1: 0.68117+/-0.00007\n",
      "I3a2/I3a1: 0.47279+/-0.00003\n",
      "209980+/-10  262320+/-10  132130+/-10\n",
      "78.7210+/-0.0010  99.8560+/-0.0010  45.5830+/-0.0010\n",
      "12586.0+/-1.0  18477.0+/-1.0  8735.80+/-0.10\n",
      "############################voigt_fits_40_20_ohne.txt\n",
      "I1b/I1a1: 0.83229+/-0.00003\n",
      "I1a2/I1a1: 0.51439+/-0.00003\n",
      "I2b/I2a1: 0.84140+/-0.00007\n",
      "I2a2/I2a1: 0.51905+/-0.00003\n",
      "I3b/I3a1: 0.73456+/-0.00004\n",
      "I3a2/I3a1: 0.46388+/-0.00004\n",
      "341740+/-10  410600+/-10  211210+/-10\n",
      "147.330+/-0.010  175.100+/-0.010  90.8850+/-0.0010\n",
      "22169.0+/-1.0  30180.0+/-1.0  14000.0+/-1.0\n",
      "############################voigt_fits_40_40_ohne.txt\n",
      "I1b/I1a1: 0.92040+/-0.00002\n",
      "I1a2/I1a1: 0.59392+/-0.00002\n",
      "I2b/I2a1: 0.88214+/-0.00005\n",
      "I2a2/I2a1: 0.50896+/-0.00004\n",
      "I3b/I3a1: 0.65791+/-0.00002\n",
      "I3a2/I3a1: 0.47292+/-0.00002\n",
      "567930+/-10  617050+/-10  366480+/-10\n",
      "250.660+/-0.010  284.150+/-0.010  144.620+/-0.010\n",
      "41511.0+/-1.0  63095.0+/-1.0  29839.0+/-1.0\n"
     ]
    }
   ],
   "source": [
    "for i in os.listdir('results_1-4_ohne'):\n",
    "    path = 'results_1-4_ohne/'+i\n",
    "    with open(path) as tf:\n",
    "        data = np.loadtxt(tf,delimiter=\"\\t\",skiprows=1,dtype=\"str\")\n",
    "    \n",
    "    i1b ,i1a1,i1a2 = ufloat_fromstr(data[0,20],data[0,21]),ufloat_fromstr(data[1,20],data[1,21]),ufloat_fromstr(data[1,22],data[1,23])\n",
    "    i2b ,i2a1,i2a2 = ufloat_fromstr(data[2,20],data[2,21]),ufloat_fromstr(data[3,20],data[3,21]),ufloat_fromstr(data[3,22],data[3,23])\n",
    "    i3b ,i3a1,i3a2 = ufloat_fromstr(data[4,20],data[4,21]),ufloat_fromstr(data[5,20],data[5,21]),ufloat_fromstr(data[5,22],data[5,23])\n",
    "    \n",
    "    print(\"############################\"+i)\n",
    "    print(\"I1b/I1a1: \"+str(div(i1b,i1a1).format(\":1.5\")))\n",
    "    print(\"I1a2/I1a1: \"+str(div(i1a2,i1a1).format(\":1.5\")))\n",
    "    print(\"I2b/I2a1: \"+str(div(i2b,i2a1).format(\":1.5\")))\n",
    "    print(\"I2a2/I2a1: \"+str(div(i2a2,i2a1).format(\":1.5\")))\n",
    "    print(\"I3b/I3a1: \"+str(div(i3b,i3a1).format(\":1.5\")))\n",
    "    print(\"I3a2/I3a1: \"+str(div(i3a2,i3a1).format(\":1.5\")))\n",
    "\n",
    "    print(str(i1b)+\"  \"+str(i1a1)+\"  \"+str(i1a2))\n",
    "    print(str(i2b)+\"  \"+str(i2a1)+\"  \"+str(i2a2))\n",
    "    print(str(i3b)+\"  \"+str(i3a1)+\"  \"+str(i3a2))\n"
   ]
  }
 ],
 "metadata": {
  "kernelspec": {
   "display_name": "Python 3.9.1 64-bit",
   "language": "python",
   "name": "python3"
  },
  "language_info": {
   "codemirror_mode": {
    "name": "ipython",
    "version": 3
   },
   "file_extension": ".py",
   "mimetype": "text/x-python",
   "name": "python",
   "nbconvert_exporter": "python",
   "pygments_lexer": "ipython3",
   "version": "3.9.1"
  },
  "orig_nbformat": 4,
  "vscode": {
   "interpreter": {
    "hash": "130d85b736f455fb007f8de9bdd1e41b2b61fc7f886a6550e3d523aa94b3e114"
   }
  }
 },
 "nbformat": 4,
 "nbformat_minor": 2
}
