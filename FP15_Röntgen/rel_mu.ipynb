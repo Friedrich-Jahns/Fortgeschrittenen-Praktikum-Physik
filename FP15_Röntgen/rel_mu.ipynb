{
 "cells": [
  {
   "cell_type": "code",
   "execution_count": 35,
   "metadata": {},
   "outputs": [],
   "source": [
    "import numpy as np\n",
    "import os\n",
    "from uncertainties import ufloat \n",
    "from uncertainties import ufloat_fromstr\n",
    "from uncertainties import wrap\n",
    "import uncertainties"
   ]
  },
  {
   "cell_type": "code",
   "execution_count": 36,
   "metadata": {},
   "outputs": [],
   "source": [
    "def div(a,b):\n",
    "    return a/b\n"
   ]
  },
  {
   "cell_type": "code",
   "execution_count": 37,
   "metadata": {},
   "outputs": [
    {
     "name": "stdout",
     "output_type": "stream",
     "text": [
      "############################voigt_fits_30_15_ohne.txt\n",
      "I1b/I1a1: 0.27496+/-0.04860\n",
      "I1a2/I1a1: 0.49624+/-0.11592\n",
      "I2b/I2a1: 0.14148+/-0.03809\n",
      "I2a2/I2a1: 0.43529+/-0.11786\n",
      "I3b/I3a1: 0.15116+/-0.01111\n",
      "I3a2/I3a1: 0.46774+/-0.04835\n",
      ".\n",
      "75710+/-8583  2.7535e+05+/-0.3734e+05  1.3664e+05+/-0.2599e+05\n",
      "69.682+/-14.968  492.52+/-79.92  214.39+/-46.47\n",
      "3802.5+/-169.3  25155+/-1471  11766+/-1003\n",
      ".\n",
      "i2b/i1b: 0.00092038+/-0.00022355\n",
      "i2a1/i1a1: 0.0017887+/-0.0003783\n",
      "i2a2/i1a2: 0.0015690+/-0.0004525\n",
      "i3b/i1b: 0.050225+/-0.006117\n",
      "i3a1/i1a1: 0.091356+/-0.013492\n",
      "i3a2/i1a2: 0.086109+/-0.017948\n",
      "############################voigt_fits_30_20_ohne.txt\n",
      "I1b/I1a1: 0.80047+/-0.06274\n",
      "I1a2/I1a1: 0.50370+/-0.02166\n",
      "I2b/I2a1: 0.78835+/-0.20876\n",
      "I2a2/I2a1: 0.45649+/-0.18247\n",
      "I3b/I3a1: 0.68117+/-0.02537\n",
      "I3a2/I3a1: 0.47279+/-0.01905\n",
      ".\n",
      "2.0998e+05+/-0.1577e+05  2.6232e+05+/-0.0588e+05  1.3213e+05+/-0.0485e+05\n",
      "78.721+/-13.390  99.856+/-20.266  45.583+/-15.697\n",
      "12586+/-414  18477+/-323  8735.8+/-317.2\n",
      ".\n",
      "i2b/i1b: 0.00037490+/-0.00006971\n",
      "i2a1/i1a1: 0.00038066+/-0.00007773\n",
      "i2a2/i1a2: 0.00034499+/-0.00011947\n",
      "i3b/i1b: 0.059939+/-0.004914\n",
      "i3a1/i1a1: 0.070437+/-0.002002\n",
      "i3a2/i1a2: 0.066115+/-0.003414\n",
      "############################voigt_fits_40_20_ohne.txt\n",
      "I1b/I1a1: 0.83229+/-0.06006\n",
      "I1a2/I1a1: 0.51439+/-0.02263\n",
      "I2b/I2a1: 0.84140+/-0.18494\n",
      "I2a2/I2a1: 0.51905+/-0.23920\n",
      "I3b/I3a1: 0.73456+/-0.02742\n",
      "I3a2/I3a1: 0.46388+/-0.01791\n",
      ".\n",
      "3.4174e+05+/-0.2339e+05  4.1060e+05+/-0.0939e+05  2.1121e+05+/-0.0794e+05\n",
      "147.33+/-10.95  175.10+/-36.22  90.885+/-37.428\n",
      "22169+/-723  30180+/-548  14000+/-477\n",
      ".\n",
      "i2b/i1b: 0.00043112+/-0.00004356\n",
      "i2a1/i1a1: 0.00042645+/-0.00008875\n",
      "i2a2/i1a2: 0.00043031+/-0.00017794\n",
      "i3b/i1b: 0.064871+/-0.004918\n",
      "i3a1/i1a1: 0.073502+/-0.002146\n",
      "i3a2/i1a2: 0.066285+/-0.003363\n",
      "############################voigt_fits_40_40_ohne.txt\n",
      "I1b/I1a1: 0.92040+/-0.07925\n",
      "I1a2/I1a1: 0.59392+/-0.05422\n",
      "I2b/I2a1: 0.88214+/-0.23893\n",
      "I2a2/I2a1: 0.50896+/-0.28848\n",
      "I3b/I3a1: 0.65791+/-0.02250\n",
      "I3a2/I3a1: 0.47292+/-0.02109\n",
      ".\n",
      "5.6793e+05+/-0.4112e+05  6.1705e+05+/-0.2875e+05  3.6648e+05+/-0.2877e+05\n",
      "250.66+/-38.36  284.15+/-63.50  144.62+/-75.33\n",
      "41511+/-910  63095+/-1656  29839+/-1076\n",
      ".\n",
      "i2b/i1b: 0.00044136+/-0.00007472\n",
      "i2a1/i1a1: 0.00046050+/-0.00010512\n",
      "i2a2/i1a2: 0.00039462+/-0.00020787\n",
      "i3b/i1b: 0.073092+/-0.005529\n",
      "i3a1/i1a1: 0.10225+/-0.00547\n",
      "i3a2/i1a2: 0.081421+/-0.007034\n"
     ]
    }
   ],
   "source": [
    "for i in os.listdir('results_1-4_ohne'):\n",
    "    path = 'results_1-4_ohne/'+i\n",
    "    with open(path) as tf:\n",
    "        data = np.loadtxt(tf,delimiter=\"\\t\",skiprows=1,dtype=\"str\")\n",
    "    \n",
    "    i1b ,i1a1,i1a2 = ufloat(data[0,20],float(data[0,21])),ufloat(data[1,20],float(data[1,21])),ufloat(data[1,22],float(data[1,23]))\n",
    "    i2b ,i2a1,i2a2 = ufloat(data[2,20],float(data[2,21])),ufloat(data[3,20],float(data[3,21])),ufloat(data[3,22],float(data[3,23]))\n",
    "    i3b ,i3a1,i3a2 = ufloat(data[4,20],float(data[4,21])),ufloat(data[5,20],float(data[5,21])),ufloat(data[5,22],float(data[5,23]))\n",
    "\n",
    "\n",
    "    print(\"############################\"+i)\n",
    "    print(\"I1b/I1a1: \"+str(div(i1b,i1a1).format(\":1.5\")))\n",
    "    print(\"I1a2/I1a1: \"+str(div(i1a2,i1a1).format(\":1.5\")))\n",
    "    print(\"I2b/I2a1: \"+str(div(i2b,i2a1).format(\":1.5\")))\n",
    "    print(\"I2a2/I2a1: \"+str(div(i2a2,i2a1).format(\":1.5\")))\n",
    "    print(\"I3b/I3a1: \"+str(div(i3b,i3a1).format(\":1.5\")))\n",
    "    print(\"I3a2/I3a1: \"+str(div(i3a2,i3a1).format(\":1.5\")))\n",
    "    print(\".\")\n",
    "    print(str(i1b.format(\":1.5\"))+\"  \"+str(i1a1.format(\":1.5\"))+\"  \"+str(i1a2.format(\":1.5\")))\n",
    "    print(str(i2b.format(\":1.5\"))+\"  \"+str(i2a1.format(\":1.5\"))+\"  \"+str(i2a2.format(\":1.5\")))\n",
    "    print(str(i3b.format(\":1.5\"))+\"  \"+str(i3a1.format(\":1.5\"))+\"  \"+str(i3a2.format(\":1.5\")))\n",
    "    print(\".\")\n",
    "    print(\"i2b/i1b: \"+str(div(i2b,i1b).format(\":1.5\")))\n",
    "    print(\"i2a1/i1a1: \"+str(div(i2a1,i1a1).format(\":1.5\")))\n",
    "    print(\"i2a2/i1a2: \"+str(div(i2a2,i1a2).format(\":1.5\")))\n",
    "    print(\"i3b/i1b: \"+str(div(i3b,i1b).format(\":1.5\")))\n",
    "    print(\"i3a1/i1a1: \"+str(div(i3a1,i1a1).format(\":1.5\")))\n",
    "    print(\"i3a2/i1a2: \"+str(div(i3a2,i1a2).format(\":1.5\")))\n"
   ]
  }
 ],
 "metadata": {
  "kernelspec": {
   "display_name": "Python 3.9.1 64-bit",
   "language": "python",
   "name": "python3"
  },
  "language_info": {
   "codemirror_mode": {
    "name": "ipython",
    "version": 3
   },
   "file_extension": ".py",
   "mimetype": "text/x-python",
   "name": "python",
   "nbconvert_exporter": "python",
   "pygments_lexer": "ipython3",
   "version": "3.9.1"
  },
  "orig_nbformat": 4,
  "vscode": {
   "interpreter": {
    "hash": "130d85b736f455fb007f8de9bdd1e41b2b61fc7f886a6550e3d523aa94b3e114"
   }
  }
 },
 "nbformat": 4,
 "nbformat_minor": 2
}
