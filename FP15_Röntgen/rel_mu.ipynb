{
 "cells": [
  {
   "cell_type": "code",
   "execution_count": 7,
   "metadata": {},
   "outputs": [],
   "source": [
    "import numpy as np\n",
    "import os"
   ]
  },
  {
   "cell_type": "code",
   "execution_count": 17,
   "metadata": {},
   "outputs": [
    {
     "name": "stdout",
     "output_type": "stream",
     "text": [
      "75710+/-8583 und none+/-none\n",
      "2.0998e+05+/-0.1577e+05 und none+/-none\n",
      "3.4174e+05+/-0.2339e+05 und none+/-none\n",
      "5.6793e+05+/-0.4112e+05 und none+/-none\n"
     ]
    }
   ],
   "source": [
    "for i in os.listdir('results_1-4_ohne'):\n",
    "    path = 'results_1-4_ohne/'+i\n",
    "    with open(path) as tf:\n",
    "        data = np.loadtxt(tf,delimiter=\"\\t\",skiprows=1,dtype=\"str\")\n",
    "        print(str(data[0,20])+\"+/-\"+str(data[0,21])+\" und \"+str(data[0,22])+\"+/-\"+str(data[0,23]))\n",
    "\n",
    "\n",
    "\n"
   ]
  }
 ],
 "metadata": {
  "kernelspec": {
   "display_name": "Python 3.9.1 64-bit",
   "language": "python",
   "name": "python3"
  },
  "language_info": {
   "codemirror_mode": {
    "name": "ipython",
    "version": 3
   },
   "file_extension": ".py",
   "mimetype": "text/x-python",
   "name": "python",
   "nbconvert_exporter": "python",
   "pygments_lexer": "ipython3",
   "version": "3.9.1"
  },
  "orig_nbformat": 4,
  "vscode": {
   "interpreter": {
    "hash": "130d85b736f455fb007f8de9bdd1e41b2b61fc7f886a6550e3d523aa94b3e114"
   }
  }
 },
 "nbformat": 4,
 "nbformat_minor": 2
}
