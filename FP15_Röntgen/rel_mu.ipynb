{
 "cells": [
  {
   "cell_type": "code",
   "execution_count": 13,
   "metadata": {},
   "outputs": [],
   "source": [
    "import numpy as np\n",
    "import os\n",
    "from uncertainties import ufloat \n",
    "from uncertainties import ufloat_fromstr"
   ]
  },
  {
   "cell_type": "code",
   "execution_count": 20,
   "metadata": {},
   "outputs": [
    {
     "name": "stdout",
     "output_type": "stream",
     "text": [
      "voigt_fits_30_15_ohne.txt\n",
      "voigt_fits_30_20_ohne.txt\n",
      "voigt_fits_40_20_ohne.txt\n",
      "voigt_fits_40_40_ohne.txt\n"
     ]
    }
   ],
   "source": [
    "for i in os.listdir('results_1-4_ohne'):\n",
    "    path = 'results_1-4_ohne/'+i\n",
    "    with open(path) as tf:\n",
    "        data = np.loadtxt(tf,delimiter=\"\\t\",skiprows=1,dtype=\"str\")\n",
    " \n",
    "\n",
    "\n"
   ]
  },
  {
   "cell_type": "code",
   "execution_count": 15,
   "metadata": {},
   "outputs": [
    {
     "name": "stdout",
     "output_type": "stream",
     "text": [
      "567930+/-10\n"
     ]
    }
   ],
   "source": [
    "i1b ,i1a1,i1a2 = ufloat_fromstr(data[0,20],data[0,21]),ufloat_fromstr(data[1,20],data[1,21]),ufloat_fromstr(data[1,22],data[1,23])\n",
    "print(str(i1b/i1a1))\n",
    "print(i1b/i1a1)"
   ]
  }
 ],
 "metadata": {
  "kernelspec": {
   "display_name": "Python 3.9.1 64-bit",
   "language": "python",
   "name": "python3"
  },
  "language_info": {
   "codemirror_mode": {
    "name": "ipython",
    "version": 3
   },
   "file_extension": ".py",
   "mimetype": "text/x-python",
   "name": "python",
   "nbconvert_exporter": "python",
   "pygments_lexer": "ipython3",
   "version": "3.9.1"
  },
  "orig_nbformat": 4,
  "vscode": {
   "interpreter": {
    "hash": "130d85b736f455fb007f8de9bdd1e41b2b61fc7f886a6550e3d523aa94b3e114"
   }
  }
 },
 "nbformat": 4,
 "nbformat_minor": 2
}
