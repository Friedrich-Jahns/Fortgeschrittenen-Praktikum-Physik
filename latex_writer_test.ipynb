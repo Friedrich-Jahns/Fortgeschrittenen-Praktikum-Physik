{
 "cells": [
  {
   "cell_type": "code",
   "execution_count": 1,
   "metadata": {},
   "outputs": [],
   "source": [
    "import numpy as np\n",
    "import lmfit\n",
    "import matplotlib.pyplot as plt"
   ]
  },
  {
   "cell_type": "code",
   "execution_count": 15,
   "metadata": {},
   "outputs": [],
   "source": [
    "def pos(x):\n",
    "    for i in range(len(data[0])):\n",
    "        if data[0,i]>=x:\n",
    "            return i\n",
    "            break"
   ]
  },
  {
   "cell_type": "code",
   "execution_count": 3,
   "metadata": {},
   "outputs": [],
   "source": [
    "def lin(x,a,b):\n",
    "    return x*a+b"
   ]
  },
  {
   "cell_type": "code",
   "execution_count": 14,
   "metadata": {},
   "outputs": [
    {
     "data": {
      "image/png": "[encoded data removed]",
      "text/plain": [
       "<Figure size 432x288 with 1 Axes>"
      ]
     },
     "metadata": {
      "needs_background": "light"
     },
     "output_type": "display_data"
    }
   ],
   "source": [
    "x=np.arange(100)\n",
    "y=lin(1,1)\n",
    "plt.plot(x,y)\n",
    "data=[x,y]"
   ]
  },
  {
   "cell_type": "code",
   "execution_count": 9,
   "metadata": {},
   "outputs": [],
   "source": [
    "def gaus1fit(von,bis,path,m=1,mmin=0,mmax=2,s=0.2,smax=1000,scale=1e-9,override=False): \n",
    "    vonarr = pos(von)\n",
    "    bisarr = pos(bis)\n",
    "\n",
    "    model_gaus = lmfit.models.GaussianModel()  \n",
    "    pars_gaus=model_gaus.guess(data=data[1,vonarr:bisarr],x=data[0,vonarr:bisarr])\n",
    "    if override:\n",
    "        #pars_gaus = model_gaus.make_params()\n",
    "        pars_gaus[\"center\"].set(value=m,min=mmin,max=mmax)\n",
    "        pars_gaus[\"sigma\"].set(value=1,min=0)\n",
    "        pars_gaus[\"amplitude\"].set(value=1,min=0)\n",
    "\n",
    "\n",
    "    #Fitten\n",
    "    out_gaus = model_gaus.fit(data[1,vonarr:bisarr],x=data[0,vonarr:bisarr],weights=1/data[2,vonarr:bisarr],params=pars_gaus,nan_policy='propagate')\n",
    "\n",
    "    fig = plt.figure(figsize=(10,5),dpi=80,linewidth=50)\n",
    "    plt.errorbar(data[0,vonarr:bisarr],data[1,vonarr:bisarr],yerr=data[2,vonarr:bisarr],fmt='o',ecolor='lightgray',color='r', elinewidth=3, capsize=0,zorder=5,label=\"Daten\")\n",
    "    plt.plot(np.arange(von,bis,0.01),out_gaus.eval(x=np.arange(von,bis,0.01)),zorder=10,color='k',linestyle='--',alpha=0.5,label=\"Gaus-Fit\")\n",
    "    \n",
    "\n",
    "    plt.grid()\n",
    "    plt.legend()\n",
    "    #plt.savefig('Results/'+str(path)+'.pdf')\n",
    "\n",
    "    print(out_gaus.fit_report())\n",
    "\n",
    "\n",
    "    return np.array([np.arange(von,bis,0.01),out_gaus.eval(x=np.arange(von,bis,0.01))])\n",
    "\n",
    "\n",
    "\n",
    "\n",
    "def gaus2fit(von,bis,path,override=False,m1=1,s1=1,scale1=1,m2=1,s2=1,scale2=1,m1min=1,m1max=1,m2min=1,m2max=1): \n",
    "    vonarr = pos(von)\n",
    "    bisarr = pos(bis)\n",
    "\n",
    "    model_gaus=lmfit.models.GaussianModel(prefix=\"g1_\")+lmfit.models.GaussianModel(prefix=\"g2_\")\n",
    "\n",
    "    def guess(data,x):\n",
    "        params_g1=lmfit.models.GaussianModel(prefix=\"g1_\").guess(data,x)\n",
    "        params=model_gaus.make_params()\n",
    "        for i in params_g1:\n",
    "            params[i]=params_g1[i]\n",
    "                    \n",
    "        params[\"g2_center\"].value=params.get(\"g1_center\").value-1\n",
    "        params[\"g2_sigma\"].value=params.get(\"g1_sigma\").value*0.5\n",
    "        params[\"g2_amplitude\"].value=params.get(\"g1_amplitude\").value*0.3\n",
    "        return params\n",
    "\n",
    "    model_gaus.guess=guess\n",
    "    pars_gaus = model_gaus.guess(data=data[1,vonarr:bisarr],x=data[0,vonarr:bisarr])\n",
    "    if override:\n",
    "        #pars_gaus = model_gaus.make_params()\n",
    "        pars_gaus[\"g1_center\"].set(value=m1,min=m1min,max=m1max)\n",
    "        pars_gaus[\"g1_sigma\"].set(value=s1)\n",
    "        pars_gaus[\"g1_amplitude\"].set(value=scale1,min=0)\n",
    "        pars_gaus[\"g2_center\"].set(value=m2,min=m2min,max=m2max)\n",
    "        pars_gaus[\"g2_sigma\"].set(value=s2)\n",
    "        pars_gaus[\"g2_amplitude\"].set(value=scale2,min=0)\n",
    "\n",
    "\n",
    "    #Fitten\n",
    "    out_gaus = model_gaus.fit(data[1,vonarr:bisarr],x=data[0,vonarr:bisarr],weights=1/data[2,vonarr:bisarr],params=pars_gaus,nan_policy='propagate')\n",
    "\n",
    "    fig = plt.figure(figsize=(10,5),dpi=80,linewidth=50)\n",
    "    plt.errorbar(data[0,vonarr:bisarr],data[1,vonarr:bisarr],yerr=data[2,vonarr:bisarr],fmt='o',ecolor='lightgray',color='r', elinewidth=3, capsize=0,zorder=5,label=\"Daten\")\n",
    "    plt.plot(np.arange(von,bis,0.01),out_gaus.eval(x=np.arange(von,bis,0.01)),zorder=10,color='k',linestyle='--',alpha=0.5,label=\"Gaus-Fit\")\n",
    "    \n",
    "\n",
    "    plt.grid()\n",
    "    plt.legend()\n",
    "    #plt.savefig('Results/'+str(path)+'.pdf')\n",
    "\n",
    "    print(out_gaus.fit_report())\n",
    "\n",
    "    return np.array([np.arange(von,bis,0.01),out_gaus.eval(x=np.arange(von,bis,0.01))])"
   ]
  },
  {
   "cell_type": "code",
   "execution_count": 16,
   "metadata": {},
   "outputs": [
    {
     "ename": "TypeError",
     "evalue": "list indices must be integers or slices, not tuple",
     "output_type": "error",
     "traceback": [
      "\u001b[0;31m---------------------------------------------------------------------------\u001b[0m",
      "\u001b[0;31mTypeError\u001b[0m                                 Traceback (most recent call last)",
      "\u001b[1;32m/home/friedrichjahns/BScPhysik/Semester 7/Fortgeschrittenen-Praktikum-Physik/latex_writer_test.ipynb Zelle 6\u001b[0m in \u001b[0;36m<cell line: 1>\u001b[0;34m()\u001b[0m\n\u001b[0;32m----> <a href='vscode-notebook-cell:/home/friedrichjahns/BScPhysik/Semester%207/Fortgeschrittenen-Praktikum-Physik/latex_writer_test.ipynb#W4sZmlsZQ%3D%3D?line=0'>1</a>\u001b[0m gaus1fit(\u001b[39m0\u001b[39;49m,\u001b[39m100\u001b[39;49m,\u001b[39m'\u001b[39;49m\u001b[39mbla\u001b[39;49m\u001b[39m'\u001b[39;49m)\n",
      "\u001b[1;32m/home/friedrichjahns/BScPhysik/Semester 7/Fortgeschrittenen-Praktikum-Physik/latex_writer_test.ipynb Zelle 6\u001b[0m in \u001b[0;36mgaus1fit\u001b[0;34m(von, bis, path, m, mmin, mmax, s, smax, scale, override)\u001b[0m\n\u001b[1;32m      <a href='vscode-notebook-cell:/home/friedrichjahns/BScPhysik/Semester%207/Fortgeschrittenen-Praktikum-Physik/latex_writer_test.ipynb#W4sZmlsZQ%3D%3D?line=0'>1</a>\u001b[0m \u001b[39mdef\u001b[39;00m \u001b[39mgaus1fit\u001b[39m(von,bis,path,m\u001b[39m=\u001b[39m\u001b[39m1\u001b[39m,mmin\u001b[39m=\u001b[39m\u001b[39m0\u001b[39m,mmax\u001b[39m=\u001b[39m\u001b[39m2\u001b[39m,s\u001b[39m=\u001b[39m\u001b[39m0.2\u001b[39m,smax\u001b[39m=\u001b[39m\u001b[39m1000\u001b[39m,scale\u001b[39m=\u001b[39m\u001b[39m1e-9\u001b[39m,override\u001b[39m=\u001b[39m\u001b[39mFalse\u001b[39;00m): \n\u001b[0;32m----> <a href='vscode-notebook-cell:/home/friedrichjahns/BScPhysik/Semester%207/Fortgeschrittenen-Praktikum-Physik/latex_writer_test.ipynb#W4sZmlsZQ%3D%3D?line=1'>2</a>\u001b[0m     vonarr \u001b[39m=\u001b[39m pos(von)\n\u001b[1;32m      <a href='vscode-notebook-cell:/home/friedrichjahns/BScPhysik/Semester%207/Fortgeschrittenen-Praktikum-Physik/latex_writer_test.ipynb#W4sZmlsZQ%3D%3D?line=2'>3</a>\u001b[0m     bisarr \u001b[39m=\u001b[39m pos(bis)\n\u001b[1;32m      <a href='vscode-notebook-cell:/home/friedrichjahns/BScPhysik/Semester%207/Fortgeschrittenen-Praktikum-Physik/latex_writer_test.ipynb#W4sZmlsZQ%3D%3D?line=4'>5</a>\u001b[0m     model_gaus \u001b[39m=\u001b[39m lmfit\u001b[39m.\u001b[39mmodels\u001b[39m.\u001b[39mGaussianModel()  \n",
      "\u001b[1;32m/home/friedrichjahns/BScPhysik/Semester 7/Fortgeschrittenen-Praktikum-Physik/latex_writer_test.ipynb Zelle 6\u001b[0m in \u001b[0;36mpos\u001b[0;34m(x)\u001b[0m\n\u001b[1;32m      <a href='vscode-notebook-cell:/home/friedrichjahns/BScPhysik/Semester%207/Fortgeschrittenen-Praktikum-Physik/latex_writer_test.ipynb#W4sZmlsZQ%3D%3D?line=0'>1</a>\u001b[0m \u001b[39mdef\u001b[39;00m \u001b[39mpos\u001b[39m(x):\n\u001b[1;32m      <a href='vscode-notebook-cell:/home/friedrichjahns/BScPhysik/Semester%207/Fortgeschrittenen-Praktikum-Physik/latex_writer_test.ipynb#W4sZmlsZQ%3D%3D?line=1'>2</a>\u001b[0m     \u001b[39mfor\u001b[39;00m i \u001b[39min\u001b[39;00m \u001b[39mrange\u001b[39m(\u001b[39mlen\u001b[39m(data[\u001b[39m0\u001b[39m])):\n\u001b[0;32m----> <a href='vscode-notebook-cell:/home/friedrichjahns/BScPhysik/Semester%207/Fortgeschrittenen-Praktikum-Physik/latex_writer_test.ipynb#W4sZmlsZQ%3D%3D?line=2'>3</a>\u001b[0m         \u001b[39mif\u001b[39;00m data[\u001b[39m0\u001b[39;49m,i]\u001b[39m>\u001b[39m\u001b[39m=\u001b[39mx:\n\u001b[1;32m      <a href='vscode-notebook-cell:/home/friedrichjahns/BScPhysik/Semester%207/Fortgeschrittenen-Praktikum-Physik/latex_writer_test.ipynb#W4sZmlsZQ%3D%3D?line=3'>4</a>\u001b[0m             \u001b[39mreturn\u001b[39;00m i\n\u001b[1;32m      <a href='vscode-notebook-cell:/home/friedrichjahns/BScPhysik/Semester%207/Fortgeschrittenen-Praktikum-Physik/latex_writer_test.ipynb#W4sZmlsZQ%3D%3D?line=4'>5</a>\u001b[0m             \u001b[39mbreak\u001b[39;00m\n",
      "\u001b[0;31mTypeError\u001b[0m: list indices must be integers or slices, not tuple"
     ]
    }
   ],
   "source": [
    "gaus1fit(0,100,'bla')"
   ]
  }
 ],
 "metadata": {
  "kernelspec": {
   "display_name": "Python 3.10.8 64-bit",
   "language": "python",
   "name": "python3"
  },
  "language_info": {
   "codemirror_mode": {
    "name": "ipython",
    "version": 3
   },
   "file_extension": ".py",
   "mimetype": "text/x-python",
   "name": "python",
   "nbconvert_exporter": "python",
   "pygments_lexer": "ipython3",
   "version": "3.10.8"
  },
  "orig_nbformat": 4,
  "vscode": {
   "interpreter": {
    "hash": "e7370f93d1d0cde622a1f8e1c04877d8463912d04d973331ad4851f04de6915a"
   }
  }
 },
 "nbformat": 4,
 "nbformat_minor": 2
}
