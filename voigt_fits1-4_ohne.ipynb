{
 "cells": [
  {
   "cell_type": "code",
   "execution_count": 1,
   "metadata": {},
   "outputs": [],
   "source": [
    "import scipy\n",
    "import matplotlib.pyplot as plt\n",
    "import numpy as np\n",
    "import lmfit\n",
    "from lmfit.models import LinearModel, LorentzianModel"
   ]
  },
  {
   "cell_type": "code",
   "execution_count": 2,
   "metadata": {},
   "outputs": [],
   "source": [
    "def voigt1(x,s1,g1,o1):\n",
    "    return scipy.special.voigt_profile(x+o,s1,g1)#+a*x**2+b\n",
    "def voigt2(x,s1,s2,g1,g2,o1,o2,scale1,scale2):\n",
    "    return scale1*scipy.special.voigt_profile(x-o1,s1,g1)+scale2*scipy.special.voigt_profile(x-o2,s2,g2)#+a*x**2+b"
   ]
  },
  {
   "cell_type": "code",
   "execution_count": 34,
   "metadata": {},
   "outputs": [
    {
     "data": {
      "image/png": "[encoded data removed]",
      "text/plain": [
       "<Figure size 432x288 with 1 Axes>"
      ]
     },
     "metadata": {
      "needs_background": "light"
     },
     "output_type": "display_data"
    }
   ],
   "source": [
    "path =  'Data/SI_111_30_15.xy'\n",
    "with open(path) as tf:\n",
    "    data = np.loadtxt(tf,delimiter=\" \").T\n",
    "\n",
    "err = np.zeros(len(data[1]))\n",
    "for i in range(len(err)):\n",
    "    err[i] = (data[1,i])**0.5\n",
    "data = np.vstack([data,err])\n",
    "\n",
    "plt.errorbar(data[0],data[1],yerr=data[2])\n",
    "plt.show()"
   ]
  },
  {
   "cell_type": "markdown",
   "metadata": {},
   "source": [
    "zu betrachtende intervalle:  \n",
    "b1[25,26]  \n",
    "a1[28,29]  \n",
    "b2[52.4,53]  \n",
    "a2[58.5,59.25]  \n",
    "b2[83,84]  \n",
    "a2[93,97]  "
   ]
  },
  {
   "cell_type": "code",
   "execution_count": null,
   "metadata": {},
   "outputs": [],
   "source": []
  }
 ],
 "metadata": {
  "kernelspec": {
   "display_name": "Python 3.10.7 64-bit",
   "language": "python",
   "name": "python3"
  },
  "language_info": {
   "codemirror_mode": {
    "name": "ipython",
    "version": 3
   },
   "file_extension": ".py",
   "mimetype": "text/x-python",
   "name": "python",
   "nbconvert_exporter": "python",
   "pygments_lexer": "ipython3",
   "version": "3.10.7"
  },
  "orig_nbformat": 4,
  "vscode": {
   "interpreter": {
    "hash": "e7370f93d1d0cde622a1f8e1c04877d8463912d04d973331ad4851f04de6915a"
   }
  }
 },
 "nbformat": 4,
 "nbformat_minor": 2
}
