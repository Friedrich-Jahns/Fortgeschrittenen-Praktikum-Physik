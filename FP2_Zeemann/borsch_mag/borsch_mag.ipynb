{
 "cells": [
  {
   "cell_type": "code",
   "execution_count": 3,
   "metadata": {},
   "outputs": [],
   "source": [
    "__file__ = 'rad_zu_ord_fit.ipynb'\n",
    "import sys\n",
    "import pathlib\n",
    "sys.path.append(str(pathlib.Path(__file__).absolute().parent.parent)+\"/FP2_lib\")\n",
    "import functions as f\n",
    "import os\n",
    "import numpy as np\n",
    "import matplotlib.pyplot as plt\n",
    "from pathlib import Path\n",
    "from uncertainties import unumpy as up"
   ]
  },
  {
   "cell_type": "code",
   "execution_count": 5,
   "metadata": {},
   "outputs": [
    {
     "ename": "ValueError",
     "evalue": "Some errors were detected !\n    Line #34 (got 3 columns instead of 4)",
     "output_type": "error",
     "traceback": [
      "\u001b[0;31m---------------------------------------------------------------------------\u001b[0m",
      "\u001b[0;31mValueError\u001b[0m                                Traceback (most recent call last)",
      "Cell \u001b[0;32mIn[5], line 2\u001b[0m\n\u001b[1;32m      1\u001b[0m \u001b[39mwith\u001b[39;00m \u001b[39mopen\u001b[39m(\u001b[39m'\u001b[39m\u001b[39mData/Data.csv\u001b[39m\u001b[39m'\u001b[39m, mode\u001b[39m=\u001b[39m\u001b[39m'\u001b[39m\u001b[39mr\u001b[39m\u001b[39m'\u001b[39m) \u001b[39mas\u001b[39;00m tf:\n\u001b[0;32m----> 2\u001b[0m     data \u001b[39m=\u001b[39m np\u001b[39m.\u001b[39;49mgenfromtxt(tf,delimiter\u001b[39m=\u001b[39;49m\u001b[39m\"\u001b[39;49m\u001b[39m\\t\u001b[39;49;00m\u001b[39m\"\u001b[39;49m)\u001b[39m.\u001b[39mT\n",
      "File \u001b[0;32m~/.local/lib/python3.11/site-packages/numpy/lib/npyio.py:2301\u001b[0m, in \u001b[0;36mgenfromtxt\u001b[0;34m(fname, dtype, comments, delimiter, skip_header, skip_footer, converters, missing_values, filling_values, usecols, names, excludelist, deletechars, replace_space, autostrip, case_sensitive, defaultfmt, unpack, usemask, loose, invalid_raise, max_rows, encoding, ndmin, like)\u001b[0m\n\u001b[1;32m   2299\u001b[0m \u001b[39m# Raise an exception ?\u001b[39;00m\n\u001b[1;32m   2300\u001b[0m \u001b[39mif\u001b[39;00m invalid_raise:\n\u001b[0;32m-> 2301\u001b[0m     \u001b[39mraise\u001b[39;00m \u001b[39mValueError\u001b[39;00m(errmsg)\n\u001b[1;32m   2302\u001b[0m \u001b[39m# Issue a warning ?\u001b[39;00m\n\u001b[1;32m   2303\u001b[0m \u001b[39melse\u001b[39;00m:\n\u001b[1;32m   2304\u001b[0m     warnings\u001b[39m.\u001b[39mwarn(errmsg, ConversionWarning, stacklevel\u001b[39m=\u001b[39m\u001b[39m2\u001b[39m)\n",
      "\u001b[0;31mValueError\u001b[0m: Some errors were detected !\n    Line #34 (got 3 columns instead of 4)"
     ]
    }
   ],
   "source": [
    "with open('Data/Data.csv', mode='r') as tf:\n",
    "    data = np.genfromtxt(tf,delimiter=\"\\t\").T"
   ]
  },
  {
   "cell_type": "code",
   "execution_count": null,
   "metadata": {},
   "outputs": [],
   "source": []
  }
 ],
 "metadata": {
  "kernelspec": {
   "display_name": "Python 3.10.8 64-bit",
   "language": "python",
   "name": "python3"
  },
  "language_info": {
   "codemirror_mode": {
    "name": "ipython",
    "version": 3
   },
   "file_extension": ".py",
   "mimetype": "text/x-python",
   "name": "python",
   "nbconvert_exporter": "python",
   "pygments_lexer": "ipython3",
   "version": "3.11.1"
  },
  "orig_nbformat": 4,
  "vscode": {
   "interpreter": {
    "hash": "e7370f93d1d0cde622a1f8e1c04877d8463912d04d973331ad4851f04de6915a"
   }
  }
 },
 "nbformat": 4,
 "nbformat_minor": 2
}
