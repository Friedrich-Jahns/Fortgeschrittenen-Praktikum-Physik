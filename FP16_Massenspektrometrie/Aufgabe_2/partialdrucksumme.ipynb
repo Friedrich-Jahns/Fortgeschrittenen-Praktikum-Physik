{
 "cells": [
  {
   "cell_type": "code",
   "execution_count": 1,
   "metadata": {},
   "outputs": [],
   "source": [
    "from matplotlib import pyplot as plt\n",
    "import scipy as sc\n",
    "import pandas\n",
    "import math\n",
    "import numpy as np\n",
    "import lmfit\n",
    "import os\n",
    "from uncertainties import ufloat\n",
    "import array_to_latex as atl"
   ]
  },
  {
   "cell_type": "code",
   "execution_count": 3,
   "metadata": {},
   "outputs": [
    {
     "data": {
      "text/plain": [
       "<ErrorbarContainer object of 3 artists>"
      ]
     },
     "execution_count": 3,
     "metadata": {},
     "output_type": "execute_result"
    },
    {
     "data": {
      "image/png": "[encoded data removed]",
      "text/plain": [
       "<Figure size 432x288 with 1 Axes>"
      ]
     },
     "metadata": {
      "needs_background": "light"
     },
     "output_type": "display_data"
    }
   ],
   "source": [
    "\n",
    "with open('Data/Restgas_3.csv', mode='r') as tf:\n",
    "        dataex = np.genfromtxt((line.replace(',', '.') for line in tf),delimiter=\";\",skip_header=21).T\n",
    "        data = np.zeros((2,len(dataex[3])))\n",
    "        data[0],data[1] = dataex[3],dataex[4]\n",
    "\n",
    "err = np.zeros(len(data[1]))\n",
    "for i in range(len(err)):\n",
    "    err[i] = 1e-10#(data[1,i])*0.3\n",
    "data = np.vstack([data,err])\n",
    "\n",
    "plt.errorbar(data[0],data[1],yerr=data[2],label = 'Data')"
   ]
  },
  {
   "cell_type": "code",
   "execution_count": 4,
   "metadata": {},
   "outputs": [
    {
     "name": "stdout",
     "output_type": "stream",
     "text": [
      "1.3462177335000103e-06\n"
     ]
    }
   ],
   "source": [
    "sum=0\n",
    "for i in data[1]:\n",
    "    sum+=i\n",
    "print(sum)"
   ]
  },
  {
   "cell_type": "code",
   "execution_count": 5,
   "metadata": {},
   "outputs": [
    {
     "name": "stdout",
     "output_type": "stream",
     "text": [
      "(1.346+/-0.005)e-06\n"
     ]
    }
   ],
   "source": [
    "sum=0\n",
    "for i in range(len(data[1])):\n",
    "    sum+=ufloat(data[1,i],data[2,i])\n",
    "print(sum)"
   ]
  }
 ],
 "metadata": {
  "kernelspec": {
   "display_name": "Python 3.10.8 64-bit",
   "language": "python",
   "name": "python3"
  },
  "language_info": {
   "codemirror_mode": {
    "name": "ipython",
    "version": 3
   },
   "file_extension": ".py",
   "mimetype": "text/x-python",
   "name": "python",
   "nbconvert_exporter": "python",
   "pygments_lexer": "ipython3",
   "version": "3.10.8"
  },
  "orig_nbformat": 4,
  "vscode": {
   "interpreter": {
    "hash": "e7370f93d1d0cde622a1f8e1c04877d8463912d04d973331ad4851f04de6915a"
   }
  }
 },
 "nbformat": 4,
 "nbformat_minor": 2
}
