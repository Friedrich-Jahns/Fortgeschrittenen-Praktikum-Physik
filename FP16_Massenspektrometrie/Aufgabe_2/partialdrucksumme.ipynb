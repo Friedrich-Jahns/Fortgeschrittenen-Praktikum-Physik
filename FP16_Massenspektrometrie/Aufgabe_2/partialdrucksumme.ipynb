{
 "cells": [
  {
   "cell_type": "code",
   "execution_count": 7,
   "metadata": {},
   "outputs": [],
   "source": [
    "from matplotlib import pyplot as plt\n",
    "import scipy as sc\n",
    "import pandas\n",
    "import math\n",
    "import numpy as np\n",
    "import lmfit\n",
    "import os\n",
    "from uncertainties import ufloat\n",
    "import array_to_latex as atl"
   ]
  },
  {
   "cell_type": "code",
   "execution_count": 8,
   "metadata": {},
   "outputs": [
    {
     "data": {
      "text/plain": [
       "<ErrorbarContainer object of 3 artists>"
      ]
     },
     "execution_count": 8,
     "metadata": {},
     "output_type": "execute_result"
    },
    {
     "data": {
      "image/png": "[encoded data removed]",
      "text/plain": [
       "<Figure size 432x288 with 1 Axes>"
      ]
     },
     "metadata": {
      "needs_background": "light"
     },
     "output_type": "display_data"
    }
   ],
   "source": [
    "\n",
    "with open('Data/Restgas_3.csv', mode='r') as tf:\n",
    "        dataex = np.genfromtxt((line.replace(',', '.') for line in tf),delimiter=\";\",skip_header=21).T\n",
    "        data = np.zeros((2,len(dataex[3])))\n",
    "        data[0],data[1] = dataex[3],dataex[4]\n",
    "\n",
    "err = np.zeros(len(data[1]))\n",
    "for i in range(len(err)):\n",
    "    err[i] = (data[1,i])*0.005\n",
    "data = np.vstack([data,err])\n",
    "\n",
    "for i in range(len(data[1])):\n",
    "    if data[1,i]<0:\n",
    "        data[1,i]=0\n",
    "\n",
    "\n",
    "plt.errorbar(data[0],data[1],yerr=data[2],label = 'Data')"
   ]
  },
  {
   "cell_type": "code",
   "execution_count": 9,
   "metadata": {},
   "outputs": [
    {
     "name": "stdout",
     "output_type": "stream",
     "text": [
      "1.5595502565999933e-06\n"
     ]
    }
   ],
   "source": [
    "sum=0\n",
    "for i in data[1]:\n",
    "    sum+=i\n",
    "print(sum)"
   ]
  },
  {
   "cell_type": "code",
   "execution_count": 10,
   "metadata": {},
   "outputs": [
    {
     "ename": "NegativeStdDev",
     "evalue": "The standard deviation cannot be negative",
     "output_type": "error",
     "traceback": [
      "\u001b[0;31m---------------------------------------------------------------------------\u001b[0m",
      "\u001b[0;31mNegativeStdDev\u001b[0m                            Traceback (most recent call last)",
      "\u001b[1;32m/home/friedrichjahns/BScPhysik/Semester 7/Fortgeschrittenen-Praktikum-Physik/FP16_Massenspektrometrie/Aufgabe_2/partialdrucksumme.ipynb Zelle 4\u001b[0m in \u001b[0;36m<cell line: 2>\u001b[0;34m()\u001b[0m\n\u001b[1;32m      <a href='vscode-notebook-cell:/home/friedrichjahns/BScPhysik/Semester%207/Fortgeschrittenen-Praktikum-Physik/FP16_Massenspektrometrie/Aufgabe_2/partialdrucksumme.ipynb#W3sZmlsZQ%3D%3D?line=0'>1</a>\u001b[0m \u001b[39msum\u001b[39m\u001b[39m=\u001b[39m\u001b[39m0\u001b[39m\n\u001b[1;32m      <a href='vscode-notebook-cell:/home/friedrichjahns/BScPhysik/Semester%207/Fortgeschrittenen-Praktikum-Physik/FP16_Massenspektrometrie/Aufgabe_2/partialdrucksumme.ipynb#W3sZmlsZQ%3D%3D?line=1'>2</a>\u001b[0m \u001b[39mfor\u001b[39;00m i \u001b[39min\u001b[39;00m \u001b[39mrange\u001b[39m(\u001b[39mlen\u001b[39m(data[\u001b[39m1\u001b[39m])):\n\u001b[0;32m----> <a href='vscode-notebook-cell:/home/friedrichjahns/BScPhysik/Semester%207/Fortgeschrittenen-Praktikum-Physik/FP16_Massenspektrometrie/Aufgabe_2/partialdrucksumme.ipynb#W3sZmlsZQ%3D%3D?line=2'>3</a>\u001b[0m     \u001b[39msum\u001b[39m\u001b[39m+\u001b[39m\u001b[39m=\u001b[39mufloat(data[\u001b[39m1\u001b[39;49m,i],data[\u001b[39m2\u001b[39;49m,i])\n\u001b[1;32m      <a href='vscode-notebook-cell:/home/friedrichjahns/BScPhysik/Semester%207/Fortgeschrittenen-Praktikum-Physik/FP16_Massenspektrometrie/Aufgabe_2/partialdrucksumme.ipynb#W3sZmlsZQ%3D%3D?line=3'>4</a>\u001b[0m \u001b[39mprint\u001b[39m(\u001b[39msum\u001b[39m)\n",
      "File \u001b[0;32m~/.local/lib/python3.10/site-packages/uncertainties/core.py:3297\u001b[0m, in \u001b[0;36mufloat\u001b[0;34m(nominal_value, std_dev, tag)\u001b[0m\n\u001b[1;32m   3263\u001b[0m \u001b[39m\"\"\"\u001b[39;00m\n\u001b[1;32m   3264\u001b[0m \u001b[39mReturn a new random variable (Variable object).\u001b[39;00m\n\u001b[1;32m   3265\u001b[0m \n\u001b[0;32m   (...)\u001b[0m\n\u001b[1;32m   3292\u001b[0m \u001b[39merror_components() method).\u001b[39;00m\n\u001b[1;32m   3293\u001b[0m \u001b[39m\"\"\"\u001b[39;00m\n\u001b[1;32m   3295\u001b[0m \u001b[39mtry\u001b[39;00m:\n\u001b[1;32m   3296\u001b[0m     \u001b[39m# Standard case:\u001b[39;00m\n\u001b[0;32m-> 3297\u001b[0m     \u001b[39mreturn\u001b[39;00m Variable(nominal_value, std_dev, tag\u001b[39m=\u001b[39;49mtag)\n\u001b[1;32m   3298\u001b[0m \u001b[39m# Exception types raised by, respectively: tuple or string that\u001b[39;00m\n\u001b[1;32m   3299\u001b[0m \u001b[39m# can be converted through float() (case of a number with no\u001b[39;00m\n\u001b[1;32m   3300\u001b[0m \u001b[39m# uncertainty), and string that cannot be converted through\u001b[39;00m\n\u001b[1;32m   3301\u001b[0m \u001b[39m# float():\u001b[39;00m\n\u001b[1;32m   3302\u001b[0m \u001b[39mexcept\u001b[39;00m (\u001b[39mTypeError\u001b[39;00m, \u001b[39mValueError\u001b[39;00m):\n",
      "File \u001b[0;32m~/.local/lib/python3.10/site-packages/uncertainties/core.py:2778\u001b[0m, in \u001b[0;36mVariable.__init__\u001b[0;34m(self, value, std_dev, tag)\u001b[0m\n\u001b[1;32m   2768\u001b[0m \u001b[39m# If the variable changes by dx, then the value of the affine\u001b[39;00m\n\u001b[1;32m   2769\u001b[0m \u001b[39m# function that gives its value changes by 1*dx:\u001b[39;00m\n\u001b[1;32m   2770\u001b[0m \n\u001b[0;32m   (...)\u001b[0m\n\u001b[1;32m   2774\u001b[0m \u001b[39m# more cycles and a smaller memory footprint instead of no\u001b[39;00m\n\u001b[1;32m   2775\u001b[0m \u001b[39m# cycles and a larger memory footprint.\u001b[39;00m\n\u001b[1;32m   2776\u001b[0m \u001b[39msuper\u001b[39m(Variable, \u001b[39mself\u001b[39m)\u001b[39m.\u001b[39m\u001b[39m__init__\u001b[39m(value, LinearCombination({\u001b[39mself\u001b[39m: \u001b[39m1.\u001b[39m}))\n\u001b[0;32m-> 2778\u001b[0m \u001b[39mself\u001b[39m\u001b[39m.\u001b[39mstd_dev \u001b[39m=\u001b[39m std_dev  \u001b[39m# Assignment through a Python property\u001b[39;00m\n\u001b[1;32m   2780\u001b[0m \u001b[39mself\u001b[39m\u001b[39m.\u001b[39mtag \u001b[39m=\u001b[39m tag\n",
      "File \u001b[0;32m~/.local/lib/python3.10/site-packages/uncertainties/core.py:2799\u001b[0m, in \u001b[0;36mVariable.std_dev\u001b[0;34m(self, std_dev)\u001b[0m\n\u001b[1;32m   2790\u001b[0m \u001b[39m@std_dev\u001b[39m\u001b[39m.\u001b[39msetter\n\u001b[1;32m   2791\u001b[0m \u001b[39mdef\u001b[39;00m \u001b[39mstd_dev\u001b[39m(\u001b[39mself\u001b[39m, std_dev):\n\u001b[1;32m   2792\u001b[0m \n\u001b[0;32m   (...)\u001b[0m\n\u001b[1;32m   2796\u001b[0m     \u001b[39m# separately for NaN. But this is not guaranteed, even if it\u001b[39;00m\n\u001b[1;32m   2797\u001b[0m     \u001b[39m# should work on most platforms.)\u001b[39;00m\n\u001b[1;32m   2798\u001b[0m     \u001b[39mif\u001b[39;00m std_dev \u001b[39m<\u001b[39m \u001b[39m0\u001b[39m \u001b[39mand\u001b[39;00m \u001b[39mnot\u001b[39;00m isinfinite(std_dev):\n\u001b[0;32m-> 2799\u001b[0m         \u001b[39mraise\u001b[39;00m NegativeStdDev(\u001b[39m\"\u001b[39m\u001b[39mThe standard deviation cannot be negative\u001b[39m\u001b[39m\"\u001b[39m)\n\u001b[1;32m   2801\u001b[0m     \u001b[39mself\u001b[39m\u001b[39m.\u001b[39m_std_dev \u001b[39m=\u001b[39m CallableStdDev(std_dev)\n",
      "\u001b[0;31mNegativeStdDev\u001b[0m: The standard deviation cannot be negative"
     ]
    }
   ],
   "source": [
    "sum=0\n",
    "for i in range(len(data[1])):\n",
    "    sum+=ufloat(data[1,i],data[2,i])\n",
    "print(sum)"
   ]
  }
 ],
 "metadata": {
  "kernelspec": {
   "display_name": "Python 3.10.8 64-bit",
   "language": "python",
   "name": "python3"
  },
  "language_info": {
   "codemirror_mode": {
    "name": "ipython",
    "version": 3
   },
   "file_extension": ".py",
   "mimetype": "text/x-python",
   "name": "python",
   "nbconvert_exporter": "python",
   "pygments_lexer": "ipython3",
   "version": "3.10.8"
  },
  "orig_nbformat": 4,
  "vscode": {
   "interpreter": {
    "hash": "e7370f93d1d0cde622a1f8e1c04877d8463912d04d973331ad4851f04de6915a"
   }
  }
 },
 "nbformat": 4,
 "nbformat_minor": 2
}
