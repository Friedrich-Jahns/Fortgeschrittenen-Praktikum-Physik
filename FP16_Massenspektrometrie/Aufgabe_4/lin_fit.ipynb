{
 "cells": [
  {
   "cell_type": "code",
   "execution_count": 7,
   "metadata": {},
   "outputs": [],
   "source": [
    "from uncertainties import ufloat\n",
    "import matplotlib.pyplot as plt"
   ]
  },
  {
   "cell_type": "code",
   "execution_count": 3,
   "metadata": {},
   "outputs": [],
   "source": [
    "dmH2O =ufloat(0.33565,0.00877)\n",
    "dmN2 = ufloat(0.45815,0.00849)\n",
    "dmO2 = ufloat(0.42845,0.00983)\n",
    "mzH2O =ufloat(18.1712487,0.01013851)\n",
    "mzN2 = ufloat(28.0766591,0.00978133)\n",
    "mzO2 = ufloat(32.0575020,0.01227711)"
   ]
  },
  {
   "cell_type": "code",
   "execution_count": 5,
   "metadata": {},
   "outputs": [
    {
     "name": "stdout",
     "output_type": "stream",
     "text": [
      "54.1+/-1.4\n",
      "61.3+/-1.1\n",
      "74.8+/-1.7\n"
     ]
    }
   ],
   "source": [
    "RH2O= mzH2O/dmH2O\n",
    "RN2 = mzN2/dmN2\n",
    "RO2 = mzO2/dmO2\n",
    "\n",
    "print(RH2O)\n",
    "print(RN2 )\n",
    "print(RO2 )"
   ]
  },
  {
   "cell_type": "code",
   "execution_count": 9,
   "metadata": {},
   "outputs": [
    {
     "data": {
      "text/plain": [
       "<ErrorbarContainer object of 3 artists>"
      ]
     },
     "execution_count": 9,
     "metadata": {},
     "output_type": "execute_result"
    },
    {
     "data": {
      "image/png": "[encoded data removed]",
      "text/plain": [
       "<Figure size 432x288 with 1 Axes>"
      ]
     },
     "metadata": {
      "needs_background": "light"
     },
     "output_type": "display_data"
    }
   ],
   "source": [
    "mz = [[mzH2O.n,mzN2.n,mzO2.n],[mzH2O.s,mzN2.s,mzO2.s]]\n",
    "R = [[RH2O.n,RN2.n,RO2.n],[RH2O.s,RN2.s,RO2.s]]\n",
    "plt.errorbar(x = mz[0],y=R[0],xerr=mz[1],yerr=R[1])"
   ]
  }
 ],
 "metadata": {
  "kernelspec": {
   "display_name": "Python 3.9.1 64-bit",
   "language": "python",
   "name": "python3"
  },
  "language_info": {
   "codemirror_mode": {
    "name": "ipython",
    "version": 3
   },
   "file_extension": ".py",
   "mimetype": "text/x-python",
   "name": "python",
   "nbconvert_exporter": "python",
   "pygments_lexer": "ipython3",
   "version": "3.9.1"
  },
  "orig_nbformat": 4,
  "vscode": {
   "interpreter": {
    "hash": "130d85b736f455fb007f8de9bdd1e41b2b61fc7f886a6550e3d523aa94b3e114"
   }
  }
 },
 "nbformat": 4,
 "nbformat_minor": 2
}
