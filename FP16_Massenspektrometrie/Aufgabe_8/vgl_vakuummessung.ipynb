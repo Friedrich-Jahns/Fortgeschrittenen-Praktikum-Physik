{
 "cells": [
  {
   "cell_type": "code",
   "execution_count": 2,
   "metadata": {},
   "outputs": [],
   "source": [
    "import os \n",
    "import numpy as np\n",
    "from pathlib import Path\n",
    "import matplotlib.pyplot as plt\n",
    "import lmfit\n",
    "from uncertainties import wrap\n",
    "from uncertainties import ufloat"
   ]
  },
  {
   "cell_type": "code",
   "execution_count": 3,
   "metadata": {},
   "outputs": [],
   "source": [
    "def pos(x):\n",
    "    for i in range(len(data[0])):\n",
    "        if data[0,i]>=x:\n",
    "            return i\n",
    "            break"
   ]
  },
  {
   "cell_type": "code",
   "execution_count": 4,
   "metadata": {},
   "outputs": [
    {
     "data": {
      "text/plain": [
       "41"
      ]
     },
     "execution_count": 4,
     "metadata": {},
     "output_type": "execute_result"
    }
   ],
   "source": [
    "res = Path(\"Results/total_drücke.txt\")\n",
    "res.touch()\n",
    "nf = open(res,\"w\")\n",
    "nf.write(\"p1,p2,p3,p4,p5,p6,p7,p8,p9,p10,p11,p12,13\")"
   ]
  },
  {
   "cell_type": "code",
   "execution_count": 5,
   "metadata": {},
   "outputs": [],
   "source": [
    "cominitial = np.array([1e-5, 8.6e-6, 7.4e-6, 6.3e-6, 5.4e-6, 4.6e-6, 4.0e-6, 3.4e-6, 3e-6, 2.5e-6, 2.2e-6, 1.5e-6, 1e-6])*0.750062\n",
    "com = [cominitial]\n",
    "comerr=[]\n",
    "for i in range(len(com[0])):\n",
    "    comerr.append(com[0][i]*0.3)\n",
    "com.append(comerr)\n",
    "com = np.array(com)"
   ]
  },
  {
   "cell_type": "markdown",
   "metadata": {},
   "source": [
    "Messfehler der partialdrücke in %"
   ]
  },
  {
   "cell_type": "code",
   "execution_count": 6,
   "metadata": {},
   "outputs": [
    {
     "name": "stdout",
     "output_type": "stream",
     "text": [
      "0.5339589887826315\n"
     ]
    }
   ],
   "source": [
    "data=[[],[]]\n",
    "for i in os.listdir('Data'):\n",
    "    path = 'Data/'+i\n",
    "    with open(path, mode='r') as tf:\n",
    "        dataex = np.genfromtxt((line.replace(',', '.') for line in tf),delimiter=\";\",skip_header=21).T        \n",
    "        data[0].append(np.mean(dataex[4]))\n",
    "        data[1].append(np.std(dataex[4]))\n",
    "data=np.array(data)\n",
    "\n",
    "\n",
    "mederr=[]\n",
    "for i in range(len(data[0])):\n",
    "    mederr.append(data[1,i]/data[0,i]*100)\n",
    "print(np.mean(mederr))"
   ]
  },
  {
   "cell_type": "code",
   "execution_count": 13,
   "metadata": {},
   "outputs": [
    {
     "name": "stdout",
     "output_type": "stream",
     "text": [
      "combivac\n",
      "7.50062e-06+/-2.250186e-06\n",
      "6.4505332000000005e-06+/-1.93515996e-06\n",
      "5.5504588e-06+/-1.66513764e-06\n",
      "4.7253906e-06+/-1.41761718e-06\n",
      "4.0503348e-06+/-1.21510044e-06\n",
      "3.4502852e-06+/-1.03508556e-06\n",
      "3.0002479999999997e-06+/-9.000743999999999e-07\n",
      "2.5502108e-06+/-7.650632399999999e-07\n",
      "2.250186e-06+/-6.750558e-07\n",
      "1.875155e-06+/-5.625465e-07\n",
      "1.6501364e-06+/-4.9504092e-07\n",
      "1.125093e-06+/-3.375279e-07\n",
      "7.500619999999999e-07+/-2.2501859999999996e-07\n",
      "total\n",
      "2.6854707504690433e-07+/-1.3188249197114897e-09\n",
      "2.2762053547671843e-07+/-1.0605605263803308e-09\n",
      "1.8771477044476329e-07+/-1.0988629908678065e-09\n",
      "1.549130286944046e-07+/-8.997819546374121e-10\n",
      "1.3321933208255158e-07+/-6.506457396034679e-10\n",
      "1.1091749530956848e-07+/-7.843426655214933e-10\n",
      "8.160305099778271e-08+/-4.690765089355319e-10\n",
      "6.628857723577236e-08+/-2.645557407609873e-10\n",
      "5.6567948780487806e-08+/-2.64066113415959e-10\n",
      "4.539712195121951e-08+/-2.328105243537142e-10\n",
      "3.922776422764227e-08+/-1.7891837041842287e-10\n",
      "3.299294634146341e-08+/-1.3998619286891198e-10\n",
      "1.653491056910569e-08+/-1.3041317942588787e-10\n"
     ]
    }
   ],
   "source": [
    "print(\"combivac\")\n",
    "for i in range(len(com[1])):\n",
    "    print(str(com[0,i])+'+/-'+str(com[1,i]))\n",
    "\n",
    "print(\"total\")\n",
    "for i in range(len(data[1])):\n",
    "    print(str(data[0,i])+'+/-'+str(data[1,i]))"
   ]
  },
  {
   "cell_type": "code",
   "execution_count": 8,
   "metadata": {},
   "outputs": [
    {
     "name": "stdout",
     "output_type": "stream",
     "text": [
      "13\n"
     ]
    },
    {
     "data": {
      "text/plain": [
       "<ErrorbarContainer object of 3 artists>"
      ]
     },
     "execution_count": 8,
     "metadata": {},
     "output_type": "execute_result"
    },
    {
     "data": {
      "image/png": "[encoded data removed]",
      "text/plain": [
       "<Figure size 432x288 with 1 Axes>"
      ]
     },
     "metadata": {
      "needs_background": "light"
     },
     "output_type": "display_data"
    }
   ],
   "source": [
    "print(len(com[1]))\n",
    "plt.errorbar(y=com[0],x=data[0],yerr=com[1],xerr=data[1],ecolor=\"r\",elinewidth=3)\n"
   ]
  },
  {
   "cell_type": "code",
   "execution_count": 9,
   "metadata": {},
   "outputs": [],
   "source": [
    "model_lin = lmfit.models.LinearModel()\n",
    "pars_lin = model_lin.guess(data=com[0],x=data[0])\n",
    "out_lin =  model_lin.fit(com[0],x=data[0],params=pars_lin,nan_policy='propagate',weights=1/com[1])"
   ]
  },
  {
   "cell_type": "code",
   "execution_count": 10,
   "metadata": {},
   "outputs": [
    {
     "name": "stdout",
     "output_type": "stream",
     "text": [
      "[[Model]]\n",
      "    Model(linear)\n",
      "[[Fit Statistics]]\n",
      "    # fitting method   = leastsq\n",
      "    # function evals   = 6\n",
      "    # data points      = 13\n",
      "    # variables        = 2\n",
      "    chi-square         = 1.21839972\n",
      "    reduced chi-square = 0.11076361\n",
      "    Akaike info crit   = -26.7763439\n",
      "    Bayesian info crit = -25.6464452\n",
      "[[Variables]]\n",
      "    slope:      28.9165104 +/- 1.35855572 (4.70%) (init = 26.06237)\n",
      "    intercept:  3.2882e-07 +/- 7.3044e-08 (22.21%) (init = 6.061455e-07)\n",
      "[[Correlations]] (unreported correlations are < 0.100)\n",
      "    C(slope, intercept) = -0.726\n"
     ]
    },
    {
     "data": {
      "image/png": "[encoded data removed]",
      "text/plain": [
       "<Figure size 640x480 with 1 Axes>"
      ]
     },
     "metadata": {
      "needs_background": "light"
     },
     "output_type": "display_data"
    }
   ],
   "source": [
    "v = 0\n",
    "b = 3e-7\n",
    "von = pos(v)\n",
    "bis = pos(b)\n",
    "\n",
    "yscale = 1e5\n",
    "xscale = 1e7\n",
    "\n",
    "fig = plt.figure(figsize=(8,6),dpi=80,linewidth=50)\n",
    "plt.rc ('font', size = 15) # steuert die Standardtextgröße\n",
    "plt.rc ('axes', titlesize = 15) # Schriftgröße des Titels\n",
    "plt.rc ('axes', labelsize = 15) # Schriftgröße der x- und y-Beschriftungen\n",
    "plt.rc ('xtick', labelsize = 15) #Schriftgröße der x-Tick-Labels\n",
    "plt.rc ('ytick', labelsize = 15) #Schriftgröße der y-Tick-Labels\n",
    "plt.rc ('legend', fontsize = 15) #Schriftgröße der Legende\n",
    "\n",
    "plt.errorbar(x=xscale*data[0],y=yscale*com[0],xerr=xscale*data[1],yerr=yscale*com[1],fmt='o',ecolor='lightgray',color='r', elinewidth=3, capsize=0,zorder=5,label=\"Daten\")\n",
    "plt.plot(xscale*np.arange(v,b,1e-9),yscale*out_lin.eval(x=np.arange(v,b,1e-9)),zorder=10,color='k',linestyle='-',alpha=0.5,label=\"Gaus-Fit\")\n",
    "\n",
    "plt.ylabel('Totaldruck COMBI VAC [Torr $10^{'+str(1/yscale).split(\"e\")[1]+'}$]')\n",
    "plt.xlabel('Totaldruck HAL 7 RC RGA 100 [Torr $10^{'+str(1/xscale).split(\"e\")[1]+'}$]')\n",
    "plt.grid()\n",
    "plt.legend()\n",
    "plt.savefig('Results/lin_fit.pdf')\n",
    "print(out_lin.fit_report())"
   ]
  }
 ],
 "metadata": {
  "kernelspec": {
   "display_name": "Python 3.9.1 64-bit",
   "language": "python",
   "name": "python3"
  },
  "language_info": {
   "codemirror_mode": {
    "name": "ipython",
    "version": 3
   },
   "file_extension": ".py",
   "mimetype": "text/x-python",
   "name": "python",
   "nbconvert_exporter": "python",
   "pygments_lexer": "ipython3",
   "version": "3.9.1"
  },
  "orig_nbformat": 4,
  "vscode": {
   "interpreter": {
    "hash": "130d85b736f455fb007f8de9bdd1e41b2b61fc7f886a6550e3d523aa94b3e114"
   }
  }
 },
 "nbformat": 4,
 "nbformat_minor": 2
}
