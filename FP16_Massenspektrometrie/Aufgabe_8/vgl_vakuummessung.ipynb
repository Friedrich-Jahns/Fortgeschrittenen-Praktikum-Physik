{
 "cells": [
  {
   "cell_type": "code",
   "execution_count": 4,
   "metadata": {},
   "outputs": [],
   "source": [
    "import os \n",
    "import numpy as np\n",
    "from pathlib import Path"
   ]
  },
  {
   "cell_type": "code",
   "execution_count": null,
   "metadata": {},
   "outputs": [],
   "source": [
    "res = Path(\"results/total_drücke.tyt\")\n",
    "res.touch()\n",
    "nf = open(res,\"w\")\n",
    "nf.write(\"p1,p2,p3,p4,p5,p6,p7,p8,p9,p10,p11,p12,13\")"
   ]
  },
  {
   "cell_type": "code",
   "execution_count": 9,
   "metadata": {},
   "outputs": [
    {
     "name": "stdout",
     "output_type": "stream",
     "text": [
      "1.653491056910569e-08\n",
      "3.299294634146342e-08\n",
      "3.922776422764226e-08\n",
      "4.53971219512195e-08\n",
      "5.656794878048779e-08\n",
      "6.628857723577233e-08\n",
      "8.160305099778269e-08\n",
      "1.1091749530956841e-07\n",
      "1.3321933208255129e-07\n",
      "1.5491302869440473e-07\n",
      "1.8771477044476315e-07\n",
      "2.2762053547671856e-07\n",
      "2.685470750469041e-07\n"
     ]
    }
   ],
   "source": [
    "for i in os.listdir('Data'):\n",
    "    path = 'Data/'+i\n",
    "    with open(path, mode='r') as tf:\n",
    "        dataex = np.genfromtxt((line.replace(',', '.') for line in tf),delimiter=\";\",skip_header=21).T\n",
    "        data = np.zeros((2,len(dataex[3])))\n",
    "        data[0],data[1] = dataex[3],dataex[4]\n",
    "        sum = 0\n",
    "        n=0\n",
    "        for f in data[1]:\n",
    "            sum+=f\n",
    "            n+=1\n",
    "        print(sum/n)\n",
    "        "
   ]
  },
  {
   "cell_type": "code",
   "execution_count": null,
   "metadata": {},
   "outputs": [],
   "source": []
  }
 ],
 "metadata": {
  "kernelspec": {
   "display_name": "Python 3.10.8 64-bit",
   "language": "python",
   "name": "python3"
  },
  "language_info": {
   "codemirror_mode": {
    "name": "ipython",
    "version": 3
   },
   "file_extension": ".py",
   "mimetype": "text/x-python",
   "name": "python",
   "nbconvert_exporter": "python",
   "pygments_lexer": "ipython3",
   "version": "3.10.8"
  },
  "orig_nbformat": 4,
  "vscode": {
   "interpreter": {
    "hash": "e7370f93d1d0cde622a1f8e1c04877d8463912d04d973331ad4851f04de6915a"
   }
  }
 },
 "nbformat": 4,
 "nbformat_minor": 2
}
