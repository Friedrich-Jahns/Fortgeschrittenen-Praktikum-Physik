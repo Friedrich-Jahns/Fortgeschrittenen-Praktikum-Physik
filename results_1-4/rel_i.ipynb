{
 "cells": [
  {
   "cell_type": "code",
   "execution_count": 1,
   "metadata": {},
   "outputs": [],
   "source": [
    "from uncertainties import ufloat as uf\n",
    "import numpy as np\n",
    "from uncertainties import unumpy as up"
   ]
  },
  {
   "cell_type": "markdown",
   "metadata": {},
   "source": [
    "# 30_15"
   ]
  },
  {
   "cell_type": "code",
   "execution_count": 7,
   "metadata": {},
   "outputs": [
    {
     "name": "stdout",
     "output_type": "stream",
     "text": [
      "Ordnung 1\n",
      "0.27496+/-0.04860\n",
      "0.49624+/-0.11592\n",
      "Ordnung 2\n",
      "0.13493+/-0.03812\n",
      "0.439+/-42.592\n",
      "Ordnung 3\n",
      "0.14291+/-0.13722\n",
      "0.45698+/-0.64865\n"
     ]
    }
   ],
   "source": [
    "i1b, i1a1, i1a2 =   uf(75710,8583), uf(2.7535e+05,0.3734e+05), uf(1.3664e+05,0.2599e+05)\n",
    "i2b, i2a1, i2a2 =   uf(72.146,13.729), uf(534.70,111.63), uf(235,22774)\n",
    "i3b, i3a1, i3a2 =   uf(3803.3,265.0), uf(26614,25488), uf(12162,12742)\n",
    "\n",
    "print(\"Ordnung 1\")\n",
    "print((i1b/i1a1).format(\":.5\"))\n",
    "print((i1a2/i1a1).format(\":.5\"))\n",
    "\n",
    "print(\"Ordnung 2\")\n",
    "print((i2b/i2a1).format(\":.5\"))\n",
    "print((i2a2/i2a1).format(\":.5\"))\n",
    "\n",
    "print(\"Ordnung 3\")\n",
    "print((i3b/i3a1).format(\":.5\"))\n",
    "print((i3a2/i3a1).format(\":.5\"))"
   ]
  }
 ],
 "metadata": {
  "kernelspec": {
   "display_name": "Python 3.9.1 64-bit",
   "language": "python",
   "name": "python3"
  },
  "language_info": {
   "codemirror_mode": {
    "name": "ipython",
    "version": 3
   },
   "file_extension": ".py",
   "mimetype": "text/x-python",
   "name": "python",
   "nbconvert_exporter": "python",
   "pygments_lexer": "ipython3",
   "version": "3.9.1"
  },
  "orig_nbformat": 4,
  "vscode": {
   "interpreter": {
    "hash": "130d85b736f455fb007f8de9bdd1e41b2b61fc7f886a6550e3d523aa94b3e114"
   }
  }
 },
 "nbformat": 4,
 "nbformat_minor": 2
}
