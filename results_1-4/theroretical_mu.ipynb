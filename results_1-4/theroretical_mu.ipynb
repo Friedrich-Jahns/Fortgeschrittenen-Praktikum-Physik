{
 "cells": [
  {
   "cell_type": "code",
   "execution_count": 53,
   "metadata": {},
   "outputs": [],
   "source": [
    "import numpy as np"
   ]
  },
  {
   "cell_type": "code",
   "execution_count": 54,
   "metadata": {},
   "outputs": [],
   "source": [
    "lb = 1.3923e-10\n",
    "la1 = 1.5406e-10\n",
    "la2 = 1.5444e-10"
   ]
  },
  {
   "cell_type": "code",
   "execution_count": 55,
   "metadata": {},
   "outputs": [],
   "source": [
    "def Braggwinkel(n,l,d):\n",
    "    return np.arcsin(n*l/(2*d))"
   ]
  },
  {
   "cell_type": "code",
   "execution_count": 86,
   "metadata": {},
   "outputs": [],
   "source": [
    "d =3.1355e-10#/(3**0.5)"
   ]
  },
  {
   "cell_type": "code",
   "execution_count": 87,
   "metadata": {},
   "outputs": [
    {
     "name": "stdout",
     "output_type": "stream",
     "text": [
      "Beta o1:0.44777549272311623\n",
      "Beta o2:0.9202140671382161\n",
      "Beta o3:1.4578441836848193\n"
     ]
    }
   ],
   "source": [
    "print(\"Beta o1:\"+str(Braggwinkel(1,lb,d)*2))\n",
    "print(\"Beta o2:\"+str(Braggwinkel(2,lb,d)*2))\n",
    "print(\"Beta o3:\"+str(Braggwinkel(3,lb,d)*2))"
   ]
  },
  {
   "cell_type": "code",
   "execution_count": 58,
   "metadata": {},
   "outputs": [
    {
     "name": "stdout",
     "output_type": "stream",
     "text": [
      "Alpha1 o1:0.4964227572391429\n",
      "Alpha1 o2:1.0272577215304162\n",
      "Alpha1 o3:1.6572763986658563\n"
     ]
    }
   ],
   "source": [
    "print(\"Alpha1 o1:\"+str(Braggwinkel(1,la1,d)*2))\n",
    "print(\"Alpha1 o2:\"+str(Braggwinkel(2,la1,d)*2))\n",
    "print(\"Alpha1 o3:\"+str(Braggwinkel(3,la1,d)*2))"
   ]
  },
  {
   "cell_type": "code",
   "execution_count": 59,
   "metadata": {},
   "outputs": [
    {
     "name": "stdout",
     "output_type": "stream",
     "text": [
      "Alpha2 o1:0.4976731000339339\n",
      "Alpha2 o2:1.0300417627710838\n",
      "Alpha2 o3:1.662663649917389\n"
     ]
    }
   ],
   "source": [
    "print(\"Alpha2 o1:\"+str(Braggwinkel(1,la2,d)*2))\n",
    "print(\"Alpha2 o2:\"+str(Braggwinkel(2,la2,d)*2))\n",
    "print(\"Alpha2 o3:\"+str(Braggwinkel(3,la2,d)*2))"
   ]
  }
 ],
 "metadata": {
  "kernelspec": {
   "display_name": "Python 3.9.1 64-bit",
   "language": "python",
   "name": "python3"
  },
  "language_info": {
   "codemirror_mode": {
    "name": "ipython",
    "version": 3
   },
   "file_extension": ".py",
   "mimetype": "text/x-python",
   "name": "python",
   "nbconvert_exporter": "python",
   "pygments_lexer": "ipython3",
   "version": "3.9.1"
  },
  "orig_nbformat": 4,
  "vscode": {
   "interpreter": {
    "hash": "130d85b736f455fb007f8de9bdd1e41b2b61fc7f886a6550e3d523aa94b3e114"
   }
  }
 },
 "nbformat": 4,
 "nbformat_minor": 2
}
