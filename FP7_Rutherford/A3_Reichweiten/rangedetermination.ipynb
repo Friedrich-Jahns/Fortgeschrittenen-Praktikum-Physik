{
 "cells": [
  {
   "cell_type": "code",
   "execution_count": 1,
   "metadata": {},
   "outputs": [],
   "source": [
    "__file__ = 'erosion_and_dilation.ipynb'\n",
    "import sys\n",
    "import pathlib\n",
    "sys.path.append(str(pathlib.Path(__file__).absolute().parent.parent)+\"/FP7_lib\")\n",
    "\n",
    "import functions as f\n",
    "import os\n",
    "import numpy as np\n",
    "import matplotlib.pyplot as plt\n",
    "from pathlib import Path\n",
    "from uncertainties import unumpy as up\n",
    "from uncertainties import ufloat"
   ]
  },
  {
   "cell_type": "code",
   "execution_count": 4,
   "metadata": {},
   "outputs": [
    {
     "data": {
      "image/png": "[encoded data removed]",
      "text/plain": [
       "<Figure size 432x288 with 1 Axes>"
      ]
     },
     "metadata": {
      "needs_background": "light"
     },
     "output_type": "display_data"
    },
    {
     "name": "stdout",
     "output_type": "stream",
     "text": [
      "[[Model]]\n",
      "    Model(erfc)\n",
      "[[Fit Statistics]]\n",
      "    # fitting method   = leastsq\n",
      "    # function evals   = 39\n",
      "    # data points      = 15\n",
      "    # variables        = 3\n",
      "    chi-square         = 0.38819799\n",
      "    reduced chi-square = 0.03234983\n",
      "    Akaike info crit   = -48.8143500\n",
      "    Bayesian info crit = -46.6901994\n",
      "[[Variables]]\n",
      "    A:  27.1625935 +/- 0.28435073 (1.05%) (init = 25.907)\n",
      "    B:  3.07559001 +/- 0.07560663 (2.46%) (init = 7.829)\n",
      "    C:  8.04120949 +/- 0.21304857 (2.65%) (init = 17.657)\n",
      "[[Correlations]] (unreported correlations are < 0.100)\n",
      "    C(B, C) = 0.997\n",
      "    C(A, C) = -0.396\n",
      "    C(A, B) = -0.365\n"
     ]
    }
   ],
   "source": [
    "with open(\"Data/Data.txt\") as tf:\n",
    "    data = np.genfromtxt(tf).T\n",
    "\n",
    "\n",
    "#minimum error value\n",
    "data[2] = data[2].clip(0.1)\n",
    "\n",
    "\n",
    "\n",
    "#annahme abstand quelle schirm 6.5 +-0.5 cm\n",
    "xerr = np.full(len(data[0]),2.5)\n",
    "laeng = up.uarray(data[0],xerr)\n",
    "abst = ufloat(6.5,0.5)\n",
    "for i in range(len(laeng)):\n",
    "    laeng[i] = laeng[i]*abst/1013.25\n",
    "\n",
    "\n",
    "\n",
    "\n",
    "\n",
    "data[0] = up.nominal_values(laeng)\n",
    "xerr = up.std_devs(laeng)\n",
    "\n",
    "\n",
    "res = f.erfc_fit(data[1],data[0],data[2])\n",
    "\n",
    "\n",
    "plt.errorbar(data[0],data[1],yerr=data[2],xerr=xerr,fmt='o',ecolor='gray',color='r', elinewidth=3, capsize=0,zorder=5,label=\"Data\")\n",
    "plt.plot(np.arange(0,3.5,0.01),res.eval(x=np.arange(0,3.5,0.01)),zorder=10,color='k',linestyle='-',alpha=1,label=\"Best-Fit\")\n",
    "\n",
    "plt.xlabel(\"Distance in cm\",fontsize=19)\n",
    "plt.ylabel(\"Countrate in 1/s\",fontsize=19)\n",
    "plt.grid()\n",
    "plt.legend()\n",
    "plt.savefig(\"Results/reangedetermination.pdf\")\n",
    "plt.show()\n",
    "\n",
    "\n",
    "print(res.fit_report())"
   ]
  }
 ],
 "metadata": {
  "kernelspec": {
   "display_name": "Python 3",
   "language": "python",
   "name": "python3"
  },
  "language_info": {
   "codemirror_mode": {
    "name": "ipython",
    "version": 3
   },
   "file_extension": ".py",
   "mimetype": "text/x-python",
   "name": "python",
   "nbconvert_exporter": "python",
   "pygments_lexer": "ipython3",
   "version": "3.9.1"
  },
  "orig_nbformat": 4,
  "vscode": {
   "interpreter": {
    "hash": "130d85b736f455fb007f8de9bdd1e41b2b61fc7f886a6550e3d523aa94b3e114"
   }
  }
 },
 "nbformat": 4,
 "nbformat_minor": 2
}
