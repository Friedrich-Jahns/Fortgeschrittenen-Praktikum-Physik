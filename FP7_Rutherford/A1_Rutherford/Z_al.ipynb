{
 "cells": [
  {
   "cell_type": "code",
   "execution_count": 2,
   "metadata": {},
   "outputs": [],
   "source": [
    "from uncertainties import ufloat\n",
    "from uncertainties import wrap\n",
    "import numpy as np"
   ]
  },
  {
   "cell_type": "code",
   "execution_count": 3,
   "metadata": {},
   "outputs": [],
   "source": [
    "def Z_al(Z_au,A_au,d_au,A_al,d_al):\n",
    "    return Z_au*np.sqrt((A_al*d_au)/(A_au*d_al))\n",
    "WZ_al = wrap(Z_al)"
   ]
  },
  {
   "cell_type": "code",
   "execution_count": 4,
   "metadata": {},
   "outputs": [
    {
     "name": "stdout",
     "output_type": "stream",
     "text": [
      "18.0+/-2.8\n"
     ]
    }
   ],
   "source": [
    "Z_au,A_au,d_au,A_al,d_al= 79, ufloat(7.341e-5,1.794e-5), 2e-6, ufloat(1.334e-5,0.252e-5), 7e-6\n",
    "\n",
    "print(WZ_al(Z_au,A_au,d_au,A_al,d_al))"
   ]
  }
 ],
 "metadata": {
  "kernelspec": {
   "display_name": "Python 3",
   "language": "python",
   "name": "python3"
  },
  "language_info": {
   "codemirror_mode": {
    "name": "ipython",
    "version": 3
   },
   "file_extension": ".py",
   "mimetype": "text/x-python",
   "name": "python",
   "nbconvert_exporter": "python",
   "pygments_lexer": "ipython3",
   "version": "3.11.1"
  },
  "orig_nbformat": 4,
  "vscode": {
   "interpreter": {
    "hash": "e7370f93d1d0cde622a1f8e1c04877d8463912d04d973331ad4851f04de6915a"
   }
  }
 },
 "nbformat": 4,
 "nbformat_minor": 2
}
