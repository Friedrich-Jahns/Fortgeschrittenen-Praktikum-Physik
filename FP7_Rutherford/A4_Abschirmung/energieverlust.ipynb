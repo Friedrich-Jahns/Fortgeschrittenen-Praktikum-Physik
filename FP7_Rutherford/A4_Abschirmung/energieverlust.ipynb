{
 "cells": [
  {
   "cell_type": "code",
   "execution_count": 1,
   "metadata": {},
   "outputs": [],
   "source": [
    "from uncertainties import ufloat\n"
   ]
  },
  {
   "cell_type": "code",
   "execution_count": 11,
   "metadata": {},
   "outputs": [
    {
     "name": "stdout",
     "output_type": "stream",
     "text": [
      "733.8+/-0.9\n",
      "6.67+/-0.12\n",
      "0.513+/-0.009\n"
     ]
    }
   ],
   "source": [
    "pos1 = ufloat(1043.0,0.6)\n",
    "pos2 = ufloat(309.169,0.605)\n",
    "posdiff = pos1-pos2\n",
    "print(posdiff)\n",
    "\n",
    "\n",
    "engdiff = posdiff*ufloat(0.00340,0.00016)+4.1707\n",
    "print(engdiff)\n",
    "\n",
    "\n",
    "diffengdiff = engdiff/13\n",
    "print(diffengdiff)"
   ]
  },
  {
   "cell_type": "code",
   "execution_count": 13,
   "metadata": {},
   "outputs": [
    {
     "name": "stdout",
     "output_type": "stream",
     "text": [
      "800.5+/-2.4\n",
      "6.89+/-0.13\n",
      "0.0669+/-0.0012\n"
     ]
    }
   ],
   "source": [
    "pos1 = ufloat(1043.0,0.6)\n",
    "pos2 = ufloat(242.462,2.365)\n",
    "posdiff = pos1-pos2\n",
    "print(posdiff)\n",
    "\n",
    "\n",
    "engdiff = posdiff*ufloat(0.00340,0.00016)+4.1707\n",
    "print(engdiff)\n",
    "\n",
    "\n",
    "diffengdiff = engdiff/103\n",
    "print(diffengdiff)"
   ]
  }
 ],
 "metadata": {
  "kernelspec": {
   "display_name": "Python 3",
   "language": "python",
   "name": "python3"
  },
  "language_info": {
   "codemirror_mode": {
    "name": "ipython",
    "version": 3
   },
   "file_extension": ".py",
   "mimetype": "text/x-python",
   "name": "python",
   "nbconvert_exporter": "python",
   "pygments_lexer": "ipython3",
   "version": "3.11.1"
  },
  "orig_nbformat": 4,
  "vscode": {
   "interpreter": {
    "hash": "e7370f93d1d0cde622a1f8e1c04877d8463912d04d973331ad4851f04de6915a"
   }
  }
 },
 "nbformat": 4,
 "nbformat_minor": 2
}
