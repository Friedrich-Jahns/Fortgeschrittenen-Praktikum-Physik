{
 "cells": [
  {
   "cell_type": "code",
   "execution_count": 1,
   "metadata": {},
   "outputs": [],
   "source": [
    "__file__ = 'erosion_and_dilation.ipynb'\n",
    "import sys\n",
    "import pathlib\n",
    "sys.path.append(str(pathlib.Path(__file__).absolute().parent.parent)+\"/FP7_lib\")\n",
    "\n",
    "import functions as f\n",
    "import os\n",
    "import numpy as np\n",
    "import matplotlib.pyplot as plt\n",
    "from pathlib import Path"
   ]
  },
  {
   "cell_type": "code",
   "execution_count": 13,
   "metadata": {},
   "outputs": [
    {
     "data": {
      "image/png": "[encoded data removed]",
      "text/plain": [
       "<Figure size 432x288 with 1 Axes>"
      ]
     },
     "metadata": {
      "needs_background": "light"
     },
     "output_type": "display_data"
    }
   ],
   "source": [
    "with open(\"Results/center.txt\") as tf:\n",
    "    data = np.genfromtxt(tf,delimiter=\"\\t\",skip_header=1).T\n",
    "    \n",
    "#Torr = data[0]\n",
    "Torr = data[0]/760*5\n",
    "m1 = data[1]\n",
    "m2 = data[3]\n",
    "m3 = data[5]\n",
    "m4 = data[7]\n",
    "e1 = data[2]\n",
    "e2 = data[4]\n",
    "e3 = data[6]\n",
    "e4 = data[8]\n",
    "\n",
    "plt.errorbar(Torr,m1,yerr=e1,fmt='d',ecolor='lightgray', elinewidth=3, capsize=0)\n",
    "plt.errorbar(Torr,m2,yerr=e2,fmt='d',ecolor='lightgray', elinewidth=3, capsize=0)\n",
    "plt.errorbar(Torr,m3,yerr=e3,fmt='d',ecolor='lightgray', elinewidth=3, capsize=0)\n",
    "plt.errorbar(Torr,m4,yerr=e4,fmt='d',ecolor='lightgray', elinewidth=3, capsize=0)\n",
    "\n",
    "plt.ylabel(\"Channel\")\n",
    "plt.xlabel(\"Torr\")\n",
    "plt.show()"
   ]
  },
  {
   "cell_type": "code",
   "execution_count": 22,
   "metadata": {},
   "outputs": [
    {
     "data": {
      "image/png": "[encoded data removed]",
      "text/plain": [
       "<Figure size 432x288 with 1 Axes>"
      ]
     },
     "metadata": {
      "needs_background": "light"
     },
     "output_type": "display_data"
    }
   ],
   "source": [
    "\n",
    "torrnew = []\n",
    "m1new = []\n",
    "m2new = []\n",
    "m3new = []\n",
    "m4new = []\n",
    "\n",
    "\n",
    "for i in range(len(m1)):\n",
    "    if i%2 != 1:\n",
    "        torrnew.append(Torr[i])\n",
    "        m1new.append(m1[i])\n",
    "        m2new.append(m2[i])\n",
    "        m3new.append(m3[i])\n",
    "        m4new.append(m4[i])\n",
    "\n",
    "plt.errorbar(torrnew,m1new,fmt='d')\n",
    "plt.errorbar(torrnew,m2new,fmt='d')\n",
    "plt.errorbar(torrnew,m3new,fmt='d')\n",
    "plt.errorbar(torrnew,m4new,fmt='d')\n",
    "\n",
    "plt.grid()\n",
    "plt.show()"
   ]
  },
  {
   "attachments": {},
   "cell_type": "markdown",
   "metadata": {},
   "source": [
    "slope:      294.320493 +/- 13.8967443 (4.72%) (init = 295.0317)  \n",
    "intercept: -1227.52279 +/- 82.7468931 (6.74%) (init = -1232.33)"
   ]
  },
  {
   "cell_type": "code",
   "execution_count": null,
   "metadata": {},
   "outputs": [],
   "source": []
  }
 ],
 "metadata": {
  "kernelspec": {
   "display_name": "Python 3",
   "language": "python",
   "name": "python3"
  },
  "language_info": {
   "codemirror_mode": {
    "name": "ipython",
    "version": 3
   },
   "file_extension": ".py",
   "mimetype": "text/x-python",
   "name": "python",
   "nbconvert_exporter": "python",
   "pygments_lexer": "ipython3",
   "version": "3.9.1 (tags/v3.9.1:1e5d33e, Dec  7 2020, 17:08:21) [MSC v.1927 64 bit (AMD64)]"
  },
  "orig_nbformat": 4,
  "vscode": {
   "interpreter": {
    "hash": "130d85b736f455fb007f8de9bdd1e41b2b61fc7f886a6550e3d523aa94b3e114"
   }
  }
 },
 "nbformat": 4,
 "nbformat_minor": 2
}
