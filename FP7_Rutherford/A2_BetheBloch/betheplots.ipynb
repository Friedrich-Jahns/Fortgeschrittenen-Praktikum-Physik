{
 "cells": [
  {
   "cell_type": "code",
   "execution_count": null,
   "metadata": {},
   "outputs": [
    {
     "ename": "",
     "evalue": "",
     "output_type": "error",
     "traceback": [
      "\u001b[1;31mThe kernel died. Error: /usr/bin/python3: No module named ipykernel_launcher... View Jupyter <a href='command:jupyter.viewOutput'>log</a> for further details."
     ]
    }
   ],
   "source": [
    "__file__ = 'erosion_and_dilation.ipynb'\n",
    "import sys\n",
    "import pathlib\n",
    "sys.path.append(str(pathlib.Path(__file__).absolute().parent.parent)+\"/FP7_lib\")\n",
    "#hallo\n",
    "import functions as f\n",
    "import os\n",
    "import numpy as np\n",
    "import matplotlib.pyplot as plt\n",
    "from pathlib import Path"
   ]
  },
  {
   "cell_type": "code",
   "execution_count": null,
   "metadata": {},
   "outputs": [
    {
     "ename": "",
     "evalue": "",
     "output_type": "error",
     "traceback": [
      "\u001b[1;31mDas Ausführen von Zellen mit „/bin/python“ erfordert das ipykernel-Paket.\n",
      "\u001b[1;31mFühren Sie den folgenden Befehl aus, um „ipykernel“ in der Python-Umgebung zu installieren. \n",
      "\u001b[1;31mBefehl: „/bin/python -m pip install ipykernel -U --user --force-reinstall“"
     ]
    }
   ],
   "source": [
    "data = []\n",
    "for file in os.listdir('Data'):\n",
    "        with open('Data/'+file, mode='r') as tf:\n",
    "            datain = np.genfromtxt(tf,delimiter=\"\\t\",skip_header=15).T\n",
    "            data.append([file.split('.')[0],datain[0],datain[1],np.sqrt(datain[1].clip(min=1))])\n",
    "            "
   ]
  },
  {
   "cell_type": "code",
   "execution_count": null,
   "metadata": {},
   "outputs": [
    {
     "ename": "",
     "evalue": "",
     "output_type": "error",
     "traceback": [
      "\u001b[1;31mDas Ausführen von Zellen mit „/bin/python“ erfordert das ipykernel-Paket.\n",
      "\u001b[1;31mFühren Sie den folgenden Befehl aus, um „ipykernel“ in der Python-Umgebung zu installieren. \n",
      "\u001b[1;31mBefehl: „/bin/python -m pip install ipykernel -U --user --force-reinstall“"
     ]
    }
   ],
   "source": [
    "anh = Path(\"Results/anhang.txt\")\n",
    "anh.touch()\n",
    "nf = open(anh,\"w\")\n",
    "\n",
    "dir = Path(\"Results/amplitudes.txt\")\n",
    "dir.touch()\n",
    "countrate = open(dir,\"w\")\n",
    "countrate.write(\"pressure\\tg1_amplitude\\tg1_amplitudeerr\\tg2_amplitude\\tg2_amplitudeerr\\tg3_amplitude\\tg3_amplitudeerr\\tg4_amplitude\\tg4_amplitudeerr\\n\")\n",
    "\n",
    "dir2 = Path(\"Results/center.txt\")\n",
    "dir2.touch()\n",
    "center = open(dir2,\"w\")\n",
    "center.write(\"pressure\\tg1_center\\tg1_centererr\\tg2_center\\tg2_centererr\\tg3_center\\tg3_centererr\\tg4_center\\tg4_centererr\\n\")"
   ]
  },
  {
   "cell_type": "code",
   "execution_count": null,
   "metadata": {},
   "outputs": [
    {
     "ename": "",
     "evalue": "",
     "output_type": "error",
     "traceback": [
      "\u001b[1;31mDas Ausführen von Zellen mit „/bin/python“ erfordert das ipykernel-Paket.\n",
      "\u001b[1;31mFühren Sie den folgenden Befehl aus, um „ipykernel“ in der Python-Umgebung zu installieren. \n",
      "\u001b[1;31mBefehl: „/bin/python -m pip install ipykernel -U --user --force-reinstall“"
     ]
    }
   ],
   "source": [
    "for i in data:\n",
    "\n",
    "    if i[0] == '55Torr':\n",
    "        res = f.gaus3fit(i,0,750,200,150,250,300,250,350,550,500,600)\n",
    "        torr55_3 = f.gaus_fit(i[0],3,res[0],res[1],res[2])\n",
    "        plt.savefig(\"Results/55Torr3.pdf\")\n",
    "        nf.write(f.gausfit_table(torr55_3))\n",
    "\n",
    "        res = f.gaus1fit(i,750,1300,1100,900,1200)\n",
    "        torr55_1 = f.gaus_fit(i[0],1,res[0],res[1],res[2])\n",
    "        plt.savefig(\"Results/55Torr1.pdf\")\n",
    "        nf.write(f.gausfit_table(torr55_1))\n",
    "\n",
    "\n",
    "\n",
    "        amp1,amp2,amp3,amp4 = torr55_3.out.params[\"g1_amplitude\"].value,torr55_3.out.params[\"g2_amplitude\"].value,torr55_3.out.params[\"g3_amplitude\"].value, torr55_1.out.params[\"amplitude\"].value\n",
    "        amperr1,amperr2,amperr3,amperr4 = torr55_3.out.params[\"g1_amplitude\"].stderr,torr55_3.out.params[\"g2_amplitude\"].stderr,torr55_3.out.params[\"g3_amplitude\"].stderr,torr55_1.out.params[\"amplitude\"].stderr\n",
    "       \n",
    "        center1,center2,center3,center4 = torr55_3.out.params[\"g1_center\"].value,torr55_3.out.params[\"g2_center\"].value,torr55_3.out.params[\"g3_center\"].value,'none'\n",
    "        centererr1,centererr2,centererr3,centererr4 = torr55_3.out.params[\"g1_center\"].stderr,torr55_3.out.params[\"g2_center\"].stderr,torr55_3.out.params[\"g3_center\"].stderr,'none'\n",
    "        \n",
    "        center.write(str(i[0].split(\"Torr\")[0])+\"\\t\"+str(center1)+\"\\t\"+str(centererr1)+\"\\t\"+str(center2)+\"\\t\"+str(centererr2)+\"\\t\"+str(center3)+\"\\t\"+str(centererr3)+\"\\t\"+str(center4)+\"\\t\"+str(centererr4)+\"\\n\")\n",
    "        countrate.write(str(i[0].split(\"Torr\")[0])+\"\\t\"+str(amp1)+\"\\t\"+str(amperr1)+\"\\t\"+str(amp2)+\"\\t\"+str(amperr2)+\"\\t\"+str(amp3)+\"\\t\"+str(amperr3)+\"\\t\"+str(amp4)+\"\\t\"+str(amperr4)+\"\\n\")\n",
    "\n",
    "    \n",
    "\n",
    "\n",
    "\n",
    "\n",
    "\n",
    "\n",
    "    if i[0] == '500Torr':\n",
    "        res = f.gaus1fit(i,0,1200)\n",
    "        torr500_1 = f.gaus_fit(i[0],1,res[0],res[1],res[2])\n",
    "        plt.savefig(\"Results/500Torr.pdf\")\n",
    "        nf.write(f.gausfit_table(torr500_1))\n",
    "\n",
    "\n",
    "\n",
    "\n",
    "nf.close()\n",
    "countrate.close()\n",
    "center.close()"
   ]
  },
  {
   "cell_type": "code",
   "execution_count": null,
   "metadata": {},
   "outputs": [
    {
     "ename": "",
     "evalue": "",
     "output_type": "error",
     "traceback": [
      "\u001b[1;31mDas Ausführen von Zellen mit „/bin/python“ erfordert das ipykernel-Paket.\n",
      "\u001b[1;31mFühren Sie den folgenden Befehl aus, um „ipykernel“ in der Python-Umgebung zu installieren. \n",
      "\u001b[1;31mBefehl: „/bin/python -m pip install ipykernel -U --user --force-reinstall“"
     ]
    }
   ],
   "source": []
  }
 ],
 "metadata": {
  "kernelspec": {
   "display_name": "Python 3 (ipykernel)",
   "language": "python",
   "name": "python3"
  },
  "orig_nbformat": 4,
  "vscode": {
   "interpreter": {
    "hash": "e7370f93d1d0cde622a1f8e1c04877d8463912d04d973331ad4851f04de6915a"
   }
  }
 },
 "nbformat": 4,
 "nbformat_minor": 2
}
